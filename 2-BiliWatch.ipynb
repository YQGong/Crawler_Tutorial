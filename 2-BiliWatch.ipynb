{
 "cells": [
  {
   "cell_type": "code",
   "execution_count": 1,
   "metadata": {},
   "outputs": [],
   "source": [
    "import requests\n",
    "import json\n",
    "import time\n",
    "import datetime\n",
    "import pickle"
   ]
  },
  {
   "cell_type": "code",
   "execution_count": 2,
   "metadata": {},
   "outputs": [],
   "source": [
    "mid=28496477\n",
    "ps=50 # less than 50\n",
    "\n",
    "header={\n",
    "    'Accept': 'text/html,application/xhtml+xml,application/xml;q=0.9,image/webp,image/apng,*/*;q=0.8'\n",
    "    ,'Accept-Encoding': 'gzip, deflate, br'\n",
    "    ,'Accept-Language': 'zh-CN,zh;q=0.9,en-US;q=0.8,en;q=0.7,ja;q=0.6,zh-TW;q=0.5'\n",
    "    ,'Cache-Control': 'max-age=0'\n",
    "    ,'Connection': 'keep-alive'\n",
    "    ,\"Cookie\": '_uuid=FCBD3D68-92C6-1A6D-21F6-7F377D90A7FC28472infoc; buvid3=877298D2-6E70-4FA5-B16B-02AEE30D81DA47182infoc; LIVE_BUVID=AUTO5015524604626949; sid=aji2fu27; DedeUserID=28496477; DedeUserID__ckMd5=2e5ba299124c7002; SESSDATA=58c69cf8%2C1555052476%2C44e14f31; bili_jct=2adee695f996a6300e0246ceca42ad3b; stardustvideo=1; CURRENT_FNVAL=16; UM_distinctid=16975e39c3b10-0e0dd272b927db-9333061-1fa400-16975e39c3c637; finger=b3372c5f; im_notify_type_28496477=0; rpdid=olkoiwpmopdossipmpwqw; fts=1552479768; CURRENT_QUALITY=16; _dfcaptcha=71dc094adfd535728855a6a3c620bf5a; bp_t_offset_28496477=232291588221860832'\n",
    "    ,'DNT': '1'\n",
    "    ,'Host': 'api.bilibili.com'\n",
    "    ,'Upgrade-Insecure-Requests': '1'\n",
    "    ,\"User-Agent\": \"Mozilla/5.0 (Windows NT 10.0; Win64; x64) AppleWebKit/537.36 (KHTML, like Gecko) Chrome/72.0.3626.119 Safari/537.36\"\n",
    "}\n",
    "\n",
    "def follower_url(pn):\n",
    "    return 'https://api.bilibili.com/x/relation/followers?vmid={}&pn={}&ps={}&order=desc'.format(mid,pn,ps)\n",
    "\n",
    "def following_url(pn):\n",
    "    return 'https://api.bilibili.com/x/relation/followings?vmid={}&pn={}&ps={}&order=desc'.format(mid,pn,ps)\n"
   ]
  },
  {
   "cell_type": "code",
   "execution_count": 3,
   "metadata": {
    "scrolled": true
   },
   "outputs": [
    {
     "name": "stdout",
     "output_type": "stream",
     "text": [
      "current page number : 1\n",
      "total : 161 following channels.\n",
      "total : 4 pages.\n",
      "current page number : 2\n",
      "current page number : 3\n",
      "current page number : 4\n",
      "total following : 161\n"
     ]
    }
   ],
   "source": [
    "print('current page number : {}'.format(1))\n",
    "r=requests.get(following_url(1),headers=header)\n",
    "total_followings=json.loads(r.text)['data']['total']\n",
    "total_pn=total_followings//ps+1\n",
    "print('total : {} following channels.'.format(total_followings))\n",
    "print('total : {} pages.'.format(total_pn))\n",
    "data=json.loads(r.text)['data']['list']\n",
    "user_dict={}\n",
    "for i in data:\n",
    "    user_dict[i['mid']]=i['uname']\n",
    "    \n",
    "for i in range(2,total_pn+1):\n",
    "    time.sleep(1)\n",
    "    print('current page number : {}'.format(i))\n",
    "    r=requests.get(following_url(i),headers=header)\n",
    "    data=json.loads(r.text)['data']['list']\n",
    "    for j in data:\n",
    "        user_dict[j['mid']]=j['uname']\n",
    "\n",
    "print('total following : {}'.format(len(list(user_dict.keys()))))"
   ]
  },
  {
   "cell_type": "code",
   "execution_count": 7,
   "metadata": {},
   "outputs": [
    {
     "data": {
      "text/plain": [
       "{8949437: '命里阿苦',\n",
       " 382592740: 'Bernice_坚果丁',\n",
       " 946974: '影视飓风',\n",
       " 38965308: 'EE不掉电',\n",
       " 10867865: '一只萌豌豆',\n",
       " 145149047: '小饭中年事件簿',\n",
       " 122962744: 'wuyudi119',\n",
       " 23797294: 'MakerBeta超能实验室',\n",
       " 14506388: '哎呀我去刘老师',\n",
       " 229855515: '扶小白',\n",
       " 12356419: '陆成允',\n",
       " 37090048: '哔哩哔哩创作中心',\n",
       " 28239752: '苍小天然呆bb',\n",
       " 164139557: '活蹦乱跳的肥曈',\n",
       " 16684380: '星云的关关关老师',\n",
       " 176074279: '花若怜落v在谁指尖',\n",
       " 39502322: '渣总攻花殇殇',\n",
       " 692233: 'OtatoB土豆',\n",
       " 11194922: 'Blues某奇',\n",
       " 11565406: 'NikkiMouse',\n",
       " 11722013: '爱玩客iVankr',\n",
       " 34531853: '口可-九',\n",
       " 14504493: '奚落Babyc',\n",
       " 20411778: '跑焦熊',\n",
       " 285766656: '来玩吉他',\n",
       " 31896720: '伯爵大大咧咧',\n",
       " 25120509: 'Moe153',\n",
       " 13354765: '徐大虾咯',\n",
       " 38416799: '好一把大菜刀',\n",
       " 43634508: '就是哈比',\n",
       " 34818804: 'Anduin2017',\n",
       " 15128959: '懵懵萌清酱w',\n",
       " 294081438: '摄影师顾俊',\n",
       " 353116: '步束',\n",
       " 315097420: '潇逸桑',\n",
       " 14174398: '我是鸽手君决',\n",
       " 7482932: '倾瓷v',\n",
       " 8406782: '阿若サン',\n",
       " 32283167: '而安yasu',\n",
       " 60526916: '-辛甘-',\n",
       " 197098: '菠萝赛东°',\n",
       " 14452610: 'Roro_Zhang',\n",
       " 14387072: '小可学妹',\n",
       " 14782032: '你滴忽嫂',\n",
       " 7961896: '荔枝呀qwq',\n",
       " 6102720: '优秀Nemi_',\n",
       " 33272276: '菠萝家的少年乖乖',\n",
       " 671698: '向晚青石',\n",
       " 8825789: '不会蝶泳的小鲨鱼',\n",
       " 2696516: '欧兰',\n",
       " 6639802: '陈哥1',\n",
       " 100988458: '隔壁红阿姨',\n",
       " 149422543: '几天之峻',\n",
       " 15424501: 'Mr曾经',\n",
       " 99367836: '小缘的企划部',\n",
       " 28178475: '霧繭hime莓',\n",
       " 18609890: '菠萝赛东的亚洲猛男',\n",
       " 3070855: '哆啦懵B_',\n",
       " 34817433: '墨尘yo',\n",
       " 10955537: '帅冷冷QuQ',\n",
       " 358578969: '木友之家辛全生',\n",
       " 353222099: 'zyglean',\n",
       " 1378528: '碘化亚铜',\n",
       " 1320523: '饭帅fun',\n",
       " 383444910: '尤超白',\n",
       " 21883315: '奇遇呆',\n",
       " 41482143: '小拍子呐',\n",
       " 27937634: 'i王老九',\n",
       " 113791: '迷路的牙刷',\n",
       " 290526283: '美食作家王刚R',\n",
       " 475961: '翼王',\n",
       " 29440965: '超级小桀的日常',\n",
       " 820583: '桌游林吃素',\n",
       " 500198: '水王怀特金',\n",
       " 102984190: '独立菌儿',\n",
       " 295711424: '神秘店长A',\n",
       " 1276787: '稚嫩的魔法师',\n",
       " 24014925: '正月点灯笼',\n",
       " 2059591: '性巴莎拉',\n",
       " 29102450: 'OK爱魔兽',\n",
       " 35359510: '远古时代装机猿',\n",
       " 25876945: '极客湾Geekerwan',\n",
       " 14734089: '卡卡Master丶',\n",
       " 233182076: 'Vfast',\n",
       " 684169: '茶理理理子',\n",
       " 803870: '狐妖Mikan',\n",
       " 12978791: '璞玉画歌',\n",
       " 17416517: '庄七',\n",
       " 38294246: '抖抖村',\n",
       " 1627779: '鱼仔一点都不困',\n",
       " 488744: 'Probe__',\n",
       " 125961549: '我是谁圧实度',\n",
       " 6479479: '不会飞的栗子球',\n",
       " 95910362: 'Sky_Of_War',\n",
       " 10856826: '除草标兵',\n",
       " 2654670: '狸子LePtC',\n",
       " 125526: '-LKs-',\n",
       " 203389736: 'TopGear',\n",
       " 731458: '大爱无情',\n",
       " 36322249: '叁夜子',\n",
       " 466272: '机智的党妹',\n",
       " 95295911: '班花湖里雅',\n",
       " 81481640: 'MalakScion',\n",
       " 14841652: '懵圈の馒头猫',\n",
       " 36279952: '汉特ハント',\n",
       " 9982481: '右小死',\n",
       " 7349: 'STN工作室',\n",
       " 808171: '吃素的狮子',\n",
       " 234782: '祈Inory',\n",
       " 90873: '内德维德',\n",
       " 223901: 'Valkyria111',\n",
       " 1467772: '封茗囧菌',\n",
       " 2164185: '啊湫今天早睡了吗',\n",
       " 4590552: '萌萌哒的白',\n",
       " 1575004: '丶MasterG',\n",
       " 39334147: '裕刺Fy',\n",
       " 3090403: '早木旋子',\n",
       " 3797626: 'WineQ圈9',\n",
       " 15641218: '笙歌替你做个梦OvO',\n",
       " 7706705: '阿梓从小就很可爱',\n",
       " 5632230: '罗小黑战记',\n",
       " 128428240: 'samstei',\n",
       " 1430143: '塚本故',\n",
       " 67141: 'C酱です',\n",
       " 5943503: 'Torchwaver',\n",
       " 227933: '坂本叔',\n",
       " 88461692: '3Blue1Brown',\n",
       " 123938419: '嘻咦啊看',\n",
       " 22808570: '美食家五叔',\n",
       " 423895: '怕上火暴王老菊',\n",
       " 184939: '蓝幻',\n",
       " 90084863: '怪盗PINKID',\n",
       " 31713369: 'sikana视频课堂',\n",
       " 92548700: '吧嗒运动',\n",
       " 17523297: 'D大调不低调',\n",
       " 1687102: '菇力帕君',\n",
       " 95701: '雨o夜o星辰',\n",
       " 4632044: '终曲Coda',\n",
       " 7283282: '梦觉教游泳',\n",
       " 28268189: '萝菽菽',\n",
       " 3098936: '苏肤佳TwT',\n",
       " 43536: '黑桐谷歌',\n",
       " 34858100: '瞎看什么',\n",
       " 11336264: 'TESTV官方频道',\n",
       " 5055: '小缘',\n",
       " 6565680: 'AdsKhalil',\n",
       " 282994: '泠鸢yousa',\n",
       " 19705503: '摸鱼社',\n",
       " 673816: '谜之声',\n",
       " 19221129: '华空太谷',\n",
       " 32130238: '心惯惯',\n",
       " 3382091: '存在或过长',\n",
       " 2494320: 'L君是杯具',\n",
       " 248926: '磐石',\n",
       " 9464562: 'Rockking吉他',\n",
       " 620666: '纳豆nado',\n",
       " 17496: 'SKYline',\n",
       " 284120: '三无Marblue',\n",
       " 1388774: '昨梦电羊',\n",
       " 10753901: '二珂呀呀呀',\n",
       " 179067: 'sakamakiryoryo',\n",
       " 25996049: '只弹琴l不谈情'}"
      ]
     },
     "execution_count": 7,
     "metadata": {},
     "output_type": "execute_result"
    }
   ],
   "source": [
    "user_dict"
   ]
  },
  {
   "cell_type": "code",
   "execution_count": 8,
   "metadata": {},
   "outputs": [],
   "source": [
    "file_name='data/'+str(datetime.date.today())+'following.data'\n",
    "with open(file_name,'wb') as f:\n",
    "    pickle.dump(user_dict,f)"
   ]
  },
  {
   "cell_type": "code",
   "execution_count": 4,
   "metadata": {},
   "outputs": [],
   "source": [
    "with open('data/{:0>4d}-{:0>2d}-{:0>2d}following.data'.format(2019,4,10),'rb') as f:\n",
    "    test=pickle.load(f)"
   ]
  },
  {
   "cell_type": "code",
   "execution_count": 11,
   "metadata": {},
   "outputs": [],
   "source": [
    "def cmp(dict1,dict2):\n",
    "    diff_1={}\n",
    "    diff_2={}\n",
    "    for i in dict1.keys():\n",
    "        #print(i)\n",
    "        try:\n",
    "            dict2[i]\n",
    "        except:\n",
    "            diff_1[i]=dict1[i]\n",
    "\n",
    "    for i in dict2.keys():\n",
    "        #print(i)\n",
    "        try:\n",
    "            dict1[i]\n",
    "        except:\n",
    "            diff_2[i]=dict2[i]\n",
    "    \n",
    "    return [diff_1,diff_2]"
   ]
  },
  {
   "cell_type": "code",
   "execution_count": 12,
   "metadata": {},
   "outputs": [
    {
     "data": {
      "text/plain": [
       "[{}, {}]"
      ]
     },
     "execution_count": 12,
     "metadata": {},
     "output_type": "execute_result"
    }
   ],
   "source": [
    "cmp(test,user_dict)"
   ]
  },
  {
   "cell_type": "code",
   "execution_count": 5,
   "metadata": {},
   "outputs": [
    {
     "data": {
      "text/plain": [
       "{2059591}"
      ]
     },
     "execution_count": 5,
     "metadata": {},
     "output_type": "execute_result"
    }
   ],
   "source": [
    "set(test.keys())-set(user_dict.keys())"
   ]
  },
  {
   "cell_type": "code",
   "execution_count": null,
   "metadata": {},
   "outputs": [],
   "source": []
  }
 ],
 "metadata": {
  "kernelspec": {
   "display_name": "Python 3",
   "language": "python",
   "name": "python3"
  },
  "language_info": {
   "codemirror_mode": {
    "name": "ipython",
    "version": 3
   },
   "file_extension": ".py",
   "mimetype": "text/x-python",
   "name": "python",
   "nbconvert_exporter": "python",
   "pygments_lexer": "ipython3",
   "version": "3.6.8"
  }
 },
 "nbformat": 4,
 "nbformat_minor": 2
}
