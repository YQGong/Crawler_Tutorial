{
 "cells": [
  {
   "cell_type": "code",
   "execution_count": 1,
   "metadata": {},
   "outputs": [],
   "source": [
    "import requests\n",
    "import json\n",
    "import pprint\n",
    "import random"
   ]
  },
  {
   "cell_type": "code",
   "execution_count": 2,
   "metadata": {
    "scrolled": false
   },
   "outputs": [],
   "source": [
    "r = requests.get('https://api.bilibili.com/x/v2/reply?jsonp=jsonp&pn={}&type=1&oid=45323404&sort=0&_=1551710956216'.format(1))\n",
    "data=json.loads(r.text)\n",
    "total_pages=(data['data']['page']['count']-1)//20+1\n",
    "user_map={}\n",
    "for page in range(1,total_pages+1):\n",
    "    r = requests.get('https://api.bilibili.com/x/v2/reply?jsonp=jsonp&pn={}&type=1&oid=45323404&sort=0&_=1551710956216'.format(page))\n",
    "    data=json.loads(r.text)\n",
    "    for i in data['data']['replies']:\n",
    "        #pprint.pprint(i['replies'])\n",
    "        user_map[i['member']['mid']]=i['member']['uname']\n",
    "        if i['replies']!=None:\n",
    "            for j in i['replies']:\n",
    "                #pprint.pprint(j['member'])\n",
    "                user_map[j['member']['mid']]=j['member']['uname']"
   ]
  },
  {
   "cell_type": "code",
   "execution_count": 3,
   "metadata": {
    "scrolled": false
   },
   "outputs": [
    {
     "data": {
      "text/plain": [
       "{'13718759': '余辰Phoenix',\n",
       " '23551614': '梨涡涡咩',\n",
       " '302664507': '抖抖呆',\n",
       " '207398092': '薄荷酒仙',\n",
       " '18563628': '白肚子考拉',\n",
       " '33545994': '酒酒酒不吞',\n",
       " '28496477': '大野喵渣',\n",
       " '42553036': '要努力的zb',\n",
       " '277678221': '西瓜游泳',\n",
       " '106907174': '沉默是金这句话沉甸甸的',\n",
       " '177326654': '-눈_눈-',\n",
       " '383413436': 'Apd豪',\n",
       " '25952238': '二少爷HZ',\n",
       " '294687235': '监控中心摄像头',\n",
       " '71158755': '耿钰龙',\n",
       " '310931362': '绿水浮沉',\n",
       " '13524813': '张小槐',\n",
       " '38068450': '傲娇小洁洁',\n",
       " '20002335': 'zwbphy',\n",
       " '378514171': '杭州小海豹',\n",
       " '108213007': '北雪飘若风',\n",
       " '13042728': '1832211056qqcom',\n",
       " '8629138': 'salient_',\n",
       " '68122226': '含灵巨迪',\n",
       " '223901': 'Valkyria111',\n",
       " '11913036': '尤超黑',\n",
       " '18612392': 'F·Torres',\n",
       " '11297943': '一切有为法如梦幻泡影',\n",
       " '8825789': '不会蝶泳的小鲨鱼',\n",
       " '15128959': '懵懵萌清酱w',\n",
       " '11218223': 'Molfin',\n",
       " '253526513': '我是Afu啊',\n",
       " '131955565': 'edminton'}"
      ]
     },
     "execution_count": 3,
     "metadata": {},
     "output_type": "execute_result"
    }
   ],
   "source": [
    "user_map"
   ]
  },
  {
   "cell_type": "code",
   "execution_count": 5,
   "metadata": {},
   "outputs": [
    {
     "name": "stdout",
     "output_type": "stream",
     "text": [
      "幸运观众id：8629138，昵称：salient蛤\n"
     ]
    }
   ],
   "source": [
    "lucky_user_i=random.choice(list(user_map))\n",
    "print('幸运观众id：{}，昵称：{}'.format(lucky_user_i,user_map[lucky_user_i]))"
   ]
  },
  {
   "cell_type": "code",
   "execution_count": null,
   "metadata": {},
   "outputs": [],
   "source": []
  }
 ],
 "metadata": {
  "kernelspec": {
   "display_name": "Python 3",
   "language": "python",
   "name": "python3"
  },
  "language_info": {
   "codemirror_mode": {
    "name": "ipython",
    "version": 3
   },
   "file_extension": ".py",
   "mimetype": "text/x-python",
   "name": "python",
   "nbconvert_exporter": "python",
   "pygments_lexer": "ipython3",
   "version": "3.6.5"
  }
 },
 "nbformat": 4,
 "nbformat_minor": 2
}
