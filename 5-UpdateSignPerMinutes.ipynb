{
 "cells": [
  {
   "cell_type": "code",
   "execution_count": 1,
   "metadata": {},
   "outputs": [],
   "source": [
    "import requests\n",
    "import time\n",
    "import pytz\n",
    "import datetime\n",
    "import schedule"
   ]
  },
  {
   "cell_type": "code",
   "execution_count": 2,
   "metadata": {},
   "outputs": [],
   "source": [
    "def currentTimeStamp():\n",
    "    return int(time.mktime(datetime.datetime.now().timetuple()))\n",
    "def timeStampToTime(timestamp,tz='Asia/Shanghai'):\n",
    "    return datetime.datetime.fromtimestamp(timestamp,pytz.timezone(tz))"
   ]
  },
  {
   "cell_type": "code",
   "execution_count": 3,
   "metadata": {},
   "outputs": [],
   "source": [
    "sign_url='https://api.live.bilibili.com/sign/doSign'\n",
    "\n",
    "myinfo_url='https://api.bilibili.com/x/space/myinfo'\n",
    "\n",
    "headers={\n",
    "    'Accept': 'text/html,application/xhtml+xml,application/xml;q=0.9,image/webp,image/apng,*/*;q=0.8,application/signed-exchange;v=b3',\n",
    "    'Accept-Encoding': 'gzip, deflate, br',\n",
    "    'Accept-Language': 'zh-CN,zh;q=0.9,en-US;q=0.8,en;q=0.7,ja;q=0.6,zh-TW;q=0.5',\n",
    "    'Cache-Control': 'max-age=0',\n",
    "    'Connection': 'keep-alive',\n",
    "    'Cookie': 'buvid3=877298D2-6E70-4FA5-B16B-02AEE30D81DA47182infoc; sid=aji2fu27; stardustvideo=1; CURRENT_FNVAL=16; UM_distinctid=16975e39c3b10-0e0dd272b927db-9333061-1fa400-16975e39c3c637; finger=b3372c5f; im_notify_type_28496477=0; rpdid=olkoiwpmopdossipmpwqw; fts=1552479768; DedeUserID=28496477; DedeUserID__ckMd5=2e5ba299124c7002; SESSDATA=6b0ad0e5%2C1555606512%2Cad1a4331; bili_jct=c6cf1489771270cbf90650490864b180; LIVE_BUVID=7af7d6f17bb8165def3e8523a8dacccc; LIVE_BUVID__ckMd5=f4f62aa5d091da2c; im_local_unread_28496477=0; im_seqno_28496477=1582; CURRENT_QUALITY=80; _dfcaptcha=1a46e3f4544532f1723233a71955d887; bp_t_offset_28496477=238499770176313536; Hm_lvt_8a6e55dbd2870f0f5bc9194cddf32a02=1554303688,1554309501,1554368499,1554369249; Hm_lpvt_8a6e55dbd2870f0f5bc9194cddf32a02=1554369249',\n",
    "    'DNT': '1',\n",
    "    'Host': 'api.live.bilibili.com',\n",
    "    'Upgrade-Insecure-Requests': '1',\n",
    "    'User-Agent': 'Mozilla/5.0 (Windows NT 10.0; Win64; x64) AppleWebKit/537.36 (KHTML, like Gecko) Chrome/73.0.3683.86 Safari/537.36'}\n"
   ]
  },
  {
   "cell_type": "code",
   "execution_count": 27,
   "metadata": {},
   "outputs": [],
   "source": [
    "r= requests.get(sign_url,headers=headers).json()"
   ]
  },
  {
   "cell_type": "code",
   "execution_count": 28,
   "metadata": {},
   "outputs": [
    {
     "data": {
      "text/plain": [
       "{'code': -500, 'msg': '今天已签到过', 'message': '今天已签到过', 'data': []}"
      ]
     },
     "execution_count": 28,
     "metadata": {},
     "output_type": "execute_result"
    }
   ],
   "source": [
    "r"
   ]
  },
  {
   "cell_type": "code",
   "execution_count": 4,
   "metadata": {},
   "outputs": [],
   "source": [
    "update_sign_url='https://api.bilibili.com/x/member/web/sign/update'\n",
    "\n",
    "headers_post={\n",
    "    \n",
    "    'Accept-Encoding': 'gzip, deflate, br',\n",
    "    'Accept-Language': 'zh-CN,zh;q=0.9,en-US;q=0.8,en;q=0.7,ja;q=0.6,zh-TW;q=0.5',\n",
    "    'Cache-Control': 'max-age=0',\n",
    "    'Cookie': 'buvid3=877298D2-6E70-4FA5-B16B-02AEE30D81DA47182infoc; sid=aji2fu27; stardustvideo=1; CURRENT_FNVAL=16; UM_distinctid=16975e39c3b10-0e0dd272b927db-9333061-1fa400-16975e39c3c637; finger=b3372c5f; im_notify_type_28496477=0; rpdid=olkoiwpmopdossipmpwqw; fts=1552479768; DedeUserID=28496477; DedeUserID__ckMd5=2e5ba299124c7002; SESSDATA=6b0ad0e5%2C1555606512%2Cad1a4331; bili_jct=c6cf1489771270cbf90650490864b180; LIVE_BUVID=7af7d6f17bb8165def3e8523a8dacccc; LIVE_BUVID__ckMd5=f4f62aa5d091da2c; im_local_unread_28496477=0; im_seqno_28496477=1582; CURRENT_QUALITY=80; _dfcaptcha=1a46e3f4544532f1723233a71955d887; bp_t_offset_28496477=238499770176313536; Hm_lvt_8a6e55dbd2870f0f5bc9194cddf32a02=1554303688,1554309501,1554368499,1554369249; Hm_lpvt_8a6e55dbd2870f0f5bc9194cddf32a02=1554369249',\n",
    "    'Upgrade-Insecure-Requests': '1',\n",
    "    \n",
    "    \n",
    "    'Accept': 'application/json, text/plain, */*',\n",
    "    'Content-Type': 'application/x-www-form-urlencoded',\n",
    "    'DNT': '1',\n",
    "    'Origin': 'https://space.bilibili.com',\n",
    "    'Referer': 'https://space.bilibili.com/28496477',\n",
    "    'User-Agent': 'Mozilla/5.0 (Windows NT 10.0; Win64; x64) AppleWebKit/537.36 (KHTML, like Gecko) Chrome/73.0.3683.86 Safari/537.36'\n",
    "}\n",
    "\n",
    "def data(message):\n",
    "    return {\n",
    "    'user_sign': message,\n",
    "    'jsonp': 'jsonp',\n",
    "    'csrf': 'c6cf1489771270cbf90650490864b180'\n",
    "}"
   ]
  },
  {
   "cell_type": "code",
   "execution_count": 114,
   "metadata": {},
   "outputs": [],
   "source": [
    "r = requests.post(update_sign_url,headers=headers_post,data=data('充值送礼一概不退！！！充钱请三思。'+str(currentTimeStamp())))"
   ]
  },
  {
   "cell_type": "code",
   "execution_count": 115,
   "metadata": {},
   "outputs": [
    {
     "data": {
      "text/plain": [
       "'{\"code\":0,\"message\":\"0\",\"ttl\":1}'"
      ]
     },
     "execution_count": 115,
     "metadata": {},
     "output_type": "execute_result"
    }
   ],
   "source": [
    "r.text"
   ]
  },
  {
   "cell_type": "code",
   "execution_count": 5,
   "metadata": {},
   "outputs": [
    {
     "data": {
      "text/plain": [
       "'晚上打算怎么浪！2019-04-04 19:09'"
      ]
     },
     "execution_count": 5,
     "metadata": {},
     "output_type": "execute_result"
    }
   ],
   "source": [
    "r= requests.get(myinfo_url,headers=headers_post).json()\n",
    "r['data']['sign']"
   ]
  },
  {
   "cell_type": "code",
   "execution_count": 125,
   "metadata": {},
   "outputs": [
    {
     "name": "stdout",
     "output_type": "stream",
     "text": [
      "not changed.\n",
      "time past : 2 s\n"
     ]
    }
   ],
   "source": [
    "start_timestamp=currentTimeStamp()\n",
    "\n",
    "r = requests.post(update_sign_url,headers=headers_post,data=data('充值送礼一概不退！！！充钱请三思。1'))\n",
    "r= requests.get(myinfo_url,headers=headers_post).json()\n",
    "old_sign=r['data']['sign']\n",
    "new_sign=''\n",
    "while new_sign!=old_sign:\n",
    "    print('not changed.')\n",
    "    r= requests.get(myinfo_url,headers=headers_post).json()\n",
    "    new_sign=r['data']['sign']\n",
    "    time.sleep(1)\n",
    "\n",
    "end_timestamp=currentTimeStamp()\n",
    "\n",
    "time_past=end_timestamp-start_timestamp\n",
    "print('time past : {} s'.format(time_past))"
   ]
  },
  {
   "cell_type": "code",
   "execution_count": null,
   "metadata": {},
   "outputs": [],
   "source": []
  },
  {
   "cell_type": "code",
   "execution_count": 5,
   "metadata": {},
   "outputs": [],
   "source": [
    "surfix_offset=16\n",
    "mytimezone=8\n",
    "seconds_offset=10\n",
    "\n",
    "def getCurrentTime():\n",
    "    return str(datetime.datetime.now(datetime.timezone(datetime.timedelta(hours=mytimezone)))+datetime.timedelta(seconds=seconds_offset))[:surfix_offset]\n",
    "\n",
    "def getCurrentHour():\n",
    "    return datetime.datetime.now(datetime.timezone(datetime.timedelta(hours=mytimezone))).hour\n",
    "    \n",
    "def getPrefix(hour,interval,message):\n",
    "    i=0\n",
    "    hour=hour%24\n",
    "#     print('hour:{},i:{},interval[i]:{}'.format(hour,i,interval[i]))\n",
    "    while hour>=interval[i] and i<len(message):\n",
    "#         print('hour:{},i:{},interval[i]:{}'.format(hour,i,interval[i]))\n",
    "        i+=1\n",
    "    return message[i]\n",
    "\n",
    "def postCurrentTime(interval,message):\n",
    "    prefix=getPrefix(getCurrentHour(),interval,message)\n",
    "    sign_post=prefix+str(getCurrentTime())\n",
    "#     print('posted sign:'+sign_post)\n",
    "    r = requests.post(update_sign_url,headers=headers_post,data=data(sign_post))"
   ]
  },
  {
   "cell_type": "code",
   "execution_count": 6,
   "metadata": {},
   "outputs": [
    {
     "data": {
      "text/plain": [
       "Every 1 minute at 00:00:55 do postCurrentTime([0, 5, 11, 14, 18, 22, 24], ['该睡觉了，亲。', '这么晚还不睡觉，刷啥B站！！！', '早上好呀小可爱。', '中午好。', '下午好。', '晚上打算怎么浪！', '该睡觉了亲。']) (last run: [never], next run: 2019-04-04 11:16:55)"
      ]
     },
     "execution_count": 6,
     "metadata": {},
     "output_type": "execute_result"
    }
   ],
   "source": [
    "interval=[0,5,11,14,18,22,24]\n",
    "message=[\n",
    "    '该睡觉了，亲。',\n",
    "    '这么晚还不睡觉，刷啥B站！！！',\n",
    "    '早上好呀小可爱。',\n",
    "    '中午好。',\n",
    "    '下午好。',\n",
    "    '晚上打算怎么浪！',\n",
    "    '该睡觉了亲。'\n",
    "]\n",
    "postCurrentTime(interval,message)\n",
    "schedule.every().minutes.at(':55').do(postCurrentTime,interval,message)"
   ]
  },
  {
   "cell_type": "code",
   "execution_count": null,
   "metadata": {},
   "outputs": [],
   "source": [
    "while True:\n",
    "    schedule.run_pending()\n",
    "    time.sleep(1)"
   ]
  },
  {
   "cell_type": "code",
   "execution_count": null,
   "metadata": {},
   "outputs": [],
   "source": []
  }
 ],
 "metadata": {
  "kernelspec": {
   "display_name": "Python 3",
   "language": "python",
   "name": "python3"
  },
  "language_info": {
   "codemirror_mode": {
    "name": "ipython",
    "version": 3
   },
   "file_extension": ".py",
   "mimetype": "text/x-python",
   "name": "python",
   "nbconvert_exporter": "python",
   "pygments_lexer": "ipython3",
   "version": "3.6.5"
  }
 },
 "nbformat": 4,
 "nbformat_minor": 2
}
