{
 "cells": [
  {
   "cell_type": "code",
   "execution_count": 1,
   "metadata": {},
   "outputs": [],
   "source": [
    "import websocket\n",
    "import json\n",
    "import zlib\n",
    "try:\n",
    "    import thread\n",
    "except ImportError:\n",
    "    import _thread as thread\n",
    "import time\n",
    "import pickle\n",
    "import datetime,os\n",
    "\n",
    "import win32com.client\n",
    "import re\n",
    "\n",
    "import queue"
   ]
  },
  {
   "cell_type": "code",
   "execution_count": 2,
   "metadata": {},
   "outputs": [],
   "source": [
    "websocket_url='wss://ks-live-dmcmt-bj6-pm-01.chat.bilibili.com/sub'\n",
    "\n",
    "send1=[ 0x00, 0x00, 0x00, 0x6D, 0x00, 0x10, 0x00, 0x01, 0x00, 0x00, 0x00, 0x07, 0x00, 0x00, 0x00, 0x01, 0x7B, 0x22, 0x75, 0x69, 0x64, 0x22, 0x3A, 0x32, 0x38, 0x34, 0x39, 0x36, 0x34, 0x37, 0x37, 0x2C, 0x22, 0x72, 0x6F, 0x6F, 0x6D, 0x69, 0x64, 0x22, 0x3A, 0x31, 0x34, 0x37, 0x30, 0x37, 0x34, 0x39, 0x35, 0x2C, 0x22, 0x70, 0x72, 0x6F, 0x74, 0x6F, 0x76, 0x65, 0x72, 0x22, 0x3A, 0x32, 0x2C, 0x22, 0x70, 0x6C, 0x61, 0x74, 0x66, 0x6F, 0x72, 0x6D, 0x22, 0x3A, 0x22, 0x77, 0x65, 0x62, 0x22, 0x2C, 0x22, 0x63, 0x6C, 0x69, 0x65, 0x6E, 0x74, 0x76, 0x65, 0x72, 0x22, 0x3A, 0x22, 0x31, 0x2E, 0x36, 0x2E, 0x33, 0x22, 0x2C, 0x22, 0x74, 0x79, 0x70, 0x65, 0x22, 0x3A, 0x32, 0x7D ]\n",
    "send2=[ 0x00, 0x00, 0x00, 0x1F, 0x00, 0x10, 0x00, 0x01, 0x00, 0x00, 0x00, 0x02, 0x00, 0x00, 0x00, 0x01, 0x5B, 0x6F, 0x62, 0x6A, 0x65, 0x63, 0x74, 0x20, 0x4F, 0x62, 0x6A, 0x65, 0x63, 0x74, 0x5D ]"
   ]
  },
  {
   "cell_type": "code",
   "execution_count": 3,
   "metadata": {},
   "outputs": [],
   "source": [
    "user_gift_dir='D:/OneDrive/其他/直播相关/program/database/user_gift.pkl'\n",
    "user_name_speak_dir='D:/OneDrive/其他/直播相关/program/database/user_name_speak.pkl'\n",
    "log_dir='D:\\OneDrive\\其他\\直播相关\\program\\log.txt'\n",
    "def name_dir(i):\n",
    "    return 'D:\\OneDrive\\其他\\直播相关\\program\\\\name_{}.txt'.format(i)"
   ]
  },
  {
   "cell_type": "code",
   "execution_count": 4,
   "metadata": {},
   "outputs": [],
   "source": [
    "def decode_json(msg):\n",
    "    return json.loads(msg[16:])\n",
    "def decomp(msg):\n",
    "    try:\n",
    "        return zlib.decompress(msg[16:])\n",
    "    except Exception:\n",
    "        print('error in decomp : {}'.format(msg[16:]))\n",
    "\n",
    "def decode_msg(msg,debug=False):\n",
    "    if debug:\n",
    "        print(msg)\n",
    "    if len(msg)==16:\n",
    "        return []\n",
    "    if len(msg)==20:\n",
    "        print('当前观众：{}'.format(int.from_bytes(msg[16:], byteorder='big')))\n",
    "        return []\n",
    "    try:\n",
    "        return [decode_json(msg)]\n",
    "    except Exception:\n",
    "        temp = decomp(msg)\n",
    "#         print(split_jsons(temp))\n",
    "        return [json.loads(i) for i in split_jsons(temp)]\n",
    "    \n",
    "def split_jsons(test_msg_4):\n",
    "    activate=1\n",
    "    stack=0\n",
    "    start=[]\n",
    "    end=[]\n",
    "    escape=0\n",
    "    i=16\n",
    "    while i<len(test_msg_4):\n",
    "#         print('i={},msg[i]={},stack={}'.format(i,bytes([test_msg_4[i]]),stack))\n",
    "        if test_msg_4[i]==34 and escape%2!=1:\n",
    "            activate=1-activate\n",
    "            i+=1\n",
    "            continue\n",
    "        if test_msg_4[i]==92:\n",
    "            escape+=1\n",
    "        else:\n",
    "            escape=0\n",
    "        if activate:\n",
    "            if test_msg_4[i]==123:\n",
    "                if stack==0:\n",
    "                    start.append(i)\n",
    "                stack+=1\n",
    "            if test_msg_4[i]==125:\n",
    "                stack-=1\n",
    "                if stack==0:\n",
    "                    end.append(i)\n",
    "                    i+=16\n",
    "        i+=1\n",
    "    result=[]\n",
    "    for i2 in range(len(start)):\n",
    "        try:\n",
    "            result.append(test_msg_4[start[i2]:end[i2]+1])\n",
    "        except Exception:\n",
    "            print('error while append bytes to result at split_jsons.')\n",
    "            print('start & end : {},{}'.format(start,end))\n",
    "            print('msg : \\n{}'.format(test_msg_4))\n",
    "    return result"
   ]
  },
  {
   "cell_type": "code",
   "execution_count": null,
   "metadata": {},
   "outputs": [],
   "source": []
  }
 ],
 "metadata": {
  "kernelspec": {
   "display_name": "Python 3",
   "language": "python",
   "name": "python3"
  },
  "language_info": {
   "codemirror_mode": {
    "name": "ipython",
    "version": 3
   },
   "file_extension": ".py",
   "mimetype": "text/x-python",
   "name": "python",
   "nbconvert_exporter": "python",
   "pygments_lexer": "ipython3",
   "version": "3.6.5"
  }
 },
 "nbformat": 4,
 "nbformat_minor": 2
}
