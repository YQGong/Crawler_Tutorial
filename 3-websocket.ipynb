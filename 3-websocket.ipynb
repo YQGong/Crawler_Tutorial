{
 "cells": [
  {
   "cell_type": "code",
   "execution_count": 7,
   "metadata": {},
   "outputs": [],
   "source": [
    "import websocket\n",
    "from websocket import WebSocketTimeoutException"
   ]
  },
  {
   "cell_type": "code",
   "execution_count": 2,
   "metadata": {},
   "outputs": [],
   "source": [
    "ws_url='wss://broadcast.chat.bilibili.com:7823/sub'\n",
    "\n",
    "up_1=[ 0x00, 0x00, 0x00, 0x5B, 0x00, 0x12, 0x00, 0x01, 0x00, 0x00, 0x00, 0x07, 0x00, 0x00, 0x00, 0x01, 0x00, 0x00, 0x7B, 0x22, 0x72, 0x6F, 0x6F, 0x6D, 0x5F, 0x69, 0x64, 0x22, 0x3A, 0x22, 0x76, 0x69, 0x64, 0x65, 0x6F, 0x3A, 0x2F, 0x2F, 0x34, 0x37, 0x32, 0x37, 0x35, 0x36, 0x38, 0x38, 0x2F, 0x38, 0x32, 0x37, 0x39, 0x31, 0x37, 0x30, 0x32, 0x22, 0x2C, 0x22, 0x70, 0x6C, 0x61, 0x74, 0x66, 0x6F, 0x72, 0x6D, 0x22, 0x3A, 0x22, 0x77, 0x65, 0x62, 0x22, 0x2C, 0x22, 0x61, 0x63, 0x63, 0x65, 0x70, 0x74, 0x73, 0x22, 0x3A, 0x5B, 0x31, 0x30, 0x30, 0x30, 0x5D, 0x7D ]\n",
    "\n",
    "up_2=[ 0x00, 0x00, 0x00, 0x21, 0x00, 0x12, 0x00, 0x01, 0x00, 0x00, 0x00, 0x02, 0x00, 0x00, 0x00, 0x02, 0x00, 0x00, 0x5B, 0x6F, 0x62, 0x6A, 0x65, 0x63, 0x74, 0x20, 0x4F, 0x62, 0x6A, 0x65, 0x63, 0x74, 0x5D ]"
   ]
  },
  {
   "cell_type": "code",
   "execution_count": 3,
   "metadata": {},
   "outputs": [],
   "source": [
    "def get_online(line):\n",
    "    base=line.find(b'\"online\":')\n",
    "    if base!=-1:\n",
    "        offset=line[base+9:].find(b',')\n",
    "        return int(line[base+9:base+9+offset])\n",
    "    return -1"
   ]
  },
  {
   "cell_type": "code",
   "execution_count": 9,
   "metadata": {},
   "outputs": [
    {
     "data": {
      "text/plain": [
       "97"
      ]
     },
     "execution_count": 9,
     "metadata": {},
     "output_type": "execute_result"
    }
   ],
   "source": [
    "ws=websocket.create_connection(ws_url,timeout=10)\n",
    "ws.send(bytes(up_1))"
   ]
  },
  {
   "cell_type": "code",
   "execution_count": null,
   "metadata": {},
   "outputs": [
    {
     "name": "stdout",
     "output_type": "stream",
     "text": [
      "7837\n",
      "7836\n",
      "-1\n",
      "-1\n",
      "7836\n",
      "7804\n",
      "-1\n",
      "-1\n",
      "7795\n",
      "-1\n",
      "7795\n",
      "-1\n",
      "-1\n",
      "-1\n",
      "7795\n"
     ]
    }
   ],
   "source": [
    "ws.recv()\n",
    "ws.send(bytes(up_2))\n",
    "while True:\n",
    "    try:\n",
    "        recv=ws.recv()\n",
    "    except WebSocketTimeoutException:\n",
    "        print('sending new message')\n",
    "        ws.send(bytes(up_2))\n",
    "        recv=ws.recv()\n",
    "    online=get_online(recv)\n",
    "    # if(online!=-1):\n",
    "    print(online)"
   ]
  },
  {
   "cell_type": "code",
   "execution_count": null,
   "metadata": {},
   "outputs": [],
   "source": []
  }
 ],
 "metadata": {
  "kernelspec": {
   "display_name": "Python 3",
   "language": "python",
   "name": "python3"
  },
  "language_info": {
   "codemirror_mode": {
    "name": "ipython",
    "version": 3
   },
   "file_extension": ".py",
   "mimetype": "text/x-python",
   "name": "python",
   "nbconvert_exporter": "python",
   "pygments_lexer": "ipython3",
   "version": "3.6.8"
  }
 },
 "nbformat": 4,
 "nbformat_minor": 2
}
