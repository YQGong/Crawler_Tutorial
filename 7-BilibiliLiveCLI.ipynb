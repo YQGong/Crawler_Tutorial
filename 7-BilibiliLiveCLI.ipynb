{
 "cells": [
  {
   "cell_type": "code",
   "execution_count": 33,
   "metadata": {},
   "outputs": [],
   "source": [
    "import websocket\n",
    "import json\n",
    "import zlib\n",
    "import time\n",
    "import pickle\n",
    "import datetime,os\n",
    "\n",
    "try:\n",
    "    import thread\n",
    "except ImportError:\n",
    "    import _thread as thread\n",
    "\n",
    "import win32com.client\n",
    "import re\n",
    "\n",
    "import queue"
   ]
  },
  {
   "cell_type": "code",
   "execution_count": 34,
   "metadata": {},
   "outputs": [],
   "source": [
    "websocket_url='wss://ks-live-dmcmt-bj6-pm-01.chat.bilibili.com/sub'\n",
    "\n",
    "# 尤超白\n",
    "# send1=[ 0x00, 0x00, 0x00, 0x6D, 0x00, 0x10, 0x00, 0x01, 0x00, 0x00, 0x00, 0x07, 0x00, 0x00, 0x00, 0x01, 0x7B, 0x22, 0x75, 0x69, 0x64, 0x22, 0x3A, 0x32, 0x38, 0x34, 0x39, 0x36, 0x34, 0x37, 0x37, 0x2C, 0x22, 0x72, 0x6F, 0x6F, 0x6D, 0x69, 0x64, 0x22, 0x3A, 0x31, 0x34, 0x37, 0x30, 0x37, 0x34, 0x39, 0x35, 0x2C, 0x22, 0x70, 0x72, 0x6F, 0x74, 0x6F, 0x76, 0x65, 0x72, 0x22, 0x3A, 0x32, 0x2C, 0x22, 0x70, 0x6C, 0x61, 0x74, 0x66, 0x6F, 0x72, 0x6D, 0x22, 0x3A, 0x22, 0x77, 0x65, 0x62, 0x22, 0x2C, 0x22, 0x63, 0x6C, 0x69, 0x65, 0x6E, 0x74, 0x76, 0x65, 0x72, 0x22, 0x3A, 0x22, 0x31, 0x2E, 0x36, 0x2E, 0x33, 0x22, 0x2C, 0x22, 0x74, 0x79, 0x70, 0x65, 0x22, 0x3A, 0x32, 0x7D ]\n",
    "# 大野喵渣\n",
    "send1=[ 0x00, 0x00, 0x00, 0x6C, 0x00, 0x10, 0x00, 0x01, 0x00, 0x00, 0x00, 0x07, 0x00, 0x00, 0x00, 0x01, 0x7B, 0x22, 0x75, 0x69, 0x64, 0x22, 0x3A, 0x32, 0x38, 0x34, 0x39, 0x36, 0x34, 0x37, 0x37, 0x2C, 0x22, 0x72, 0x6F, 0x6F, 0x6D, 0x69, 0x64, 0x22, 0x3A, 0x31, 0x38, 0x39, 0x39, 0x38, 0x34, 0x31, 0x2C, 0x22, 0x70, 0x72, 0x6F, 0x74, 0x6F, 0x76, 0x65, 0x72, 0x22, 0x3A, 0x32, 0x2C, 0x22, 0x70, 0x6C, 0x61, 0x74, 0x66, 0x6F, 0x72, 0x6D, 0x22, 0x3A, 0x22, 0x77, 0x65, 0x62, 0x22, 0x2C, 0x22, 0x63, 0x6C, 0x69, 0x65, 0x6E, 0x74, 0x76, 0x65, 0x72, 0x22, 0x3A, 0x22, 0x31, 0x2E, 0x36, 0x2E, 0x33, 0x22, 0x2C, 0x22, 0x74, 0x79, 0x70, 0x65, 0x22, 0x3A, 0x32, 0x7D ]\n",
    "send2=[ 0x00, 0x00, 0x00, 0x1F, 0x00, 0x10, 0x00, 0x01, 0x00, 0x00, 0x00, 0x02, 0x00, 0x00, 0x00, 0x01, 0x5B, 0x6F, 0x62, 0x6A, 0x65, 0x63, 0x74, 0x20, 0x4F, 0x62, 0x6A, 0x65, 0x63, 0x74, 0x5D ]"
   ]
  },
  {
   "cell_type": "code",
   "execution_count": 35,
   "metadata": {},
   "outputs": [],
   "source": [
    "user_gift_dir='D:/OneDrive/其他/直播相关/program/database/user_gift.pkl'\n",
    "user_name_speak_dir='D:/OneDrive/其他/直播相关/program/database/user_name_speak.pkl'\n",
    "log_dir='D:\\OneDrive\\其他\\直播相关\\program\\log.txt'\n",
    "def name_dir(i):\n",
    "    return 'D:\\OneDrive\\其他\\直播相关\\program\\\\name_{}.txt'.format(i)\n",
    "\n",
    "current_cat=1\n",
    "total_cat=7\n",
    "\n",
    "try:\n",
    "    with open(user_gift_dir,'rb') as f:\n",
    "        user_gift=pickle.load(f)\n",
    "except:\n",
    "    user_gift={}\n"
   ]
  },
  {
   "cell_type": "code",
   "execution_count": 36,
   "metadata": {},
   "outputs": [],
   "source": [
    "def decode_json(msg):\n",
    "    return json.loads(msg[16:])\n",
    "def decomp(msg):\n",
    "    try:\n",
    "        return zlib.decompress(msg[16:])\n",
    "    except Exception:\n",
    "        print('error in decomp : {}'.format(msg[16:]))\n",
    "\n",
    "def decode_msg(msg,debug=False):\n",
    "    if debug:\n",
    "        print(msg)\n",
    "    if len(msg)==16:\n",
    "        return []\n",
    "    if len(msg)==20:\n",
    "        print('当前观众：{}'.format(int.from_bytes(msg[16:], byteorder='big')))\n",
    "        return []\n",
    "    try:\n",
    "        return [decode_json(msg)]\n",
    "    except Exception:\n",
    "        temp = decomp(msg)\n",
    "#         print(split_jsons(temp))\n",
    "        return [json.loads(i) for i in split_jsons(temp)]\n",
    "    \n",
    "def split_jsons(test_msg_4):\n",
    "    activate=1\n",
    "    stack=0\n",
    "    start=[]\n",
    "    end=[]\n",
    "    escape=0\n",
    "    i=16\n",
    "    while i<len(test_msg_4):\n",
    "#         print('i={},msg[i]={},stack={}'.format(i,bytes([test_msg_4[i]]),stack))\n",
    "        if test_msg_4[i]==34 and escape%2!=1:\n",
    "            activate=1-activate\n",
    "            i+=1\n",
    "            continue\n",
    "        if test_msg_4[i]==92:\n",
    "            escape+=1\n",
    "        else:\n",
    "            escape=0\n",
    "        if activate:\n",
    "            if test_msg_4[i]==123:\n",
    "                if stack==0:\n",
    "                    start.append(i)\n",
    "                stack+=1\n",
    "            if test_msg_4[i]==125:\n",
    "                stack-=1\n",
    "                if stack==0:\n",
    "                    end.append(i)\n",
    "                    i+=16\n",
    "        i+=1\n",
    "    result=[]\n",
    "    for i2 in range(len(start)):\n",
    "        try:\n",
    "            result.append(test_msg_4[start[i2]:end[i2]+1])\n",
    "        except Exception:\n",
    "            print('error while append bytes to result at split_jsons.')\n",
    "            print('start & end : {},{}'.format(start,end))\n",
    "            print('msg : \\n{}'.format(test_msg_4))\n",
    "    return result"
   ]
  },
  {
   "cell_type": "markdown",
   "metadata": {},
   "source": [
    "{'cmd': 'DANMU_MSG', 'info': [[0, 1, 25, 16777215, 1560431492, 1560431455, 0, 'd404101a', 0, 0, 0], '111', [28496477, '大野喵渣', 0, 0, 0, 10000, 1, ''], [9, '男友力', '尤超白', 14707495, 10512625, ''], [21, 0, 5805790, '>50000'], ['', ''], 0, 0, None, {'ts': 1560431492, 'ct': 'A567416F'}]}\n",
    "\n",
    "{'cmd': 'SEND_GIFT', 'data': {'giftName': '辣条', 'num': 1, 'uname': '大野喵渣', 'face': 'http://i1.hdslb.com/bfs/face/8aa40398c14bf712f86687a04994186189b01314.jpg', 'guard_level': 0, 'rcost': 4259033, 'uid': 28496477, 'top_list': [], 'timestamp': 1560431512, 'giftId': 1, 'giftType': 0, 'action': '喂食', 'super': 0, 'super_gift_num': 0, 'price': 100, 'rnd': '1560431455', 'newMedal': 0, 'newTitle': 0, 'medal': [], 'title': '', 'beatId': '0', 'biz_source': 'live', 'metadata': '', 'remain': 6, 'gold': 0, 'silver': 0, 'eventScore': 0, 'eventNum': 0, 'smalltv_msg': [], 'specialGift': None, 'notice_msg': [], 'capsule': None, 'addFollow': 0, 'effect_block': 1, 'coin_type': 'silver', 'total_coin': 100, 'effect': 0, 'tag_image': '', 'user_count': 0}}"
   ]
  },
  {
   "cell_type": "code",
   "execution_count": 37,
   "metadata": {},
   "outputs": [],
   "source": [
    "def handler(msg,debug=False):\n",
    "    if debug:\n",
    "        print(msg)\n",
    "    if msg['cmd']=='SEND_GIFT':\n",
    "        print('{}:{},{}'.format(msg['data']['uname'],msg['data']['giftName'],msg['data']['num']))\n",
    "        total=msg['data']['num']\n",
    "        try:\n",
    "            total+=user_gift[(msg['data']['uid'],msg['data']['giftName'])]\n",
    "        except:\n",
    "            pass\n",
    "        text='{}赠送了{}{}个，总数{}个。'.format(msg['data']['uname'],msg['data']['giftName'],msg['data']['num'],total)\n",
    "        file=open(log_dir,'ab')\n",
    "        file.write(text.encode('utf-8')+b'\\n')\n",
    "        file.close()\n",
    "        user_gift[(msg['data']['uid'],msg['data']['giftName'])]=total\n",
    "    if msg['cmd']=='DANMU_MSG':\n",
    "        if msg['info'][1][:3]=='#抢猫':\n",
    "            global current_cat\n",
    "            file=open(name_dir(current_cat),'wb')\n",
    "            file.write(msg['info'][2][1].encode('utf-8'))\n",
    "            file.close()\n",
    "            if current_cat==7:\n",
    "                current_cat=1\n",
    "            else:\n",
    "                current_cat+=1\n",
    "            "
   ]
  },
  {
   "cell_type": "code",
   "execution_count": 38,
   "metadata": {
    "scrolled": true
   },
   "outputs": [
    {
     "name": "stderr",
     "output_type": "stream",
     "text": [
      "--- request header ---\n",
      "GET /sub HTTP/1.1\n",
      "Upgrade: websocket\n",
      "Connection: Upgrade\n",
      "Host: ks-live-dmcmt-bj6-pm-01.chat.bilibili.com\n",
      "Origin: http://ks-live-dmcmt-bj6-pm-01.chat.bilibili.com\n",
      "Sec-WebSocket-Key: hweoj6gHVTnfcoXVDzZNqw==\n",
      "Sec-WebSocket-Version: 13\n",
      "\n",
      "\n",
      "-----------------------\n",
      "--- response header ---\n",
      "HTTP/1.1 101 Switching Protocols\n",
      "Upgrade: websocket\n",
      "Connection: Upgrade\n",
      "Sec-WebSocket-Accept: Dv2AtNGAHw/ViqOB73wZT1J9nxQ=\n",
      "-----------------------\n",
      "send: b\"\\x81\\xec\\\\a\\x19>\\\\a\\x19R\\\\q\\x19?\\\\a\\x199\\\\a\\x19?'ClW8C#\\x0cdU \\x08hV.\\x12~\\x13vQ1\\x08}\\x1cfP!\\x07eY-\\x0fpCiL3\\x15vH9\\x13;\\x04nM;N0\\x00mX3\\x13t\\x1cfCn[>C5\\x1c?\\rp[2\\x15o[.C#\\x1cmO/\\x10oC5\\x1c(\\x18i[~[+C\"\n",
      "send: b'\\x81\\x9f7\\xffA\\xc57\\xffA\\xda7\\xefA\\xc47\\xffA\\xc77\\xffA\\xc4l\\x90#\\xafR\\x9c5\\xe5x\\x9d+\\xa0T\\x8b\\x1c'\n"
     ]
    },
    {
     "name": "stdout",
     "output_type": "stream",
     "text": [
      "当前观众：1\n",
      "{'cmd': 'DANMU_MSG', 'info': [[0, 1, 25, 16777215, 1560433337, 1560433082, 0, 'd404101a', 0, 0, 0], '111', [28496477, '大野喵渣', 0, 0, 0, 10000, 1, ''], [9, '男友力', '尤超白', 14707495, 10512625, ''], [21, 0, 5805790, '>50000'], ['', ''], 0, 0, None, {'ts': 1560433337, 'ct': '6F5D54B'}]}\n"
     ]
    },
    {
     "name": "stderr",
     "output_type": "stream",
     "text": [
      "Unhandled exception in thread started by <function on_open.<locals>.run at 0x000001C7A2F737B8>\n"
     ]
    },
    {
     "ename": "WebSocketConnectionClosedException",
     "evalue": "Connection is already closed.",
     "output_type": "error",
     "traceback": [
      "\u001b[1;31m---------------------------------------------------------------------------\u001b[0m",
      "\u001b[1;31mWebSocketConnectionClosedException\u001b[0m        Traceback (most recent call last)",
      "\u001b[1;32m<ipython-input-32-aa8fa2d7a970>\u001b[0m in \u001b[0;36mrun\u001b[1;34m(*args)\u001b[0m\n\u001b[0;32m     12\u001b[0m         \u001b[0mws\u001b[0m\u001b[1;33m.\u001b[0m\u001b[0msend\u001b[0m\u001b[1;33m(\u001b[0m\u001b[0mbytes\u001b[0m\u001b[1;33m(\u001b[0m\u001b[0msend1\u001b[0m\u001b[1;33m)\u001b[0m\u001b[1;33m)\u001b[0m\u001b[1;33m\u001b[0m\u001b[0m\n\u001b[0;32m     13\u001b[0m         \u001b[1;32mwhile\u001b[0m \u001b[1;32mTrue\u001b[0m\u001b[1;33m:\u001b[0m\u001b[1;33m\u001b[0m\u001b[0m\n\u001b[1;32m---> 14\u001b[1;33m             \u001b[0mws\u001b[0m\u001b[1;33m.\u001b[0m\u001b[0msend\u001b[0m\u001b[1;33m(\u001b[0m\u001b[0mbytes\u001b[0m\u001b[1;33m(\u001b[0m\u001b[0msend2\u001b[0m\u001b[1;33m)\u001b[0m\u001b[1;33m)\u001b[0m\u001b[1;33m\u001b[0m\u001b[0m\n\u001b[0m\u001b[0;32m     15\u001b[0m             \u001b[0mtime\u001b[0m\u001b[1;33m.\u001b[0m\u001b[0msleep\u001b[0m\u001b[1;33m(\u001b[0m\u001b[1;36m30\u001b[0m\u001b[1;33m)\u001b[0m\u001b[1;33m\u001b[0m\u001b[0m\n\u001b[0;32m     16\u001b[0m     \u001b[0mthread\u001b[0m\u001b[1;33m.\u001b[0m\u001b[0mstart_new_thread\u001b[0m\u001b[1;33m(\u001b[0m\u001b[0mrun\u001b[0m\u001b[1;33m,\u001b[0m \u001b[1;33m(\u001b[0m\u001b[1;33m)\u001b[0m\u001b[1;33m)\u001b[0m\u001b[1;33m\u001b[0m\u001b[0m\n",
      "\u001b[1;32mD:\\ProgramData\\Anaconda3\\lib\\site-packages\\websocket\\_app.py\u001b[0m in \u001b[0;36msend\u001b[1;34m(self, data, opcode)\u001b[0m\n\u001b[0;32m    153\u001b[0m         \u001b[1;32mif\u001b[0m \u001b[1;32mnot\u001b[0m \u001b[0mself\u001b[0m\u001b[1;33m.\u001b[0m\u001b[0msock\u001b[0m \u001b[1;32mor\u001b[0m \u001b[0mself\u001b[0m\u001b[1;33m.\u001b[0m\u001b[0msock\u001b[0m\u001b[1;33m.\u001b[0m\u001b[0msend\u001b[0m\u001b[1;33m(\u001b[0m\u001b[0mdata\u001b[0m\u001b[1;33m,\u001b[0m \u001b[0mopcode\u001b[0m\u001b[1;33m)\u001b[0m \u001b[1;33m==\u001b[0m \u001b[1;36m0\u001b[0m\u001b[1;33m:\u001b[0m\u001b[1;33m\u001b[0m\u001b[0m\n\u001b[0;32m    154\u001b[0m             raise WebSocketConnectionClosedException(\n\u001b[1;32m--> 155\u001b[1;33m                 \"Connection is already closed.\")\n\u001b[0m\u001b[0;32m    156\u001b[0m \u001b[1;33m\u001b[0m\u001b[0m\n\u001b[0;32m    157\u001b[0m     \u001b[1;32mdef\u001b[0m \u001b[0mclose\u001b[0m\u001b[1;33m(\u001b[0m\u001b[0mself\u001b[0m\u001b[1;33m,\u001b[0m \u001b[1;33m**\u001b[0m\u001b[0mkwargs\u001b[0m\u001b[1;33m)\u001b[0m\u001b[1;33m:\u001b[0m\u001b[1;33m\u001b[0m\u001b[0m\n",
      "\u001b[1;31mWebSocketConnectionClosedException\u001b[0m: Connection is already closed."
     ]
    },
    {
     "name": "stdout",
     "output_type": "stream",
     "text": [
      "{'cmd': 'DANMU_MSG', 'info': [[0, 1, 25, 16777215, 1560433349, 1560433082, 0, 'd404101a', 0, 0, 0], '#抢猫', [28496477, '大野喵渣', 0, 0, 0, 10000, 1, ''], [9, '男友力', '尤超白', 14707495, 10512625, ''], [21, 0, 5805790, '>50000'], ['', ''], 0, 0, None, {'ts': 1560433349, 'ct': 'C11D71C'}]}\n"
     ]
    },
    {
     "name": "stderr",
     "output_type": "stream",
     "text": [
      "send: b'\\x81\\x9f\\x8a\\xe7b?\\x8a\\xe7b \\x8a\\xf7b>\\x8a\\xe7b=\\x8a\\xe7b>\\xd1\\x88\\x00U\\xef\\x84\\x16\\x1f\\xc5\\x85\\x08Z\\xe9\\x93?'\n"
     ]
    },
    {
     "name": "stdout",
     "output_type": "stream",
     "text": [
      "当前观众：1\n",
      "{'cmd': 'DANMU_MSG', 'info': [[0, 1, 25, 16777215, 1560433372, 1560433082, 0, 'd404101a', 0, 0, 0], '#抢猫', [28496477, '大野喵渣', 0, 0, 0, 10000, 1, ''], [9, '男友力', '尤超白', 14707495, 10512625, ''], [21, 0, 5805790, '>50000'], ['', ''], 0, 0, None, {'ts': 1560433372, 'ct': 'F48573D5'}]}\n"
     ]
    },
    {
     "name": "stderr",
     "output_type": "stream",
     "text": [
      "send: b'\\x81\\x9f\\xbe\\x15\\x17\\x1c\\xbe\\x15\\x17\\x03\\xbe\\x05\\x17\\x1d\\xbe\\x15\\x17\\x1e\\xbe\\x15\\x17\\x1d\\xe5zuv\\xdbvc<\\xf1w}y\\xddaJ'\n"
     ]
    },
    {
     "name": "stdout",
     "output_type": "stream",
     "text": [
      "当前观众：1\n"
     ]
    },
    {
     "name": "stderr",
     "output_type": "stream",
     "text": [
      "send: b'\\x81\\x9fu\\xb5\\xdc\\xb8u\\xb5\\xdc\\xa7u\\xa5\\xdc\\xb9u\\xb5\\xdc\\xbau\\xb5\\xdc\\xb9.\\xda\\xbe\\xd2\\x10\\xd6\\xa8\\x98:\\xd7\\xb6\\xdd\\x16\\xc1\\x81'\n"
     ]
    },
    {
     "name": "stdout",
     "output_type": "stream",
     "text": [
      "当前观众：1\n",
      "{'cmd': 'SYS_MSG', 'msg': '雪夜霜凝:?送给:?C酱です:?1个小电视飞船，点击前往TA的房间去抽奖吧', 'msg_text': '雪夜霜凝:?送给:?C酱です:?1个小电视飞船，点击前往TA的房间去抽奖吧', 'msg_common': '全区广播：<%雪夜霜凝%>送给<%C酱です%>1个小电视飞船，点击前往TA的房间去抽奖吧', 'msg_self': '全区广播：<%雪夜霜凝%>送给<%C酱です%>1个小电视飞船，快来抽奖吧', 'rep': 1, 'styleType': 2, 'url': 'http://live.bilibili.com/213', 'roomid': 213, 'real_roomid': 47867, 'rnd': 1359526317, 'broadcast_type': 0}\n",
      "{'cmd': 'NOTICE_MSG', 'full': {'head_icon': 'http://i0.hdslb.com/bfs/live/b29add66421580c3e680d784a827202e512a40a0.webp', 'tail_icon': 'http://i0.hdslb.com/bfs/live/822da481fdaba986d738db5d8fd469ffa95a8fa1.webp', 'head_icon_fa': 'http://i0.hdslb.com/bfs/live/49869a52d6225a3e70bbf1f4da63f199a95384b2.png', 'tail_icon_fa': 'http://i0.hdslb.com/bfs/live/38cb2a9f1209b16c0f15162b0b553e3b28d9f16f.png', 'head_icon_fan': 24, 'tail_icon_fan': 4, 'background': '#66A74EFF', 'color': '#FFFFFFFF', 'highlight': '#FDFF2FFF', 'time': 20}, 'half': {'head_icon': 'http://i0.hdslb.com/bfs/live/ec9b374caec5bd84898f3780a10189be96b86d4e.png', 'tail_icon': '', 'background': '#85B971FF', 'color': '#FFFFFFFF', 'highlight': '#FDFF2FFF', 'time': 15}, 'side': {'head_icon': 'http://i0.hdslb.com/bfs/live/e41c7e12b1e08724d2ab2f369515132d30fe1ef7.png', 'background': '#F4FDE8FF', 'color': '#79B48EFF', 'highlight': '#388726FF', 'border': '#A9DA9FFF'}, 'roomid': 213, 'real_roomid': 47867, 'msg_common': '全区广播：<%雪夜霜凝%>送给<%C酱です%>1个小电视飞船，点击前往TA的房间去抽奖吧', 'msg_self': '全区广播：<%雪夜霜凝%>送给<%C酱です%>1个小电视飞船，快来抽奖吧', 'link_url': 'http://live.bilibili.com/213?live_lottery_type=1&broadcast_type=0&from=28003&extra_jump_from=28003', 'msg_type': 2, 'shield_uid': -1}\n"
     ]
    },
    {
     "name": "stderr",
     "output_type": "stream",
     "text": [
      "send: b'\\x81\\x9f9\\x87{z9\\x87{e9\\x97{{9\\x87{x9\\x87{{b\\xe8\\x19\\x10\\\\\\xe4\\x0fZv\\xe5\\x11\\x1fZ\\xf3&'\n"
     ]
    },
    {
     "name": "stdout",
     "output_type": "stream",
     "text": [
      "当前观众：1\n"
     ]
    },
    {
     "name": "stderr",
     "output_type": "stream",
     "text": [
      "send: b'\\x81\\x9fx\\xcay\\x1fx\\xcay\\x00x\\xday\\x1ex\\xcay\\x1dx\\xcay\\x1e#\\xa5\\x1bu\\x1d\\xa9\\r?7\\xa8\\x13z\\x1b\\xbe$'\n"
     ]
    },
    {
     "name": "stdout",
     "output_type": "stream",
     "text": [
      "当前观众：1\n"
     ]
    },
    {
     "name": "stderr",
     "output_type": "stream",
     "text": [
      "send: b'\\x81\\x9f\\xeb0\\xc8\\xf3\\xeb0\\xc8\\xec\\xeb \\xc8\\xf2\\xeb0\\xc8\\xf1\\xeb0\\xc8\\xf2\\xb0_\\xaa\\x99\\x8eS\\xbc\\xd3\\xa4R\\xa2\\x96\\x88D\\x95'\n"
     ]
    },
    {
     "name": "stdout",
     "output_type": "stream",
     "text": [
      "当前观众：1\n"
     ]
    },
    {
     "name": "stderr",
     "output_type": "stream",
     "text": [
      "send: b'\\x81\\x9f\\x19\\xcb\\xc4w\\x19\\xcb\\xc4h\\x19\\xdb\\xc4v\\x19\\xcb\\xc4u\\x19\\xcb\\xc4vB\\xa4\\xa6\\x1d|\\xa8\\xb0WV\\xa9\\xae\\x12z\\xbf\\x99'\n"
     ]
    },
    {
     "name": "stdout",
     "output_type": "stream",
     "text": [
      "当前观众：1\n"
     ]
    },
    {
     "name": "stderr",
     "output_type": "stream",
     "text": [
      "send: b'\\x81\\x9f\\xcc\\xda`@\\xcc\\xda`_\\xcc\\xca`A\\xcc\\xda`B\\xcc\\xda`A\\x97\\xb5\\x02*\\xa9\\xb9\\x14`\\x83\\xb8\\n%\\xaf\\xae='\n"
     ]
    },
    {
     "name": "stdout",
     "output_type": "stream",
     "text": [
      "当前观众：1\n"
     ]
    },
    {
     "name": "stderr",
     "output_type": "stream",
     "text": [
      "send: b'\\x81\\x9f{\\x00e\\xfa{\\x00e\\xe5{\\x10e\\xfb{\\x00e\\xf8{\\x00e\\xfb o\\x07\\x90\\x1ec\\x11\\xda4b\\x0f\\x9f\\x18t8'\n"
     ]
    },
    {
     "name": "stdout",
     "output_type": "stream",
     "text": [
      "当前观众：1\n"
     ]
    },
    {
     "name": "stderr",
     "output_type": "stream",
     "text": [
      "send: b'\\x81\\x9f\\x01\\xe2\\xfb+\\x01\\xe2\\xfb4\\x01\\xf2\\xfb*\\x01\\xe2\\xfb)\\x01\\xe2\\xfb*Z\\x8d\\x99Ad\\x81\\x8f\\x0bN\\x80\\x91Nb\\x96\\xa6'\n"
     ]
    },
    {
     "name": "stdout",
     "output_type": "stream",
     "text": [
      "当前观众：1\n"
     ]
    },
    {
     "name": "stderr",
     "output_type": "stream",
     "text": [
      "send: b'\\x81\\x9f\\xce\\xc3\\xa3\\xa6\\xce\\xc3\\xa3\\xb9\\xce\\xd3\\xa3\\xa7\\xce\\xc3\\xa3\\xa4\\xce\\xc3\\xa3\\xa7\\x95\\xac\\xc1\\xcc\\xab\\xa0\\xd7\\x86\\x81\\xa1\\xc9\\xc3\\xad\\xb7\\xfe'\n"
     ]
    },
    {
     "name": "stdout",
     "output_type": "stream",
     "text": [
      "当前观众：1\n",
      "{'cmd': 'SYS_MSG', 'msg': 'mikumiku269:?送给:?C酱です:?1个小电视飞船，点击前往TA的房间去抽奖吧', 'msg_text': 'mikumiku269:?送给:?C酱です:?1个小电视飞船，点击前往TA的房间去抽奖吧', 'msg_common': '全区广播：<%mikumiku269%>送给<%C酱です%>1个小电视飞船，点击前往TA的房间去抽奖吧', 'msg_self': '全区广播：<%mikumiku269%>送给<%C酱です%>1个小电视飞船，快来抽奖吧', 'rep': 1, 'styleType': 2, 'url': 'http://live.bilibili.com/213', 'roomid': 213, 'real_roomid': 47867, 'rnd': 332086356, 'broadcast_type': 0}\n",
      "{'cmd': 'NOTICE_MSG', 'full': {'head_icon': 'http://i0.hdslb.com/bfs/live/b29add66421580c3e680d784a827202e512a40a0.webp', 'tail_icon': 'http://i0.hdslb.com/bfs/live/822da481fdaba986d738db5d8fd469ffa95a8fa1.webp', 'head_icon_fa': 'http://i0.hdslb.com/bfs/live/49869a52d6225a3e70bbf1f4da63f199a95384b2.png', 'tail_icon_fa': 'http://i0.hdslb.com/bfs/live/38cb2a9f1209b16c0f15162b0b553e3b28d9f16f.png', 'head_icon_fan': 24, 'tail_icon_fan': 4, 'background': '#66A74EFF', 'color': '#FFFFFFFF', 'highlight': '#FDFF2FFF', 'time': 20}, 'half': {'head_icon': 'http://i0.hdslb.com/bfs/live/ec9b374caec5bd84898f3780a10189be96b86d4e.png', 'tail_icon': '', 'background': '#85B971FF', 'color': '#FFFFFFFF', 'highlight': '#FDFF2FFF', 'time': 15}, 'side': {'head_icon': 'http://i0.hdslb.com/bfs/live/e41c7e12b1e08724d2ab2f369515132d30fe1ef7.png', 'background': '#F4FDE8FF', 'color': '#79B48EFF', 'highlight': '#388726FF', 'border': '#A9DA9FFF'}, 'roomid': 213, 'real_roomid': 47867, 'msg_common': '全区广播：<%mikumiku269%>送给<%C酱です%>1个小电视飞船，点击前往TA的房间去抽奖吧', 'msg_self': '全区广播：<%mikumiku269%>送给<%C酱です%>1个小电视飞船，快来抽奖吧', 'link_url': 'http://live.bilibili.com/213?live_lottery_type=1&broadcast_type=0&from=28003&extra_jump_from=28003', 'msg_type': 2, 'shield_uid': -1}\n"
     ]
    },
    {
     "name": "stderr",
     "output_type": "stream",
     "text": [
      "send: b'\\x81\\x9fY\\x04\\x85\\xf6Y\\x04\\x85\\xe9Y\\x14\\x85\\xf7Y\\x04\\x85\\xf4Y\\x04\\x85\\xf7\\x02k\\xe7\\x9c<g\\xf1\\xd6\\x16f\\xef\\x93:p\\xd8'\n"
     ]
    },
    {
     "name": "stdout",
     "output_type": "stream",
     "text": [
      "当前观众：1\n"
     ]
    },
    {
     "name": "stderr",
     "output_type": "stream",
     "text": [
      "send: b'\\x81\\x9f.\\x8e\\x1b\\xb8.\\x8e\\x1b\\xa7.\\x9e\\x1b\\xb9.\\x8e\\x1b\\xba.\\x8e\\x1b\\xb9u\\xe1y\\xd2K\\xedo\\x98a\\xecq\\xddM\\xfaF'\n"
     ]
    },
    {
     "name": "stdout",
     "output_type": "stream",
     "text": [
      "当前观众：1\n"
     ]
    },
    {
     "name": "stderr",
     "output_type": "stream",
     "text": [
      "send: b'\\x81\\x9f*\\x84\\xc9\\xd6*\\x84\\xc9\\xc9*\\x94\\xc9\\xd7*\\x84\\xc9\\xd4*\\x84\\xc9\\xd7q\\xeb\\xab\\xbcO\\xe7\\xbd\\xf6e\\xe6\\xa3\\xb3I\\xf0\\x94'\n"
     ]
    },
    {
     "name": "stdout",
     "output_type": "stream",
     "text": [
      "当前观众：1\n"
     ]
    },
    {
     "name": "stderr",
     "output_type": "stream",
     "text": [
      "send: b'\\x81\\x9f\\xda\\x9f\\xaa\\x89\\xda\\x9f\\xaa\\x96\\xda\\x8f\\xaa\\x88\\xda\\x9f\\xaa\\x8b\\xda\\x9f\\xaa\\x88\\x81\\xf0\\xc8\\xe3\\xbf\\xfc\\xde\\xa9\\x95\\xfd\\xc0\\xec\\xb9\\xeb\\xf7'\n"
     ]
    },
    {
     "name": "stdout",
     "output_type": "stream",
     "text": [
      "当前观众：1\n"
     ]
    },
    {
     "name": "stderr",
     "output_type": "stream",
     "text": [
      "send: b'\\x81\\x9fE&\\xdd\\x0eE&\\xdd\\x11E6\\xdd\\x0fE&\\xdd\\x0cE&\\xdd\\x0f\\x1eI\\xbfd E\\xa9.\\nD\\xb7k&R\\x80'\n"
     ]
    },
    {
     "name": "stdout",
     "output_type": "stream",
     "text": [
      "当前观众：1\n"
     ]
    },
    {
     "name": "stderr",
     "output_type": "stream",
     "text": [
      "send: b'\\x81\\x9f\\x91\\xcbA\\xfe\\x91\\xcbA\\xe1\\x91\\xdbA\\xff\\x91\\xcbA\\xfc\\x91\\xcbA\\xff\\xca\\xa4#\\x94\\xf4\\xa85\\xde\\xde\\xa9+\\x9b\\xf2\\xbf\\x1c'\n"
     ]
    },
    {
     "name": "stdout",
     "output_type": "stream",
     "text": [
      "当前观众：1\n"
     ]
    },
    {
     "name": "stderr",
     "output_type": "stream",
     "text": [
      "send: b'\\x81\\x9fn\\xb3\\x13vn\\xb3\\x13in\\xa3\\x13wn\\xb3\\x13tn\\xb3\\x13w5\\xdcq\\x1c\\x0b\\xd0gV!\\xd1y\\x13\\r\\xc7N'\n"
     ]
    },
    {
     "name": "stdout",
     "output_type": "stream",
     "text": [
      "当前观众：1\n",
      "{'cmd': 'SYS_MSG', 'msg': 'mikumiku269:?送给:?C酱です:?1个小电视飞船，点击前往TA的房间去抽奖吧', 'msg_text': 'mikumiku269:?送给:?C酱です:?1个小电视飞船，点击前往TA的房间去抽奖吧', 'msg_common': '全区广播：<%mikumiku269%>送给<%C酱です%>1个小电视飞船，点击前往TA的房间去抽奖吧', 'msg_self': '全区广播：<%mikumiku269%>送给<%C酱です%>1个小电视飞船，快来抽奖吧', 'rep': 1, 'styleType': 2, 'url': 'http://live.bilibili.com/213', 'roomid': 213, 'real_roomid': 47867, 'rnd': 520631549, 'broadcast_type': 0}\n",
      "{'cmd': 'NOTICE_MSG', 'full': {'head_icon': 'http://i0.hdslb.com/bfs/live/b29add66421580c3e680d784a827202e512a40a0.webp', 'tail_icon': 'http://i0.hdslb.com/bfs/live/822da481fdaba986d738db5d8fd469ffa95a8fa1.webp', 'head_icon_fa': 'http://i0.hdslb.com/bfs/live/49869a52d6225a3e70bbf1f4da63f199a95384b2.png', 'tail_icon_fa': 'http://i0.hdslb.com/bfs/live/38cb2a9f1209b16c0f15162b0b553e3b28d9f16f.png', 'head_icon_fan': 24, 'tail_icon_fan': 4, 'background': '#66A74EFF', 'color': '#FFFFFFFF', 'highlight': '#FDFF2FFF', 'time': 20}, 'half': {'head_icon': 'http://i0.hdslb.com/bfs/live/ec9b374caec5bd84898f3780a10189be96b86d4e.png', 'tail_icon': '', 'background': '#85B971FF', 'color': '#FFFFFFFF', 'highlight': '#FDFF2FFF', 'time': 15}, 'side': {'head_icon': 'http://i0.hdslb.com/bfs/live/e41c7e12b1e08724d2ab2f369515132d30fe1ef7.png', 'background': '#F4FDE8FF', 'color': '#79B48EFF', 'highlight': '#388726FF', 'border': '#A9DA9FFF'}, 'roomid': 213, 'real_roomid': 47867, 'msg_common': '全区广播：<%mikumiku269%>送给<%C酱です%>1个小电视飞船，点击前往TA的房间去抽奖吧', 'msg_self': '全区广播：<%mikumiku269%>送给<%C酱です%>1个小电视飞船，快来抽奖吧', 'link_url': 'http://live.bilibili.com/213?live_lottery_type=1&broadcast_type=0&from=28003&extra_jump_from=28003', 'msg_type': 2, 'shield_uid': -1}\n"
     ]
    },
    {
     "name": "stderr",
     "output_type": "stream",
     "text": [
      "send: b'\\x81\\x9f\\x97\\xc6\\x84\\x0e\\x97\\xc6\\x84\\x11\\x97\\xd6\\x84\\x0f\\x97\\xc6\\x84\\x0c\\x97\\xc6\\x84\\x0f\\xcc\\xa9\\xe6d\\xf2\\xa5\\xf0.\\xd8\\xa4\\xeek\\xf4\\xb2\\xd9'\n"
     ]
    },
    {
     "name": "stdout",
     "output_type": "stream",
     "text": [
      "当前观众：1\n",
      "{'cmd': 'SYS_MSG', 'msg': '東月キサキSeven:?送给:?柒落Seven:?1个小电视飞船，点击前往TA的房间去抽奖吧', 'msg_text': '東月キサキSeven:?送给:?柒落Seven:?1个小电视飞船，点击前往TA的房间去抽奖吧', 'msg_common': '全区广播：<%東月キサキSeven%>送给<%柒落Seven%>1个小电视飞船，点击前往TA的房间去抽奖吧', 'msg_self': '全区广播：<%東月キサキSeven%>送给<%柒落Seven%>1个小电视飞船，快来抽奖吧', 'rep': 1, 'styleType': 2, 'url': 'http://live.bilibili.com/50729', 'roomid': 50729, 'real_roomid': 50729, 'rnd': 1560429837, 'broadcast_type': 0}\n",
      "{'cmd': 'NOTICE_MSG', 'full': {'head_icon': 'http://i0.hdslb.com/bfs/live/b29add66421580c3e680d784a827202e512a40a0.webp', 'tail_icon': 'http://i0.hdslb.com/bfs/live/822da481fdaba986d738db5d8fd469ffa95a8fa1.webp', 'head_icon_fa': 'http://i0.hdslb.com/bfs/live/49869a52d6225a3e70bbf1f4da63f199a95384b2.png', 'tail_icon_fa': 'http://i0.hdslb.com/bfs/live/38cb2a9f1209b16c0f15162b0b553e3b28d9f16f.png', 'head_icon_fan': 24, 'tail_icon_fan': 4, 'background': '#66A74EFF', 'color': '#FFFFFFFF', 'highlight': '#FDFF2FFF', 'time': 20}, 'half': {'head_icon': 'http://i0.hdslb.com/bfs/live/ec9b374caec5bd84898f3780a10189be96b86d4e.png', 'tail_icon': '', 'background': '#85B971FF', 'color': '#FFFFFFFF', 'highlight': '#FDFF2FFF', 'time': 15}, 'side': {'head_icon': 'http://i0.hdslb.com/bfs/live/e41c7e12b1e08724d2ab2f369515132d30fe1ef7.png', 'background': '#F4FDE8FF', 'color': '#79B48EFF', 'highlight': '#388726FF', 'border': '#A9DA9FFF'}, 'roomid': 50729, 'real_roomid': 50729, 'msg_common': '全区广播：<%東月キサキSeven%>送给<%柒落Seven%>1个小电视飞船，点击前往TA的房间去抽奖吧', 'msg_self': '全区广播：<%東月キサキSeven%>送给<%柒落Seven%>1个小电视飞船，快来抽奖吧', 'link_url': 'http://live.bilibili.com/50729?live_lottery_type=1&broadcast_type=0&from=28003&extra_jump_from=28003', 'msg_type': 2, 'shield_uid': -1}\n"
     ]
    },
    {
     "name": "stderr",
     "output_type": "stream",
     "text": [
      "send: b'\\x81\\x9f\\xce*\\x9c\\xd7\\xce*\\x9c\\xc8\\xce:\\x9c\\xd6\\xce*\\x9c\\xd5\\xce*\\x9c\\xd6\\x95E\\xfe\\xbd\\xabI\\xe8\\xf7\\x81H\\xf6\\xb2\\xad^\\xc1'\n"
     ]
    },
    {
     "name": "stdout",
     "output_type": "stream",
     "text": [
      "当前观众：1\n"
     ]
    },
    {
     "name": "stderr",
     "output_type": "stream",
     "text": [
      "send: b'\\x81\\x9f\\x8a\\x02.p\\x8a\\x02.o\\x8a\\x12.q\\x8a\\x02.r\\x8a\\x02.q\\xd1mL\\x1a\\xefaZP\\xc5`D\\x15\\xe9vs'\n"
     ]
    },
    {
     "name": "stdout",
     "output_type": "stream",
     "text": [
      "当前观众：1\n"
     ]
    },
    {
     "name": "stderr",
     "output_type": "stream",
     "text": [
      "send: b'\\x81\\x9fY\\xd3h\\x9dY\\xd3h\\x82Y\\xc3h\\x9cY\\xd3h\\x9fY\\xd3h\\x9c\\x02\\xbc\\n\\xf7<\\xb0\\x1c\\xbd\\x16\\xb1\\x02\\xf8:\\xa75'\n"
     ]
    },
    {
     "name": "stdout",
     "output_type": "stream",
     "text": [
      "当前观众：1\n"
     ]
    },
    {
     "name": "stderr",
     "output_type": "stream",
     "text": [
      "send: b'\\x81\\x9f\\x9eI\\x9c|\\x9eI\\x9cc\\x9eY\\x9c}\\x9eI\\x9c~\\x9eI\\x9c}\\xc5&\\xfe\\x16\\xfb*\\xe8\\\\\\xd1+\\xf6\\x19\\xfd=\\xc1'\n"
     ]
    },
    {
     "name": "stdout",
     "output_type": "stream",
     "text": [
      "当前观众：1\n",
      "{'cmd': 'SYS_MSG', 'msg': '雪夜霜凝:?送给:?C酱です:?1个小电视飞船，点击前往TA的房间去抽奖吧', 'msg_text': '雪夜霜凝:?送给:?C酱です:?1个小电视飞船，点击前往TA的房间去抽奖吧', 'msg_common': '全区广播：<%雪夜霜凝%>送给<%C酱です%>1个小电视飞船，点击前往TA的房间去抽奖吧', 'msg_self': '全区广播：<%雪夜霜凝%>送给<%C酱です%>1个小电视飞船，快来抽奖吧', 'rep': 1, 'styleType': 2, 'url': 'http://live.bilibili.com/213', 'roomid': 213, 'real_roomid': 47867, 'rnd': 773049499, 'broadcast_type': 0}\n",
      "{'cmd': 'NOTICE_MSG', 'full': {'head_icon': 'http://i0.hdslb.com/bfs/live/b29add66421580c3e680d784a827202e512a40a0.webp', 'tail_icon': 'http://i0.hdslb.com/bfs/live/822da481fdaba986d738db5d8fd469ffa95a8fa1.webp', 'head_icon_fa': 'http://i0.hdslb.com/bfs/live/49869a52d6225a3e70bbf1f4da63f199a95384b2.png', 'tail_icon_fa': 'http://i0.hdslb.com/bfs/live/38cb2a9f1209b16c0f15162b0b553e3b28d9f16f.png', 'head_icon_fan': 24, 'tail_icon_fan': 4, 'background': '#66A74EFF', 'color': '#FFFFFFFF', 'highlight': '#FDFF2FFF', 'time': 20}, 'half': {'head_icon': 'http://i0.hdslb.com/bfs/live/ec9b374caec5bd84898f3780a10189be96b86d4e.png', 'tail_icon': '', 'background': '#85B971FF', 'color': '#FFFFFFFF', 'highlight': '#FDFF2FFF', 'time': 15}, 'side': {'head_icon': 'http://i0.hdslb.com/bfs/live/e41c7e12b1e08724d2ab2f369515132d30fe1ef7.png', 'background': '#F4FDE8FF', 'color': '#79B48EFF', 'highlight': '#388726FF', 'border': '#A9DA9FFF'}, 'roomid': 213, 'real_roomid': 47867, 'msg_common': '全区广播：<%雪夜霜凝%>送给<%C酱です%>1个小电视飞船，点击前往TA的房间去抽奖吧', 'msg_self': '全区广播：<%雪夜霜凝%>送给<%C酱です%>1个小电视飞船，快来抽奖吧', 'link_url': 'http://live.bilibili.com/213?live_lottery_type=1&broadcast_type=0&from=28003&extra_jump_from=28003', 'msg_type': 2, 'shield_uid': -1}\n"
     ]
    },
    {
     "name": "stderr",
     "output_type": "stream",
     "text": [
      "send: b'\\x81\\x9f\\x18\\xca\\xb1X\\x18\\xca\\xb1G\\x18\\xda\\xb1Y\\x18\\xca\\xb1Z\\x18\\xca\\xb1YC\\xa5\\xd32}\\xa9\\xc5xW\\xa8\\xdb={\\xbe\\xec'\n"
     ]
    },
    {
     "name": "stdout",
     "output_type": "stream",
     "text": [
      "当前观众：1\n"
     ]
    },
    {
     "name": "stderr",
     "output_type": "stream",
     "text": [
      "send: b\"\\x81\\x9fKy\\xc7BKy\\xc7]Ki\\xc7CKy\\xc7@Ky\\xc7C\\x10\\x16\\xa5(.\\x1a\\xb3b\\x04\\x1b\\xad'(\\r\\x9a\"\n"
     ]
    },
    {
     "name": "stdout",
     "output_type": "stream",
     "text": [
      "当前观众：1\n"
     ]
    },
    {
     "name": "stderr",
     "output_type": "stream",
     "text": [
      "send: b'\\x81\\x9f\\xde\\xbf\\x93\\xc1\\xde\\xbf\\x93\\xde\\xde\\xaf\\x93\\xc0\\xde\\xbf\\x93\\xc3\\xde\\xbf\\x93\\xc0\\x85\\xd0\\xf1\\xab\\xbb\\xdc\\xe7\\xe1\\x91\\xdd\\xf9\\xa4\\xbd\\xcb\\xce'\n"
     ]
    },
    {
     "name": "stdout",
     "output_type": "stream",
     "text": [
      "当前观众：1\n"
     ]
    },
    {
     "name": "stderr",
     "output_type": "stream",
     "text": [
      "send: b'\\x81\\x9f\\xac)\\xee\\xa1\\xac)\\xee\\xbe\\xac9\\xee\\xa0\\xac)\\xee\\xa3\\xac)\\xee\\xa0\\xf7F\\x8c\\xcb\\xc9J\\x9a\\x81\\xe3K\\x84\\xc4\\xcf]\\xb3'\n"
     ]
    },
    {
     "name": "stdout",
     "output_type": "stream",
     "text": [
      "当前观众：1\n"
     ]
    },
    {
     "name": "stderr",
     "output_type": "stream",
     "text": [
      "send: b'\\x81\\x9f\\r_\\xb6\\xcf\\r_\\xb6\\xd0\\rO\\xb6\\xce\\r_\\xb6\\xcd\\r_\\xb6\\xceV0\\xd4\\xa5h<\\xc2\\xefB=\\xdc\\xaan+\\xeb'\n"
     ]
    },
    {
     "name": "stdout",
     "output_type": "stream",
     "text": [
      "当前观众：1\n"
     ]
    },
    {
     "name": "stderr",
     "output_type": "stream",
     "text": [
      "send: b\"\\x81\\x9fD\\x89\\x06[D\\x89\\x06DD\\x99\\x06ZD\\x89\\x06YD\\x89\\x06Z\\x1f\\xe6d1!\\xear{\\x0b\\xebl>'\\xfd[\"\n"
     ]
    },
    {
     "name": "stdout",
     "output_type": "stream",
     "text": [
      "当前观众：1\n"
     ]
    },
    {
     "name": "stderr",
     "output_type": "stream",
     "text": [
      "send: b'\\x81\\x9f\\x8d\\xa5.\\x8a\\x8d\\xa5.\\x95\\x8d\\xb5.\\x8b\\x8d\\xa5.\\x88\\x8d\\xa5.\\x8b\\xd6\\xcaL\\xe0\\xe8\\xc6Z\\xaa\\xc2\\xc7D\\xef\\xee\\xd1s'\n"
     ]
    },
    {
     "name": "stdout",
     "output_type": "stream",
     "text": [
      "当前观众：1\n"
     ]
    },
    {
     "name": "stderr",
     "output_type": "stream",
     "text": [
      "send: b'\\x81\\x9f\\x9f<\\xe9\\xdc\\x9f<\\xe9\\xc3\\x9f,\\xe9\\xdd\\x9f<\\xe9\\xde\\x9f<\\xe9\\xdd\\xc4S\\x8b\\xb6\\xfa_\\x9d\\xfc\\xd0^\\x83\\xb9\\xfcH\\xb4'\n"
     ]
    },
    {
     "name": "stdout",
     "output_type": "stream",
     "text": [
      "当前观众：1\n",
      "{'cmd': 'SYS_MSG', 'msg': 'AsandsTree:?送给:?Asand:?1个小电视飞船，点击前往TA的房间去抽奖吧', 'msg_text': 'AsandsTree:?送给:?Asand:?1个小电视飞船，点击前往TA的房间去抽奖吧', 'msg_common': '全区广播：<%AsandsTree%>送给<%Asand%>1个小电视飞船，点击前往TA的房间去抽奖吧', 'msg_self': '全区广播：<%AsandsTree%>送给<%Asand%>1个小电视飞船，快来抽奖吧', 'rep': 1, 'styleType': 2, 'url': 'http://live.bilibili.com/4758126', 'roomid': 4758126, 'real_roomid': 4758126, 'rnd': 1323594505, 'broadcast_type': 0}\n",
      "{'cmd': 'NOTICE_MSG', 'full': {'head_icon': 'http://i0.hdslb.com/bfs/live/b29add66421580c3e680d784a827202e512a40a0.webp', 'tail_icon': 'http://i0.hdslb.com/bfs/live/822da481fdaba986d738db5d8fd469ffa95a8fa1.webp', 'head_icon_fa': 'http://i0.hdslb.com/bfs/live/49869a52d6225a3e70bbf1f4da63f199a95384b2.png', 'tail_icon_fa': 'http://i0.hdslb.com/bfs/live/38cb2a9f1209b16c0f15162b0b553e3b28d9f16f.png', 'head_icon_fan': 24, 'tail_icon_fan': 4, 'background': '#66A74EFF', 'color': '#FFFFFFFF', 'highlight': '#FDFF2FFF', 'time': 20}, 'half': {'head_icon': 'http://i0.hdslb.com/bfs/live/ec9b374caec5bd84898f3780a10189be96b86d4e.png', 'tail_icon': '', 'background': '#85B971FF', 'color': '#FFFFFFFF', 'highlight': '#FDFF2FFF', 'time': 15}, 'side': {'head_icon': 'http://i0.hdslb.com/bfs/live/e41c7e12b1e08724d2ab2f369515132d30fe1ef7.png', 'background': '#F4FDE8FF', 'color': '#79B48EFF', 'highlight': '#388726FF', 'border': '#A9DA9FFF'}, 'roomid': 4758126, 'real_roomid': 4758126, 'msg_common': '全区广播：<%AsandsTree%>送给<%Asand%>1个小电视飞船，点击前往TA的房间去抽奖吧', 'msg_self': '全区广播：<%AsandsTree%>送给<%Asand%>1个小电视飞船，快来抽奖吧', 'link_url': 'http://live.bilibili.com/4758126?live_lottery_type=1&broadcast_type=0&from=28003&extra_jump_from=28003', 'msg_type': 2, 'shield_uid': -1}\n"
     ]
    },
    {
     "name": "stderr",
     "output_type": "stream",
     "text": [
      "send: b'\\x81\\x9fV\\x10\\xec\\xbaV\\x10\\xec\\xa5V\\x00\\xec\\xbbV\\x10\\xec\\xb8V\\x10\\xec\\xbb\\r\\x7f\\x8e\\xd03s\\x98\\x9a\\x19r\\x86\\xdf5d\\xb1'\n"
     ]
    },
    {
     "name": "stdout",
     "output_type": "stream",
     "text": [
      "当前观众：1\n",
      "{'cmd': 'DANMU_MSG', 'info': [[0, 1, 25, 16777215, 1560434296, 458267663, 0, '538422fa', 0, 0, 0], '。。。', [15702362, '海一安', 0, 0, 0, 10000, 1, ''], [6, '愛你喲', '大野喵渣', 1899841, 5805790, ''], [47, 0, 16746162, 6677], ['title-144-1', 'title-144-1'], 0, 0, None, {'ts': 1560434296, 'ct': '8DFED4C6'}]}\n",
      "{'cmd': 'NOTICE_MSG', 'full': {'head_icon': 'http://i0.hdslb.com/bfs/live/b29add66421580c3e680d784a827202e512a40a0.webp', 'tail_icon': 'http://i0.hdslb.com/bfs/live/822da481fdaba986d738db5d8fd469ffa95a8fa1.webp', 'head_icon_fa': 'http://i0.hdslb.com/bfs/live/49869a52d6225a3e70bbf1f4da63f199a95384b2.png', 'tail_icon_fa': 'http://i0.hdslb.com/bfs/live/38cb2a9f1209b16c0f15162b0b553e3b28d9f16f.png', 'head_icon_fan': 24, 'tail_icon_fan': 4, 'background': '#66A74EFF', 'color': '#FFFFFFFF', 'highlight': '#FDFF2FFF', 'time': 20}, 'half': {'head_icon': 'http://i0.hdslb.com/bfs/live/ec9b374caec5bd84898f3780a10189be96b86d4e.png', 'tail_icon': '', 'background': '#85B971FF', 'color': '#FFFFFFFF', 'highlight': '#FDFF2FFF', 'time': 15}, 'side': {'head_icon': 'http://i0.hdslb.com/bfs/live/e41c7e12b1e08724d2ab2f369515132d30fe1ef7.png', 'background': '#F4FDE8FF', 'color': '#79B48EFF', 'highlight': '#388726FF', 'border': '#A9DA9FFF'}, 'roomid': 50729, 'real_roomid': 50729, 'msg_common': '全区广播：<%東月キサキSeven%>送给<%柒落Seven%>1个小电视飞船，点击前往TA的房间去抽奖吧', 'msg_self': '全区广播：<%東月キサキSeven%>送给<%柒落Seven%>1个小电视飞船，快来抽奖吧', 'link_url': 'http://live.bilibili.com/50729?live_lottery_type=1&broadcast_type=0&from=28003&extra_jump_from=28003', 'msg_type': 2, 'shield_uid': -1}\n"
     ]
    },
    {
     "name": "stderr",
     "output_type": "stream",
     "text": [
      "send: b'\\x81\\x9f\\xfe\\xf6\\xb1#\\xfe\\xf6\\xb1<\\xfe\\xe6\\xb1\"\\xfe\\xf6\\xb1!\\xfe\\xf6\\xb1\"\\xa5\\x99\\xd3I\\x9b\\x95\\xc5\\x03\\xb1\\x94\\xdbF\\x9d\\x82\\xec'\n"
     ]
    },
    {
     "name": "stdout",
     "output_type": "stream",
     "text": [
      "当前观众：1\n",
      "{'cmd': 'SYS_MSG', 'msg': '幸运是S不是枪兵E的SE:?送给:?铃果Official:?1个小电视飞船，点击前往TA的房间去抽奖吧', 'msg_text': '幸运是S不是枪兵E的SE:?送给:?铃果Official:?1个小电视飞船，点击前往TA的房间去抽奖吧', 'msg_common': '全区广播：<%幸运是S不是枪兵E的SE%>送给<%铃果Official%>1个小电视飞船，点击前往TA的房间去抽奖吧', 'msg_self': '全区广播：<%幸运是S不是枪兵E的SE%>送给<%铃果Official%>1个小电视飞船，快来抽奖吧', 'rep': 1, 'styleType': 2, 'url': 'http://live.bilibili.com/21376408', 'roomid': 21376408, 'real_roomid': 21376408, 'rnd': 1560434174, 'broadcast_type': 0}\n",
      "{'cmd': 'NOTICE_MSG', 'full': {'head_icon': 'http://i0.hdslb.com/bfs/live/b29add66421580c3e680d784a827202e512a40a0.webp', 'tail_icon': 'http://i0.hdslb.com/bfs/live/822da481fdaba986d738db5d8fd469ffa95a8fa1.webp', 'head_icon_fa': 'http://i0.hdslb.com/bfs/live/49869a52d6225a3e70bbf1f4da63f199a95384b2.png', 'tail_icon_fa': 'http://i0.hdslb.com/bfs/live/38cb2a9f1209b16c0f15162b0b553e3b28d9f16f.png', 'head_icon_fan': 24, 'tail_icon_fan': 4, 'background': '#66A74EFF', 'color': '#FFFFFFFF', 'highlight': '#FDFF2FFF', 'time': 20}, 'half': {'head_icon': 'http://i0.hdslb.com/bfs/live/ec9b374caec5bd84898f3780a10189be96b86d4e.png', 'tail_icon': '', 'background': '#85B971FF', 'color': '#FFFFFFFF', 'highlight': '#FDFF2FFF', 'time': 15}, 'side': {'head_icon': 'http://i0.hdslb.com/bfs/live/e41c7e12b1e08724d2ab2f369515132d30fe1ef7.png', 'background': '#F4FDE8FF', 'color': '#79B48EFF', 'highlight': '#388726FF', 'border': '#A9DA9FFF'}, 'roomid': 21376408, 'real_roomid': 21376408, 'msg_common': '全区广播：<%幸运是S不是枪兵E的SE%>送给<%铃果Official%>1个小电视飞船，点击前往TA的房间去抽奖吧', 'msg_self': '全区广播：<%幸运是S不是枪兵E的SE%>送给<%铃果Official%>1个小电视飞船，快来抽奖吧', 'link_url': 'http://live.bilibili.com/21376408?live_lottery_type=1&broadcast_type=0&from=28003&extra_jump_from=28003', 'msg_type': 2, 'shield_uid': -1}\n"
     ]
    },
    {
     "name": "stderr",
     "output_type": "stream",
     "text": [
      "send: b'\\x81\\x9f#\\xbbR|#\\xbbRc#\\xabR}#\\xbbR~#\\xbbR}x\\xd40\\x16F\\xd8&\\\\l\\xd98\\x19@\\xcf\\x0f'\n"
     ]
    },
    {
     "name": "stdout",
     "output_type": "stream",
     "text": [
      "当前观众：1\n"
     ]
    },
    {
     "name": "stderr",
     "output_type": "stream",
     "text": [
      "send: b'\\x81\\x9f\\xb1g\\xe1w\\xb1g\\xe1h\\xb1w\\xe1v\\xb1g\\xe1u\\xb1g\\xe1v\\xea\\x08\\x83\\x1d\\xd4\\x04\\x95W\\xfe\\x05\\x8b\\x12\\xd2\\x13\\xbc'\n"
     ]
    },
    {
     "name": "stdout",
     "output_type": "stream",
     "text": [
      "当前观众：1\n"
     ]
    },
    {
     "name": "stderr",
     "output_type": "stream",
     "text": [
      "send: b'\\x81\\x9ff\\x94\\x8c\\x8cf\\x94\\x8c\\x93f\\x84\\x8c\\x8df\\x94\\x8c\\x8ef\\x94\\x8c\\x8d=\\xfb\\xee\\xe6\\x03\\xf7\\xf8\\xac)\\xf6\\xe6\\xe9\\x05\\xe0\\xd1'\n"
     ]
    },
    {
     "name": "stdout",
     "output_type": "stream",
     "text": [
      "当前观众：1\n",
      "{'cmd': 'SYS_MSG', 'msg': '文刀九日1987:?送给:?远古时代装机猿:?1个小电视飞船，点击前往TA的房间去抽奖吧', 'msg_text': '文刀九日1987:?送给:?远古时代装机猿:?1个小电视飞船，点击前往TA的房间去抽奖吧', 'msg_common': '全区广播：<%文刀九日1987%>送给<%远古时代装机猿%>1个小电视飞船，点击前往TA的房间去抽奖吧', 'msg_self': '全区广播：<%文刀九日1987%>送给<%远古时代装机猿%>1个小电视飞船，快来抽奖吧', 'rep': 1, 'styleType': 2, 'url': 'http://live.bilibili.com/1361615', 'roomid': 1361615, 'real_roomid': 1361615, 'rnd': 1560434197, 'broadcast_type': 0}\n",
      "{'cmd': 'NOTICE_MSG', 'full': {'head_icon': 'http://i0.hdslb.com/bfs/live/b29add66421580c3e680d784a827202e512a40a0.webp', 'tail_icon': 'http://i0.hdslb.com/bfs/live/822da481fdaba986d738db5d8fd469ffa95a8fa1.webp', 'head_icon_fa': 'http://i0.hdslb.com/bfs/live/49869a52d6225a3e70bbf1f4da63f199a95384b2.png', 'tail_icon_fa': 'http://i0.hdslb.com/bfs/live/38cb2a9f1209b16c0f15162b0b553e3b28d9f16f.png', 'head_icon_fan': 24, 'tail_icon_fan': 4, 'background': '#66A74EFF', 'color': '#FFFFFFFF', 'highlight': '#FDFF2FFF', 'time': 20}, 'half': {'head_icon': 'http://i0.hdslb.com/bfs/live/ec9b374caec5bd84898f3780a10189be96b86d4e.png', 'tail_icon': '', 'background': '#85B971FF', 'color': '#FFFFFFFF', 'highlight': '#FDFF2FFF', 'time': 15}, 'side': {'head_icon': 'http://i0.hdslb.com/bfs/live/e41c7e12b1e08724d2ab2f369515132d30fe1ef7.png', 'background': '#F4FDE8FF', 'color': '#79B48EFF', 'highlight': '#388726FF', 'border': '#A9DA9FFF'}, 'roomid': 1361615, 'real_roomid': 1361615, 'msg_common': '全区广播：<%文刀九日1987%>送给<%远古时代装机猿%>1个小电视飞船，点击前往TA的房间去抽奖吧', 'msg_self': '全区广播：<%文刀九日1987%>送给<%远古时代装机猿%>1个小电视飞船，快来抽奖吧', 'link_url': 'http://live.bilibili.com/1361615?live_lottery_type=1&broadcast_type=0&from=28003&extra_jump_from=28003', 'msg_type': 2, 'shield_uid': -1}\n"
     ]
    },
    {
     "name": "stderr",
     "output_type": "stream",
     "text": [
      "send: b'\\x81\\x9f\\x8c\\x88\\xb4h\\x8c\\x88\\xb4w\\x8c\\x98\\xb4i\\x8c\\x88\\xb4j\\x8c\\x88\\xb4i\\xd7\\xe7\\xd6\\x02\\xe9\\xeb\\xc0H\\xc3\\xea\\xde\\r\\xef\\xfc\\xe9'\n"
     ]
    },
    {
     "name": "stdout",
     "output_type": "stream",
     "text": [
      "当前观众：1\n",
      "{'full': {'head_icon': 'http://i0.hdslb.com/bfs/live/b049ac07021f3e4269d22a79ca53e6e7815af9ba.png', 'tail_icon': 'http://i0.hdslb.com/bfs/live/822da481fdaba986d738db5d8fd469ffa95a8fa1.webp', 'head_icon_fa': 'http://i0.hdslb.com/bfs/live/b049ac07021f3e4269d22a79ca53e6e7815af9ba.png', 'tail_icon_fa': 'http://i0.hdslb.com/bfs/live/38cb2a9f1209b16c0f15162b0b553e3b28d9f16f.png', 'head_icon_fan': 1, 'tail_icon_fan': 4, 'background': '#FFE6BDFF', 'color': '#9D5412FF', 'highlight': '#FF6933FF', 'time': 10}, 'half': {'head_icon': 'http://i0.hdslb.com/bfs/live/4db5bf9efcac5d5928b6040038831ffe85a91883.png', 'tail_icon': '', 'background': '#FFE6BDFF', 'color': '#9D5412FF', 'highlight': '#FF6933FF', 'time': 8}, 'side': {'head_icon': 'http://i0.hdslb.com/bfs/live/fa323d24f448d670bcc3dc59996d17463860a6b3.png', 'background': '#F5EBDDFF', 'color': '#DA9F77FF', 'highlight': '#C67137FF', 'border': '#ECDDC0FF'}, 'msg_type': 1, 'roomid': 21376408, 'real_roomid': 21376408, 'msg_common': '恭喜主播<%铃果Official%>夺得<%21:00-22:00%>小时总榜第一名！赶快来围观吧~', 'msg_self': '恭喜主播<%铃果Official%>夺得<%21:00-22:00%>小时总榜第一名！', 'link_url': 'https://live.bilibili.com/21376408?from=28003&extra_jump_from=28003', 'cmd': 'NOTICE_MSG', 'shield_uid': -1}\n"
     ]
    },
    {
     "name": "stderr",
     "output_type": "stream",
     "text": [
      "send: b'\\x81\\x9f\\x07\\xbb\\x8b\\x8c\\x07\\xbb\\x8b\\x93\\x07\\xab\\x8b\\x8d\\x07\\xbb\\x8b\\x8e\\x07\\xbb\\x8b\\x8d\\\\\\xd4\\xe9\\xe6b\\xd8\\xff\\xacH\\xd9\\xe1\\xe9d\\xcf\\xd6'\n"
     ]
    },
    {
     "name": "stdout",
     "output_type": "stream",
     "text": [
      "当前观众：1\n"
     ]
    },
    {
     "name": "stderr",
     "output_type": "stream",
     "text": [
      "send: b'\\x81\\x9f\\x93fW\\xaf\\x93fW\\xb0\\x93vW\\xae\\x93fW\\xad\\x93fW\\xae\\xc8\\t5\\xc5\\xf6\\x05#\\x8f\\xdc\\x04=\\xca\\xf0\\x12\\n'\n"
     ]
    },
    {
     "name": "stdout",
     "output_type": "stream",
     "text": [
      "当前观众：1\n"
     ]
    },
    {
     "name": "stderr",
     "output_type": "stream",
     "text": [
      "send: b'\\x81\\x9f\\xc6\\x93\\x05\\xd3\\xc6\\x93\\x05\\xcc\\xc6\\x83\\x05\\xd2\\xc6\\x93\\x05\\xd1\\xc6\\x93\\x05\\xd2\\x9d\\xfcg\\xb9\\xa3\\xf0q\\xf3\\x89\\xf1o\\xb6\\xa5\\xe7X'\n"
     ]
    },
    {
     "name": "stdout",
     "output_type": "stream",
     "text": [
      "{'cmd': 'SYS_MSG', 'msg': '荆介丶:?送给:?金戈药商白止:?1个小电视飞船，点击前往TA的房间去抽奖吧', 'msg_text': '荆介丶:?送给:?金戈药商白止:?1个小电视飞船，点击前往TA的房间去抽奖吧', 'msg_common': '全区广播：<%荆介丶%>送给<%金戈药商白止%>1个小电视飞船，点击前往TA的房间去抽奖吧', 'msg_self': '全区广播：<%荆介丶%>送给<%金戈药商白止%>1个小电视飞船，快来抽奖吧', 'rep': 1, 'styleType': 2, 'url': 'http://live.bilibili.com/498', 'roomid': 498, 'real_roomid': 382110, 'rnd': 483134311, 'broadcast_type': 0}\n",
      "{'cmd': 'NOTICE_MSG', 'full': {'head_icon': 'http://i0.hdslb.com/bfs/live/b29add66421580c3e680d784a827202e512a40a0.webp', 'tail_icon': 'http://i0.hdslb.com/bfs/live/822da481fdaba986d738db5d8fd469ffa95a8fa1.webp', 'head_icon_fa': 'http://i0.hdslb.com/bfs/live/49869a52d6225a3e70bbf1f4da63f199a95384b2.png', 'tail_icon_fa': 'http://i0.hdslb.com/bfs/live/38cb2a9f1209b16c0f15162b0b553e3b28d9f16f.png', 'head_icon_fan': 24, 'tail_icon_fan': 4, 'background': '#66A74EFF', 'color': '#FFFFFFFF', 'highlight': '#FDFF2FFF', 'time': 20}, 'half': {'head_icon': 'http://i0.hdslb.com/bfs/live/ec9b374caec5bd84898f3780a10189be96b86d4e.png', 'tail_icon': '', 'background': '#85B971FF', 'color': '#FFFFFFFF', 'highlight': '#FDFF2FFF', 'time': 15}, 'side': {'head_icon': 'http://i0.hdslb.com/bfs/live/e41c7e12b1e08724d2ab2f369515132d30fe1ef7.png', 'background': '#F4FDE8FF', 'color': '#79B48EFF', 'highlight': '#388726FF', 'border': '#A9DA9FFF'}, 'roomid': 498, 'real_roomid': 382110, 'msg_common': '全区广播：<%荆介丶%>送给<%金戈药商白止%>1个小电视飞船，点击前往TA的房间去抽奖吧', 'msg_self': '全区广播：<%荆介丶%>送给<%金戈药商白止%>1个小电视飞船，快来抽奖吧', 'link_url': 'http://live.bilibili.com/498?live_lottery_type=1&broadcast_type=0&from=28003&extra_jump_from=28003', 'msg_type': 2, 'shield_uid': -1}\n",
      "当前观众：1\n"
     ]
    },
    {
     "name": "stderr",
     "output_type": "stream",
     "text": [
      "send: b\"\\x81\\x9f\\x19\\xd2'2\\x19\\xd2'-\\x19\\xc2'3\\x19\\xd2'0\\x19\\xd2'3B\\xbdEX|\\xb1S\\x12V\\xb0MWz\\xa6z\"\n"
     ]
    },
    {
     "name": "stdout",
     "output_type": "stream",
     "text": [
      "当前观众：1\n"
     ]
    },
    {
     "name": "stderr",
     "output_type": "stream",
     "text": [
      "send: b'\\x81\\x9f\\x8b\\xd6FO\\x8b\\xd6FP\\x8b\\xc6FN\\x8b\\xd6FM\\x8b\\xd6FN\\xd0\\xb9$%\\xee\\xb52o\\xc4\\xb4,*\\xe8\\xa2\\x1b'\n"
     ]
    },
    {
     "name": "stdout",
     "output_type": "stream",
     "text": [
      "当前观众：1\n"
     ]
    },
    {
     "name": "stderr",
     "output_type": "stream",
     "text": [
      "send: b\"\\x81\\x9f\\x91\\x895M\\x91\\x895R\\x91\\x995L\\x91\\x895O\\x91\\x895L\\xca\\xe6W'\\xf4\\xeaAm\\xde\\xeb_(\\xf2\\xfdh\"\n"
     ]
    },
    {
     "name": "stdout",
     "output_type": "stream",
     "text": [
      "当前观众：1\n"
     ]
    },
    {
     "name": "stderr",
     "output_type": "stream",
     "text": [
      "send: b'\\x81\\x9f[qs\\x17[qs\\x08[as\\x16[qs\\x15[qs\\x16\\x00\\x1e\\x11}>\\x12\\x077\\x14\\x13\\x19r8\\x05.'\n"
     ]
    },
    {
     "name": "stdout",
     "output_type": "stream",
     "text": [
      "当前观众：1\n",
      "{'cmd': 'SYS_MSG', 'msg': ' :?主播:?C酱です:?开启了“任意门”，点击前往TA的房间去抽奖吧！', 'msg_text': ' :?主播:?C酱です:?开启了“任意门”，点击前往TA的房间去抽奖吧！', 'msg_common': '全区广播：主播<%C酱です%>开启了“任意门”，点击前往TA的房间去抽奖吧！', 'msg_self': '全区广播：主播<%C酱です%>开启了“任意门”，快来抽奖吧！', 'rep': 1, 'styleType': 2, 'url': 'http://live.bilibili.com/213', 'roomid': 213, 'real_roomid': 47867, 'rnd': 97295252, 'broadcast_type': 0}\n",
      "{'cmd': 'NOTICE_MSG', 'full': {'head_icon': 'http://i0.hdslb.com/bfs/live/a3e164513bd030f1113a8fbe1165454880c3ee4c.webp', 'tail_icon': 'http://i0.hdslb.com/bfs/live/822da481fdaba986d738db5d8fd469ffa95a8fa1.webp', 'head_icon_fa': 'http://i0.hdslb.com/bfs/live/28c2f3dd68170391d173ca2efd02bdabc917df26.png', 'tail_icon_fa': 'http://i0.hdslb.com/bfs/live/38cb2a9f1209b16c0f15162b0b553e3b28d9f16f.png', 'head_icon_fan': 1, 'tail_icon_fan': 4, 'background': '#8675F5FF', 'color': '#FFFFFFFF', 'highlight': '#FDFF2FFF', 'time': 20}, 'half': {'head_icon': 'http://i0.hdslb.com/bfs/live/df00be5ee88c4cd53514090a58f8702368b9a324.png', 'tail_icon': '', 'background': '#9299F2FF', 'color': '#FFFFFFFF', 'highlight': '#FDFF2FFF', 'time': 15}, 'side': {'head_icon': '', 'background': '', 'color': '', 'highlight': '', 'border': ''}, 'roomid': 213, 'real_roomid': 47867, 'msg_common': '全区广播：主播<%C酱です%>开启了“任意门”，点击前往TA的房间去抽奖吧！', 'msg_self': '全区广播：主播<%C酱です%>开启了“任意门”，快来抽奖吧！', 'link_url': 'http://live.bilibili.com/213?live_lottery_type=1&broadcast_type=0&from=28003&extra_jump_from=28003', 'msg_type': 8, 'shield_uid': -1}\n"
     ]
    },
    {
     "name": "stderr",
     "output_type": "stream",
     "text": [
      "send: b\"\\x81\\x9f\\xcd'l\\x19\\xcd'l\\x06\\xcd7l\\x18\\xcd'l\\x1b\\xcd'l\\x18\\x96H\\x0es\\xa8D\\x189\\x82E\\x06|\\xaeS1\"\n"
     ]
    },
    {
     "name": "stdout",
     "output_type": "stream",
     "text": [
      "当前观众：1\n",
      "{'cmd': 'SYS_MSG', 'msg': ' :?主播:?C酱です:?开启了“任意门”，点击前往TA的房间去抽奖吧！', 'msg_text': ' :?主播:?C酱です:?开启了“任意门”，点击前往TA的房间去抽奖吧！', 'msg_common': '全区广播：主播<%C酱です%>开启了“任意门”，点击前往TA的房间去抽奖吧！', 'msg_self': '全区广播：主播<%C酱です%>开启了“任意门”，快来抽奖吧！', 'rep': 1, 'styleType': 2, 'url': 'http://live.bilibili.com/213', 'roomid': 213, 'real_roomid': 47867, 'rnd': 38011385, 'broadcast_type': 0}\n",
      "{'cmd': 'NOTICE_MSG', 'full': {'head_icon': 'http://i0.hdslb.com/bfs/live/a3e164513bd030f1113a8fbe1165454880c3ee4c.webp', 'tail_icon': 'http://i0.hdslb.com/bfs/live/822da481fdaba986d738db5d8fd469ffa95a8fa1.webp', 'head_icon_fa': 'http://i0.hdslb.com/bfs/live/28c2f3dd68170391d173ca2efd02bdabc917df26.png', 'tail_icon_fa': 'http://i0.hdslb.com/bfs/live/38cb2a9f1209b16c0f15162b0b553e3b28d9f16f.png', 'head_icon_fan': 1, 'tail_icon_fan': 4, 'background': '#8675F5FF', 'color': '#FFFFFFFF', 'highlight': '#FDFF2FFF', 'time': 20}, 'half': {'head_icon': 'http://i0.hdslb.com/bfs/live/df00be5ee88c4cd53514090a58f8702368b9a324.png', 'tail_icon': '', 'background': '#9299F2FF', 'color': '#FFFFFFFF', 'highlight': '#FDFF2FFF', 'time': 15}, 'side': {'head_icon': '', 'background': '', 'color': '', 'highlight': '', 'border': ''}, 'roomid': 213, 'real_roomid': 47867, 'msg_common': '全区广播：主播<%C酱です%>开启了“任意门”，点击前往TA的房间去抽奖吧！', 'msg_self': '全区广播：主播<%C酱です%>开启了“任意门”，快来抽奖吧！', 'link_url': 'http://live.bilibili.com/213?live_lottery_type=1&broadcast_type=0&from=28003&extra_jump_from=28003', 'msg_type': 8, 'shield_uid': -1}\n"
     ]
    },
    {
     "name": "stderr",
     "output_type": "stream",
     "text": [
      "send: b'\\x81\\x9f\\x0c5\\x1c@\\x0c5\\x1c_\\x0c%\\x1cA\\x0c5\\x1cB\\x0c5\\x1cAWZ~*iVh`CWv%oAA'\n"
     ]
    },
    {
     "name": "stdout",
     "output_type": "stream",
     "text": [
      "当前观众：1\n",
      "{'cmd': 'SYS_MSG', 'msg': ' :?主播:?柒落Seven:?开启了“任意门”，点击前往TA的房间去抽奖吧！', 'msg_text': ' :?主播:?柒落Seven:?开启了“任意门”，点击前往TA的房间去抽奖吧！', 'msg_common': '全区广播：主播<%柒落Seven%>开启了“任意门”，点击前往TA的房间去抽奖吧！', 'msg_self': '全区广播：主播<%柒落Seven%>开启了“任意门”，快来抽奖吧！', 'rep': 1, 'styleType': 2, 'url': 'http://live.bilibili.com/50729', 'roomid': 50729, 'real_roomid': 50729, 'rnd': 45306958, 'broadcast_type': 0}\n",
      "{'cmd': 'NOTICE_MSG', 'full': {'head_icon': 'http://i0.hdslb.com/bfs/live/a3e164513bd030f1113a8fbe1165454880c3ee4c.webp', 'tail_icon': 'http://i0.hdslb.com/bfs/live/822da481fdaba986d738db5d8fd469ffa95a8fa1.webp', 'head_icon_fa': 'http://i0.hdslb.com/bfs/live/28c2f3dd68170391d173ca2efd02bdabc917df26.png', 'tail_icon_fa': 'http://i0.hdslb.com/bfs/live/38cb2a9f1209b16c0f15162b0b553e3b28d9f16f.png', 'head_icon_fan': 1, 'tail_icon_fan': 4, 'background': '#8675F5FF', 'color': '#FFFFFFFF', 'highlight': '#FDFF2FFF', 'time': 20}, 'half': {'head_icon': 'http://i0.hdslb.com/bfs/live/df00be5ee88c4cd53514090a58f8702368b9a324.png', 'tail_icon': '', 'background': '#9299F2FF', 'color': '#FFFFFFFF', 'highlight': '#FDFF2FFF', 'time': 15}, 'side': {'head_icon': '', 'background': '', 'color': '', 'highlight': '', 'border': ''}, 'roomid': 50729, 'real_roomid': 50729, 'msg_common': '全区广播：主播<%柒落Seven%>开启了“任意门”，点击前往TA的房间去抽奖吧！', 'msg_self': '全区广播：主播<%柒落Seven%>开启了“任意门”，快来抽奖吧！', 'link_url': 'http://live.bilibili.com/50729?live_lottery_type=1&broadcast_type=0&from=28003&extra_jump_from=28003', 'msg_type': 8, 'shield_uid': -1}\n"
     ]
    },
    {
     "name": "stderr",
     "output_type": "stream",
     "text": [
      "send: b'\\x81\\x9f4\\xf9\\x19H4\\xf9\\x19W4\\xe9\\x19I4\\xf9\\x19J4\\xf9\\x19Io\\x96{\"Q\\x9amh{\\x9bs-W\\x8dD'\n"
     ]
    },
    {
     "name": "stdout",
     "output_type": "stream",
     "text": [
      "当前观众：1\n"
     ]
    },
    {
     "name": "stderr",
     "output_type": "stream",
     "text": [
      "send: b'\\x81\\x9f\\x9f\\xe0\\xf3\\xaa\\x9f\\xe0\\xf3\\xb5\\x9f\\xf0\\xf3\\xab\\x9f\\xe0\\xf3\\xa8\\x9f\\xe0\\xf3\\xab\\xc4\\x8f\\x91\\xc0\\xfa\\x83\\x87\\x8a\\xd0\\x82\\x99\\xcf\\xfc\\x94\\xae'\n"
     ]
    },
    {
     "name": "stdout",
     "output_type": "stream",
     "text": [
      "当前观众：1\n"
     ]
    },
    {
     "name": "stderr",
     "output_type": "stream",
     "text": [
      "send: b'\\x81\\x9f\\x9d\\xc0\\x08\\x19\\x9d\\xc0\\x08\\x06\\x9d\\xd0\\x08\\x18\\x9d\\xc0\\x08\\x1b\\x9d\\xc0\\x08\\x18\\xc6\\xafjs\\xf8\\xa3|9\\xd2\\xa2b|\\xfe\\xb4U'\n"
     ]
    },
    {
     "name": "stdout",
     "output_type": "stream",
     "text": [
      "当前观众：1\n"
     ]
    },
    {
     "name": "stderr",
     "output_type": "stream",
     "text": [
      "send: b'\\x81\\x9f\\xf5\\x9a\\x881\\xf5\\x9a\\x88.\\xf5\\x8a\\x880\\xf5\\x9a\\x883\\xf5\\x9a\\x880\\xae\\xf5\\xea[\\x90\\xf9\\xfc\\x11\\xba\\xf8\\xe2T\\x96\\xee\\xd5'\n"
     ]
    },
    {
     "name": "stdout",
     "output_type": "stream",
     "text": [
      "当前观众：1\n"
     ]
    },
    {
     "name": "stderr",
     "output_type": "stream",
     "text": [
      "send: b'\\x81\\x9fw\\x1a(\\\\w\\x1a(Cw\\n(]w\\x1a(^w\\x1a(],uJ6\\x12y\\\\|8xB9\\x14nu'\n"
     ]
    },
    {
     "name": "stdout",
     "output_type": "stream",
     "text": [
      "当前观众：1\n"
     ]
    },
    {
     "name": "stderr",
     "output_type": "stream",
     "text": [
      "send: b'\\x81\\x9f\\xa7\\x12q\\xdb\\xa7\\x12q\\xc4\\xa7\\x02q\\xda\\xa7\\x12q\\xd9\\xa7\\x12q\\xda\\xfc}\\x13\\xb1\\xc2q\\x05\\xfb\\xe8p\\x1b\\xbe\\xc4f,'\n"
     ]
    },
    {
     "name": "stdout",
     "output_type": "stream",
     "text": [
      "当前观众：1\n"
     ]
    },
    {
     "name": "stderr",
     "output_type": "stream",
     "text": [
      "send: b'\\x81\\x9f]{\\xc8\\xbc]{\\xc8\\xa3]k\\xc8\\xbd]{\\xc8\\xbe]{\\xc8\\xbd\\x06\\x14\\xaa\\xd68\\x18\\xbc\\x9c\\x12\\x19\\xa2\\xd9>\\x0f\\x95'\n"
     ]
    },
    {
     "name": "stdout",
     "output_type": "stream",
     "text": [
      "当前观众：1\n"
     ]
    },
    {
     "name": "stderr",
     "output_type": "stream",
     "text": [
      "send: b\"\\x81\\x9fD\\xa7N\\xccD\\xa7N\\xd3D\\xb7N\\xcdD\\xa7N\\xceD\\xa7N\\xcd\\x1f\\xc8,\\xa6!\\xc4:\\xec\\x0b\\xc5$\\xa9'\\xd3\\x13\"\n"
     ]
    },
    {
     "name": "stdout",
     "output_type": "stream",
     "text": [
      "当前观众：1\n"
     ]
    },
    {
     "name": "stderr",
     "output_type": "stream",
     "text": [
      "send: b'\\x81\\x9f@\\xa1CE@\\xa1CZ@\\xb1CD@\\xa1CG@\\xa1CD\\x1b\\xce!/%\\xc27e\\x0f\\xc3) #\\xd5\\x1e'\n"
     ]
    },
    {
     "name": "stdout",
     "output_type": "stream",
     "text": [
      "当前观众：1\n",
      "{'cmd': 'SYS_MSG', 'msg': ' :?主播:?铃果Official:?开启了“任意门”，点击前往TA的房间去抽奖吧！', 'msg_text': ' :?主播:?铃果Official:?开启了“任意门”，点击前往TA的房间去抽奖吧！', 'msg_common': '全区广播：主播<%铃果Official%>开启了“任意门”，点击前往TA的房间去抽奖吧！', 'msg_self': '全区广播：主播<%铃果Official%>开启了“任意门”，快来抽奖吧！', 'rep': 1, 'styleType': 2, 'url': 'http://live.bilibili.com/21376408', 'roomid': 21376408, 'real_roomid': 21376408, 'rnd': 32236570, 'broadcast_type': 0}\n",
      "{'cmd': 'NOTICE_MSG', 'full': {'head_icon': 'http://i0.hdslb.com/bfs/live/a3e164513bd030f1113a8fbe1165454880c3ee4c.webp', 'tail_icon': 'http://i0.hdslb.com/bfs/live/822da481fdaba986d738db5d8fd469ffa95a8fa1.webp', 'head_icon_fa': 'http://i0.hdslb.com/bfs/live/28c2f3dd68170391d173ca2efd02bdabc917df26.png', 'tail_icon_fa': 'http://i0.hdslb.com/bfs/live/38cb2a9f1209b16c0f15162b0b553e3b28d9f16f.png', 'head_icon_fan': 1, 'tail_icon_fan': 4, 'background': '#8675F5FF', 'color': '#FFFFFFFF', 'highlight': '#FDFF2FFF', 'time': 20}, 'half': {'head_icon': 'http://i0.hdslb.com/bfs/live/df00be5ee88c4cd53514090a58f8702368b9a324.png', 'tail_icon': '', 'background': '#9299F2FF', 'color': '#FFFFFFFF', 'highlight': '#FDFF2FFF', 'time': 15}, 'side': {'head_icon': '', 'background': '', 'color': '', 'highlight': '', 'border': ''}, 'roomid': 21376408, 'real_roomid': 21376408, 'msg_common': '全区广播：主播<%铃果Official%>开启了“任意门”，点击前往TA的房间去抽奖吧！', 'msg_self': '全区广播：主播<%铃果Official%>开启了“任意门”，快来抽奖吧！', 'link_url': 'http://live.bilibili.com/21376408?live_lottery_type=1&broadcast_type=0&from=28003&extra_jump_from=28003', 'msg_type': 8, 'shield_uid': -1}\n"
     ]
    },
    {
     "name": "stderr",
     "output_type": "stream",
     "text": [
      "send: b'\\x81\\x9f4\\x13\\x14\\x8b4\\x13\\x14\\x944\\x03\\x14\\x8a4\\x13\\x14\\x894\\x13\\x14\\x8ao|v\\xe1Qp`\\xab{q~\\xeeWgI'\n"
     ]
    },
    {
     "name": "stdout",
     "output_type": "stream",
     "text": [
      "当前观众：1\n"
     ]
    },
    {
     "name": "stderr",
     "output_type": "stream",
     "text": [
      "send: b'\\x81\\x9f\\xbe\\xa4\\xe8\\x08\\xbe\\xa4\\xe8\\x17\\xbe\\xb4\\xe8\\t\\xbe\\xa4\\xe8\\n\\xbe\\xa4\\xe8\\t\\xe5\\xcb\\x8ab\\xdb\\xc7\\x9c(\\xf1\\xc6\\x82m\\xdd\\xd0\\xb5'\n"
     ]
    },
    {
     "name": "stdout",
     "output_type": "stream",
     "text": [
      "当前观众：1\n"
     ]
    },
    {
     "name": "stderr",
     "output_type": "stream",
     "text": [
      "send: b'\\x81\\x9fw0\\xe7\\x0ew0\\xe7\\x11w \\xe7\\x0fw0\\xe7\\x0cw0\\xe7\\x0f,_\\x85d\\x12S\\x93.8R\\x8dk\\x14D\\xba'\n"
     ]
    },
    {
     "name": "stdout",
     "output_type": "stream",
     "text": [
      "当前观众：1\n",
      "{'cmd': 'SYS_GIFT', 'msg': '非祢不可:?  在LucyF不是路西法的:?直播间146:?内赠送:?3:?共46个', 'rnd': '1560434783', 'uid': 313311135, 'msg_text': '非祢不可在LucyF不是路西法的直播间146内赠送B坷垃共46个'}\n",
      "{'full': {'head_icon': 'http://i0.hdslb.com/bfs/live/6fb61c0b149b46571b7945ba4e7561b92929bd04.webp', 'tail_icon': 'http://i0.hdslb.com/bfs/live/822da481fdaba986d738db5d8fd469ffa95a8fa1.webp', 'head_icon_fa': 'http://i0.hdslb.com/bfs/live/88b6e816855fdaedb5664359d8b5a5ae7de39807.png', 'tail_icon_fa': 'http://i0.hdslb.com/bfs/live/38cb2a9f1209b16c0f15162b0b553e3b28d9f16f.png', 'head_icon_fan': 24, 'tail_icon_fan': 4, 'background': '#5E769FFF', 'color': '#FFFFFFFF', 'highlight': '#FFF77FFF', 'time': 10}, 'half': {'head_icon': 'http://i0.hdslb.com/bfs/live/4db5bf9efcac5d5928b6040038831ffe85a91883.png', 'tail_icon': '', 'background': '#8DA3C7FF', 'color': '#FFFFFFFF', 'highlight': '#FFF77FFF', 'time': 8}, 'msg_type': 6, 'roomid': 146, 'real_roomid': 46737, 'msg_common': '非祢不可在LucyF不是路西法的直播间146内赠送B坷垃共46个', 'msg_self': '非祢不可在LucyF不是路西法的直播间146内赠送B坷垃共46个', 'link_url': 'http://live.bilibili.com/146?broadcast_type=-1&from=28003&extra_jump_from=28003', 'cmd': 'NOTICE_MSG', 'side': {'head_icon': '', 'background': '', 'color': '', 'highlight': '', 'border': ''}, 'shield_uid': -1}\n"
     ]
    },
    {
     "name": "stderr",
     "output_type": "stream",
     "text": [
      "send: b'\\x81\\x9f\\xcd\\xafU\\xaf\\xcd\\xafU\\xb0\\xcd\\xbfU\\xae\\xcd\\xafU\\xad\\xcd\\xafU\\xae\\x96\\xc07\\xc5\\xa8\\xcc!\\x8f\\x82\\xcd?\\xca\\xae\\xdb\\x08'\n"
     ]
    },
    {
     "name": "stdout",
     "output_type": "stream",
     "text": [
      "当前观众：1\n"
     ]
    },
    {
     "name": "stderr",
     "output_type": "stream",
     "text": [
      "send: b'\\x81\\x9f6k\\n\\xf06k\\n\\xef6{\\n\\xf16k\\n\\xf26k\\n\\xf1m\\x04h\\x9aS\\x08~\\xd0y\\t`\\x95U\\x1fW'\n"
     ]
    },
    {
     "name": "stdout",
     "output_type": "stream",
     "text": [
      "当前观众：1\n"
     ]
    },
    {
     "name": "stderr",
     "output_type": "stream",
     "text": [
      "send: b'\\x81\\x9f\\xfeB\\x8e\\x9d\\xfeB\\x8e\\x82\\xfeR\\x8e\\x9c\\xfeB\\x8e\\x9f\\xfeB\\x8e\\x9c\\xa5-\\xec\\xf7\\x9b!\\xfa\\xbd\\xb1 \\xe4\\xf8\\x9d6\\xd3'\n"
     ]
    },
    {
     "name": "stdout",
     "output_type": "stream",
     "text": [
      "当前观众：1\n"
     ]
    },
    {
     "name": "stderr",
     "output_type": "stream",
     "text": [
      "send: b'\\x81\\x9f;\\x87\\xcd\\xab;\\x87\\xcd\\xb4;\\x97\\xcd\\xaa;\\x87\\xcd\\xa9;\\x87\\xcd\\xaa`\\xe8\\xaf\\xc1^\\xe4\\xb9\\x8bt\\xe5\\xa7\\xceX\\xf3\\x90'\n"
     ]
    },
    {
     "name": "stdout",
     "output_type": "stream",
     "text": [
      "当前观众：1\n"
     ]
    },
    {
     "name": "stderr",
     "output_type": "stream",
     "text": [
      "send: b'\\x81\\x9f\\xa6\\xcem\\xe4\\xa6\\xcem\\xfb\\xa6\\xdem\\xe5\\xa6\\xcem\\xe6\\xa6\\xcem\\xe5\\xfd\\xa1\\x0f\\x8e\\xc3\\xad\\x19\\xc4\\xe9\\xac\\x07\\x81\\xc5\\xba0'\n"
     ]
    },
    {
     "name": "stdout",
     "output_type": "stream",
     "text": [
      "当前观众：1\n"
     ]
    },
    {
     "name": "stderr",
     "output_type": "stream",
     "text": [
      "send: b\"\\x81\\x9f|\\t\\x10\\xf0|\\t\\x10\\xef|\\x19\\x10\\xf1|\\t\\x10\\xf2|\\t\\x10\\xf1'fr\\x9a\\x19jd\\xd03kz\\x95\\x1f}M\"\n"
     ]
    },
    {
     "name": "stdout",
     "output_type": "stream",
     "text": [
      "当前观众：1\n"
     ]
    },
    {
     "name": "stderr",
     "output_type": "stream",
     "text": [
      "send: b'\\x81\\x9fd\\xb3\\x16\\xded\\xb3\\x16\\xc1d\\xa3\\x16\\xdfd\\xb3\\x16\\xdcd\\xb3\\x16\\xdf?\\xdct\\xb4\\x01\\xd0b\\xfe+\\xd1|\\xbb\\x07\\xc7K'\n"
     ]
    },
    {
     "name": "stdout",
     "output_type": "stream",
     "text": [
      "当前观众：1\n",
      "{'cmd': 'SYS_MSG', 'msg': '小小小thirteen:?送给:?狗斯特Ghost:?1个小电视飞船，点击前往TA的房间去抽奖吧', 'msg_text': '小小小thirteen:?送给:?狗斯特Ghost:?1个小电视飞船，点击前往TA的房间去抽奖吧', 'msg_common': '全区广播：<%小小小thirteen%>送给<%狗斯特Ghost%>1个小电视飞船，点击前往TA的房间去抽奖吧', 'msg_self': '全区广播：<%小小小thirteen%>送给<%狗斯特Ghost%>1个小电视飞船，快来抽奖吧', 'rep': 1, 'styleType': 2, 'url': 'http://live.bilibili.com/669046', 'roomid': 669046, 'real_roomid': 669046, 'rnd': 10, 'broadcast_type': 0}\n",
      "{'cmd': 'NOTICE_MSG', 'full': {'head_icon': 'http://i0.hdslb.com/bfs/live/b29add66421580c3e680d784a827202e512a40a0.webp', 'tail_icon': 'http://i0.hdslb.com/bfs/live/822da481fdaba986d738db5d8fd469ffa95a8fa1.webp', 'head_icon_fa': 'http://i0.hdslb.com/bfs/live/49869a52d6225a3e70bbf1f4da63f199a95384b2.png', 'tail_icon_fa': 'http://i0.hdslb.com/bfs/live/38cb2a9f1209b16c0f15162b0b553e3b28d9f16f.png', 'head_icon_fan': 24, 'tail_icon_fan': 4, 'background': '#66A74EFF', 'color': '#FFFFFFFF', 'highlight': '#FDFF2FFF', 'time': 20}, 'half': {'head_icon': 'http://i0.hdslb.com/bfs/live/ec9b374caec5bd84898f3780a10189be96b86d4e.png', 'tail_icon': '', 'background': '#85B971FF', 'color': '#FFFFFFFF', 'highlight': '#FDFF2FFF', 'time': 15}, 'side': {'head_icon': 'http://i0.hdslb.com/bfs/live/e41c7e12b1e08724d2ab2f369515132d30fe1ef7.png', 'background': '#F4FDE8FF', 'color': '#79B48EFF', 'highlight': '#388726FF', 'border': '#A9DA9FFF'}, 'roomid': 669046, 'real_roomid': 669046, 'msg_common': '全区广播：<%小小小thirteen%>送给<%狗斯特Ghost%>1个小电视飞船，点击前往TA的房间去抽奖吧', 'msg_self': '全区广播：<%小小小thirteen%>送给<%狗斯特Ghost%>1个小电视飞船，快来抽奖吧', 'link_url': 'http://live.bilibili.com/669046?live_lottery_type=1&broadcast_type=0&from=28003&extra_jump_from=28003', 'msg_type': 2, 'shield_uid': -1}\n"
     ]
    },
    {
     "name": "stderr",
     "output_type": "stream",
     "text": [
      "send: b'\\x81\\x9f9\\xfb\\x83>9\\xfb\\x83!9\\xeb\\x83?9\\xfb\\x83<9\\xfb\\x83?b\\x94\\xe1T\\\\\\x98\\xf7\\x1ev\\x99\\xe9[Z\\x8f\\xde'\n"
     ]
    },
    {
     "name": "stdout",
     "output_type": "stream",
     "text": [
      "当前观众：1\n"
     ]
    },
    {
     "name": "stderr",
     "output_type": "stream",
     "text": [
      "send: b'\\x81\\x9f4\\xbc\\x1am4\\xbc\\x1ar4\\xac\\x1al4\\xbc\\x1ao4\\xbc\\x1alo\\xd3x\\x07Q\\xdfnM{\\xdep\\x08W\\xc8G'\n"
     ]
    },
    {
     "name": "stdout",
     "output_type": "stream",
     "text": [
      "当前观众：1\n"
     ]
    },
    {
     "name": "stderr",
     "output_type": "stream",
     "text": [
      "send: b'\\x81\\x9f>\\xc7}9>\\xc7}&>\\xd7}8>\\xc7};>\\xc7}8e\\xa8\\x1fS[\\xa4\\t\\x19q\\xa5\\x17\\\\]\\xb3 '\n"
     ]
    },
    {
     "name": "stdout",
     "output_type": "stream",
     "text": [
      "当前观众：1\n"
     ]
    },
    {
     "name": "stderr",
     "output_type": "stream",
     "text": [
      "send: b'\\x81\\x9f\\x04\\xb9!-\\x04\\xb9!2\\x04\\xa9!,\\x04\\xb9!/\\x04\\xb9!,_\\xd6CGa\\xdaU\\rK\\xdbKHg\\xcd|'\n"
     ]
    },
    {
     "name": "stdout",
     "output_type": "stream",
     "text": [
      "当前观众：1\n",
      "{'cmd': 'SYS_MSG', 'msg': 'X杰的星辰之境:?送给:?CV-X杰:?1个小电视飞船，点击前往TA的房间去抽奖吧', 'msg_text': 'X杰的星辰之境:?送给:?CV-X杰:?1个小电视飞船，点击前往TA的房间去抽奖吧', 'msg_common': '全区广播：<%X杰的星辰之境%>送给<%CV-X杰%>1个小电视飞船，点击前往TA的房间去抽奖吧', 'msg_self': '全区广播：<%X杰的星辰之境%>送给<%CV-X杰%>1个小电视飞船，快来抽奖吧', 'rep': 1, 'styleType': 2, 'url': 'http://live.bilibili.com/4259726', 'roomid': 4259726, 'real_roomid': 4259726, 'rnd': 1560433860, 'broadcast_type': 0}\n",
      "{'cmd': 'NOTICE_MSG', 'full': {'head_icon': 'http://i0.hdslb.com/bfs/live/b29add66421580c3e680d784a827202e512a40a0.webp', 'tail_icon': 'http://i0.hdslb.com/bfs/live/822da481fdaba986d738db5d8fd469ffa95a8fa1.webp', 'head_icon_fa': 'http://i0.hdslb.com/bfs/live/49869a52d6225a3e70bbf1f4da63f199a95384b2.png', 'tail_icon_fa': 'http://i0.hdslb.com/bfs/live/38cb2a9f1209b16c0f15162b0b553e3b28d9f16f.png', 'head_icon_fan': 24, 'tail_icon_fan': 4, 'background': '#66A74EFF', 'color': '#FFFFFFFF', 'highlight': '#FDFF2FFF', 'time': 20}, 'half': {'head_icon': 'http://i0.hdslb.com/bfs/live/ec9b374caec5bd84898f3780a10189be96b86d4e.png', 'tail_icon': '', 'background': '#85B971FF', 'color': '#FFFFFFFF', 'highlight': '#FDFF2FFF', 'time': 15}, 'side': {'head_icon': 'http://i0.hdslb.com/bfs/live/e41c7e12b1e08724d2ab2f369515132d30fe1ef7.png', 'background': '#F4FDE8FF', 'color': '#79B48EFF', 'highlight': '#388726FF', 'border': '#A9DA9FFF'}, 'roomid': 4259726, 'real_roomid': 4259726, 'msg_common': '全区广播：<%X杰的星辰之境%>送给<%CV-X杰%>1个小电视飞船，点击前往TA的房间去抽奖吧', 'msg_self': '全区广播：<%X杰的星辰之境%>送给<%CV-X杰%>1个小电视飞船，快来抽奖吧', 'link_url': 'http://live.bilibili.com/4259726?live_lottery_type=1&broadcast_type=0&from=28003&extra_jump_from=28003', 'msg_type': 2, 'shield_uid': -1}\n"
     ]
    },
    {
     "name": "stderr",
     "output_type": "stream",
     "text": [
      "send: b'\\x81\\x9f\\xc1\\x8ab\\xc7\\xc1\\x8ab\\xd8\\xc1\\x9ab\\xc6\\xc1\\x8ab\\xc5\\xc1\\x8ab\\xc6\\x9a\\xe5\\x00\\xad\\xa4\\xe9\\x16\\xe7\\x8e\\xe8\\x08\\xa2\\xa2\\xfe?'\n"
     ]
    },
    {
     "name": "stdout",
     "output_type": "stream",
     "text": [
      "当前观众：1\n"
     ]
    },
    {
     "name": "stderr",
     "output_type": "stream",
     "text": [
      "send: b'\\x81\\x9f\\xeb\\x97s\\xcc\\xeb\\x97s\\xd3\\xeb\\x87s\\xcd\\xeb\\x97s\\xce\\xeb\\x97s\\xcd\\xb0\\xf8\\x11\\xa6\\x8e\\xf4\\x07\\xec\\xa4\\xf5\\x19\\xa9\\x88\\xe3.'\n"
     ]
    },
    {
     "name": "stdout",
     "output_type": "stream",
     "text": [
      "当前观众：1\n"
     ]
    },
    {
     "name": "stderr",
     "output_type": "stream",
     "text": [
      "send: b'\\x81\\x9f\\x16\\xe1.2\\x16\\xe1.-\\x16\\xf1.3\\x16\\xe1.0\\x16\\xe1.3M\\x8eLXs\\x82Z\\x12Y\\x83DWu\\x95s'\n"
     ]
    },
    {
     "name": "stdout",
     "output_type": "stream",
     "text": [
      "当前观众：1\n"
     ]
    },
    {
     "name": "stderr",
     "output_type": "stream",
     "text": [
      "send: b'\\x81\\x9f\\xc2Q\\x1f\\x91\\xc2Q\\x1f\\x8e\\xc2A\\x1f\\x90\\xc2Q\\x1f\\x93\\xc2Q\\x1f\\x90\\x99>}\\xfb\\xa72k\\xb1\\x8d3u\\xf4\\xa1%B'\n"
     ]
    },
    {
     "name": "stdout",
     "output_type": "stream",
     "text": [
      "当前观众：1\n"
     ]
    },
    {
     "name": "stderr",
     "output_type": "stream",
     "text": [
      "send: b'\\x81\\x9f\\xf1\\xd5\\xe8\\xa9\\xf1\\xd5\\xe8\\xb6\\xf1\\xc5\\xe8\\xa8\\xf1\\xd5\\xe8\\xab\\xf1\\xd5\\xe8\\xa8\\xaa\\xba\\x8a\\xc3\\x94\\xb6\\x9c\\x89\\xbe\\xb7\\x82\\xcc\\x92\\xa1\\xb5'\n"
     ]
    },
    {
     "name": "stdout",
     "output_type": "stream",
     "text": [
      "当前观众：1\n"
     ]
    },
    {
     "name": "stderr",
     "output_type": "stream",
     "text": [
      "send: b'\\x81\\x9f\\x02\\xf9y\\x82\\x02\\xf9y\\x9d\\x02\\xe9y\\x83\\x02\\xf9y\\x80\\x02\\xf9y\\x83Y\\x96\\x1b\\xe8g\\x9a\\r\\xa2M\\x9b\\x13\\xe7a\\x8d$'\n"
     ]
    },
    {
     "name": "stdout",
     "output_type": "stream",
     "text": [
      "当前观众：1\n"
     ]
    },
    {
     "name": "stderr",
     "output_type": "stream",
     "text": [
      "send: b'\\x81\\x9f\\xc6K\\xb2\\x8e\\xc6K\\xb2\\x91\\xc6[\\xb2\\x8f\\xc6K\\xb2\\x8c\\xc6K\\xb2\\x8f\\x9d$\\xd0\\xe4\\xa3(\\xc6\\xae\\x89)\\xd8\\xeb\\xa5?\\xef'\n"
     ]
    },
    {
     "name": "stdout",
     "output_type": "stream",
     "text": [
      "当前观众：1\n"
     ]
    },
    {
     "name": "stderr",
     "output_type": "stream",
     "text": [
      "send: b\"\\x81\\x9f'\\xe2\\xc6_'\\xe2\\xc6@'\\xf2\\xc6^'\\xe2\\xc6]'\\xe2\\xc6^|\\x8d\\xa45B\\x81\\xb2\\x7fh\\x80\\xac:D\\x96\\x9b\"\n"
     ]
    },
    {
     "name": "stdout",
     "output_type": "stream",
     "text": [
      "当前观众：1\n"
     ]
    },
    {
     "name": "stderr",
     "output_type": "stream",
     "text": [
      "send: b'\\x81\\x9f\\xf6\\xfc(s\\xf6\\xfc(l\\xf6\\xec(r\\xf6\\xfc(q\\xf6\\xfc(r\\xad\\x93J\\x19\\x93\\x9f\\\\S\\xb9\\x9eB\\x16\\x95\\x88u'\n"
     ]
    },
    {
     "name": "stdout",
     "output_type": "stream",
     "text": [
      "当前观众：1\n"
     ]
    },
    {
     "name": "stderr",
     "output_type": "stream",
     "text": [
      "send: b'\\x81\\x9f\\xe7N`\\x1b\\xe7N`\\x04\\xe7^`\\x1a\\xe7N`\\x19\\xe7N`\\x1a\\xbc!\\x02q\\x82-\\x14;\\xa8,\\n~\\x84:='\n"
     ]
    },
    {
     "name": "stdout",
     "output_type": "stream",
     "text": [
      "当前观众：1\n"
     ]
    },
    {
     "name": "stderr",
     "output_type": "stream",
     "text": [
      "send: b'\\x81\\x9f\\xf1\\xcb\\x885\\xf1\\xcb\\x88*\\xf1\\xdb\\x884\\xf1\\xcb\\x887\\xf1\\xcb\\x884\\xaa\\xa4\\xea_\\x94\\xa8\\xfc\\x15\\xbe\\xa9\\xe2P\\x92\\xbf\\xd5'\n"
     ]
    },
    {
     "name": "stdout",
     "output_type": "stream",
     "text": [
      "当前观众：1\n"
     ]
    },
    {
     "name": "stderr",
     "output_type": "stream",
     "text": [
      "send: b'\\x81\\x9f\\xd8<\\xe0k\\xd8<\\xe0t\\xd8,\\xe0j\\xd8<\\xe0i\\xd8<\\xe0j\\x83S\\x82\\x01\\xbd_\\x94K\\x97^\\x8a\\x0e\\xbbH\\xbd'\n"
     ]
    },
    {
     "name": "stdout",
     "output_type": "stream",
     "text": [
      "当前观众：1\n"
     ]
    },
    {
     "name": "stderr",
     "output_type": "stream",
     "text": [
      "send: b'\\x81\\x9f\\x86iq\\x10\\x86iq\\x0f\\x86yq\\x11\\x86iq\\x12\\x86iq\\x11\\xdd\\x06\\x13z\\xe3\\n\\x050\\xc9\\x0b\\x1bu\\xe5\\x1d,'\n"
     ]
    },
    {
     "name": "stdout",
     "output_type": "stream",
     "text": [
      "当前观众：1\n"
     ]
    },
    {
     "name": "stderr",
     "output_type": "stream",
     "text": [
      "send: b'\\x81\\x9f\\x82\\x85\\xddc\\x82\\x85\\xdd|\\x82\\x95\\xddb\\x82\\x85\\xdda\\x82\\x85\\xddb\\xd9\\xea\\xbf\\t\\xe7\\xe6\\xa9C\\xcd\\xe7\\xb7\\x06\\xe1\\xf1\\x80'\n"
     ]
    },
    {
     "name": "stdout",
     "output_type": "stream",
     "text": [
      "当前观众：1\n"
     ]
    },
    {
     "name": "stderr",
     "output_type": "stream",
     "text": [
      "send: b'\\x81\\x9f\\xf3\\xed&F\\xf3\\xed&Y\\xf3\\xfd&G\\xf3\\xed&D\\xf3\\xed&G\\xa8\\x82D,\\x96\\x8eRf\\xbc\\x8fL#\\x90\\x99{'\n"
     ]
    },
    {
     "name": "stdout",
     "output_type": "stream",
     "text": [
      "当前观众：1\n"
     ]
    },
    {
     "name": "stderr",
     "output_type": "stream",
     "text": [
      "send: b'\\x81\\x9f\\xbdKqQ\\xbdKqN\\xbd[qP\\xbdKqS\\xbdKqP\\xe6$\\x13;\\xd8(\\x05q\\xf2)\\x1b4\\xde?,'\n"
     ]
    },
    {
     "name": "stdout",
     "output_type": "stream",
     "text": [
      "当前观众：1\n"
     ]
    },
    {
     "name": "stderr",
     "output_type": "stream",
     "text": [
      "send: b'\\x81\\x9fXL\\xb0QXL\\xb0NX\\\\\\xb0PXL\\xb0SXL\\xb0P\\x03#\\xd2;=/\\xc4q\\x17.\\xda4;8\\xed'\n"
     ]
    },
    {
     "name": "stdout",
     "output_type": "stream",
     "text": [
      "当前观众：1\n",
      "{'full': {'head_icon': 'http://i0.hdslb.com/bfs/live/f3aad10e6382afde3b224b9f43c182648344dbd3.png', 'tail_icon': 'http://i0.hdslb.com/bfs/live/822da481fdaba986d738db5d8fd469ffa95a8fa1.webp', 'head_icon_fa': 'http://i0.hdslb.com/bfs/live/f3aad10e6382afde3b224b9f43c182648344dbd3.png', 'tail_icon_fa': 'http://i0.hdslb.com/bfs/live/38cb2a9f1209b16c0f15162b0b553e3b28d9f16f.png', 'head_icon_fan': 1, 'tail_icon_fan': 4, 'background': '#FFE6BDFF', 'color': '#9D5412FF', 'highlight': '#FF6933FF', 'time': 20}, 'half': {'head_icon': 'http://i0.hdslb.com/bfs/live/4523077f3fe0fc7e36536a2750ce3d3e4cf12928.png', 'tail_icon': 'http://i0.hdslb.com/bfs/live/38cb2a9f1209b16c0f15162b0b553e3b28d9f16f.png', 'background': '#FFE6BDFF', 'color': '#9D5412FF', 'highlight': '#FF6933FF', 'time': 15}, 'side': {'head_icon': 'http://i0.hdslb.com/bfs/live/faf532f4a7ea7515f0efce381b8d8223260bed0c.png', 'background': '#F5EBDDFF', 'color': '#DA9F77FF', 'highlight': '#C67137FF', 'border': '#ECDDC0FF'}, 'msg_type': 1, 'link_url': 'http://live.bilibili.com/9980292?from=28003&extra_jump_from=28003', 'roomid': 9980292, 'real_roomid': 9980292, 'msg_common': '恭喜 <%堇色小可爱%> 成为22:00-00:00神佑铃铛锦鲤，收获福气：<%342.6万金瓜子%> 点击前往锦鲤福地，狂吸欧气！', 'msg_self': '恭喜 <%堇色小可爱%> 成为22:00-00:00神佑铃铛锦鲤，收获福气：<%342.6万金瓜子%> ', 'cmd': 'NOTICE_MSG', 'shield_uid': -1}\n"
     ]
    },
    {
     "name": "stderr",
     "output_type": "stream",
     "text": [
      "send: b'\\x81\\x9f\\xb74g\\x88\\xb74g\\x97\\xb7$g\\x89\\xb74g\\x8a\\xb74g\\x89\\xec[\\x05\\xe2\\xd2W\\x13\\xa8\\xf8V\\r\\xed\\xd4@:'\n"
     ]
    },
    {
     "name": "stdout",
     "output_type": "stream",
     "text": [
      "当前观众：1\n"
     ]
    },
    {
     "name": "stderr",
     "output_type": "stream",
     "text": [
      "send: b'\\x81\\x9f`\\xaf[h`\\xaf[w`\\xbf[i`\\xaf[j`\\xaf[i;\\xc09\\x02\\x05\\xcc/H/\\xcd1\\r\\x03\\xdb\\x06'\n"
     ]
    },
    {
     "name": "stdout",
     "output_type": "stream",
     "text": [
      "当前观众：1\n"
     ]
    },
    {
     "name": "stderr",
     "output_type": "stream",
     "text": [
      "send: b'\\x81\\x9f\\x18\\xe2\\xa0\\xb6\\x18\\xe2\\xa0\\xa9\\x18\\xf2\\xa0\\xb7\\x18\\xe2\\xa0\\xb4\\x18\\xe2\\xa0\\xb7C\\x8d\\xc2\\xdc}\\x81\\xd4\\x96W\\x80\\xca\\xd3{\\x96\\xfd'\n"
     ]
    },
    {
     "name": "stdout",
     "output_type": "stream",
     "text": [
      "当前观众：1\n"
     ]
    },
    {
     "name": "stderr",
     "output_type": "stream",
     "text": [
      "send: b'\\x81\\x9f\\x89\\xcc\\x81\\xc0\\x89\\xcc\\x81\\xdf\\x89\\xdc\\x81\\xc1\\x89\\xcc\\x81\\xc2\\x89\\xcc\\x81\\xc1\\xd2\\xa3\\xe3\\xaa\\xec\\xaf\\xf5\\xe0\\xc6\\xae\\xeb\\xa5\\xea\\xb8\\xdc'\n"
     ]
    },
    {
     "name": "stdout",
     "output_type": "stream",
     "text": [
      "当前观众：1\n"
     ]
    },
    {
     "name": "stderr",
     "output_type": "stream",
     "text": [
      "send: b'\\x81\\x9f\\xa8\\x12\\xae\\x9c\\xa8\\x12\\xae\\x83\\xa8\\x02\\xae\\x9d\\xa8\\x12\\xae\\x9e\\xa8\\x12\\xae\\x9d\\xf3}\\xcc\\xf6\\xcdq\\xda\\xbc\\xe7p\\xc4\\xf9\\xcbf\\xf3'\n"
     ]
    },
    {
     "name": "stdout",
     "output_type": "stream",
     "text": [
      "当前观众：1\n"
     ]
    },
    {
     "name": "stderr",
     "output_type": "stream",
     "text": [
      "send: b'\\x81\\x9f7\\xeba\\xaf7\\xeba\\xb07\\xfba\\xae7\\xeba\\xad7\\xeba\\xael\\x84\\x03\\xc5R\\x88\\x15\\x8fx\\x89\\x0b\\xcaT\\x9f<'\n"
     ]
    },
    {
     "name": "stdout",
     "output_type": "stream",
     "text": [
      "当前观众：1\n",
      "{'cmd': 'SYS_MSG', 'msg': 'C酱呀_:?送给:?樱岚karu:?1个小电视飞船，点击前往TA的房间去抽奖吧', 'msg_text': 'C酱呀_:?送给:?樱岚karu:?1个小电视飞船，点击前往TA的房间去抽奖吧', 'msg_common': '全区广播：<%C酱呀_%>送给<%樱岚karu%>1个小电视飞船，点击前往TA的房间去抽奖吧', 'msg_self': '全区广播：<%C酱呀_%>送给<%樱岚karu%>1个小电视飞船，快来抽奖吧', 'rep': 1, 'styleType': 2, 'url': 'http://live.bilibili.com/413', 'roomid': 413, 'real_roomid': 635644, 'rnd': 326691977, 'broadcast_type': 0}\n",
      "{'cmd': 'NOTICE_MSG', 'full': {'head_icon': 'http://i0.hdslb.com/bfs/live/b29add66421580c3e680d784a827202e512a40a0.webp', 'tail_icon': 'http://i0.hdslb.com/bfs/live/822da481fdaba986d738db5d8fd469ffa95a8fa1.webp', 'head_icon_fa': 'http://i0.hdslb.com/bfs/live/49869a52d6225a3e70bbf1f4da63f199a95384b2.png', 'tail_icon_fa': 'http://i0.hdslb.com/bfs/live/38cb2a9f1209b16c0f15162b0b553e3b28d9f16f.png', 'head_icon_fan': 24, 'tail_icon_fan': 4, 'background': '#66A74EFF', 'color': '#FFFFFFFF', 'highlight': '#FDFF2FFF', 'time': 20}, 'half': {'head_icon': 'http://i0.hdslb.com/bfs/live/ec9b374caec5bd84898f3780a10189be96b86d4e.png', 'tail_icon': '', 'background': '#85B971FF', 'color': '#FFFFFFFF', 'highlight': '#FDFF2FFF', 'time': 15}, 'side': {'head_icon': 'http://i0.hdslb.com/bfs/live/e41c7e12b1e08724d2ab2f369515132d30fe1ef7.png', 'background': '#F4FDE8FF', 'color': '#79B48EFF', 'highlight': '#388726FF', 'border': '#A9DA9FFF'}, 'roomid': 413, 'real_roomid': 635644, 'msg_common': '全区广播：<%C酱呀_%>送给<%樱岚karu%>1个小电视飞船，点击前往TA的房间去抽奖吧', 'msg_self': '全区广播：<%C酱呀_%>送给<%樱岚karu%>1个小电视飞船，快来抽奖吧', 'link_url': 'http://live.bilibili.com/413?live_lottery_type=1&broadcast_type=0&from=28003&extra_jump_from=28003', 'msg_type': 2, 'shield_uid': -1}\n"
     ]
    },
    {
     "name": "stderr",
     "output_type": "stream",
     "text": [
      "send: b'\\x81\\x9f\\xa4W\\xe6\\x18\\xa4W\\xe6\\x07\\xa4G\\xe6\\x19\\xa4W\\xe6\\x1a\\xa4W\\xe6\\x19\\xff8\\x84r\\xc14\\x928\\xeb5\\x8c}\\xc7#\\xbb'\n"
     ]
    },
    {
     "name": "stdout",
     "output_type": "stream",
     "text": [
      "当前观众：1\n"
     ]
    },
    {
     "name": "stderr",
     "output_type": "stream",
     "text": [
      "send: b'\\x81\\x9f\\xfb\\x88`<\\xfb\\x88`#\\xfb\\x98`=\\xfb\\x88`>\\xfb\\x88`=\\xa0\\xe7\\x02V\\x9e\\xeb\\x14\\x1c\\xb4\\xea\\nY\\x98\\xfc='\n"
     ]
    },
    {
     "name": "stdout",
     "output_type": "stream",
     "text": [
      "当前观众：1\n",
      "{'cmd': 'NOTICE_MSG', 'full': {'head_icon': 'http://i0.hdslb.com/bfs/live/a3e164513bd030f1113a8fbe1165454880c3ee4c.webp', 'tail_icon': 'http://i0.hdslb.com/bfs/live/822da481fdaba986d738db5d8fd469ffa95a8fa1.webp', 'head_icon_fa': 'http://i0.hdslb.com/bfs/live/28c2f3dd68170391d173ca2efd02bdabc917df26.png', 'tail_icon_fa': 'http://i0.hdslb.com/bfs/live/38cb2a9f1209b16c0f15162b0b553e3b28d9f16f.png', 'head_icon_fan': 1, 'tail_icon_fan': 4, 'background': '#8675F5FF', 'color': '#FFFFFFFF', 'highlight': '#FDFF2FFF', 'time': 20}, 'half': {'head_icon': 'http://i0.hdslb.com/bfs/live/df00be5ee88c4cd53514090a58f8702368b9a324.png', 'tail_icon': '', 'background': '#9299F2FF', 'color': '#FFFFFFFF', 'highlight': '#FDFF2FFF', 'time': 15}, 'side': {'head_icon': '', 'background': '', 'color': '', 'highlight': '', 'border': ''}, 'roomid': 3580061, 'real_roomid': 3580061, 'msg_common': '全区广播：主播<%你是Nana的小可爱吗%>开启了“任意门”，点击前往TA的房间去抽奖吧！', 'msg_self': '全区广播：主播<%你是Nana的小可爱吗%>开启了“任意门”，快来抽奖吧！', 'link_url': 'http://live.bilibili.com/3580061?live_lottery_type=1&broadcast_type=0&from=28003&extra_jump_from=28003', 'msg_type': 8, 'shield_uid': -1}\n",
      "{'cmd': 'SYS_MSG', 'msg': ' :?主播:?你是Nana的小可爱吗:?开启了“任意门”，点击前往TA的房间去抽奖吧！', 'msg_text': ' :?主播:?你是Nana的小可爱吗:?开启了“任意门”，点击前往TA的房间去抽奖吧！', 'msg_common': '全区广播：主播<%你是Nana的小可爱吗%>开启了“任意门”，点击前往TA的房间去抽奖吧！', 'msg_self': '全区广播：主播<%你是Nana的小可爱吗%>开启了“任意门”，快来抽奖吧！', 'rep': 1, 'styleType': 2, 'url': 'http://live.bilibili.com/3580061', 'roomid': 3580061, 'real_roomid': 3580061, 'rnd': 17068890, 'broadcast_type': 0}\n"
     ]
    },
    {
     "name": "stderr",
     "output_type": "stream",
     "text": [
      "send: b'\\x81\\x9f\\x1c\\xe6\\xe4)\\x1c\\xe6\\xe46\\x1c\\xf6\\xe4(\\x1c\\xe6\\xe4+\\x1c\\xe6\\xe4(G\\x89\\x86Cy\\x85\\x90\\tS\\x84\\x8eL\\x7f\\x92\\xb9'\n"
     ]
    },
    {
     "name": "stdout",
     "output_type": "stream",
     "text": [
      "当前观众：1\n"
     ]
    },
    {
     "name": "stderr",
     "output_type": "stream",
     "text": [
      "send: b'\\x81\\x9f#,s)#,s6#<s(#,s+#,s(xC\\x11CFO\\x07\\tlN\\x19L@X.'\n"
     ]
    },
    {
     "name": "stdout",
     "output_type": "stream",
     "text": [
      "当前观众：1\n"
     ]
    },
    {
     "name": "stderr",
     "output_type": "stream",
     "text": [
      "send: b'\\x81\\x9f,\\xe5kP,\\xe5kO,\\xf5kQ,\\xe5kR,\\xe5kQw\\x8a\\t:I\\x86\\x1fpc\\x87\\x015O\\x916'\n"
     ]
    },
    {
     "name": "stdout",
     "output_type": "stream",
     "text": [
      "当前观众：1\n"
     ]
    },
    {
     "name": "stderr",
     "output_type": "stream",
     "text": [
      "send: b'\\x81\\x9f\\xa3g\\xad\\xd5\\xa3g\\xad\\xca\\xa3w\\xad\\xd4\\xa3g\\xad\\xd7\\xa3g\\xad\\xd4\\xf8\\x08\\xcf\\xbf\\xc6\\x04\\xd9\\xf5\\xec\\x05\\xc7\\xb0\\xc0\\x13\\xf0'\n"
     ]
    },
    {
     "name": "stdout",
     "output_type": "stream",
     "text": [
      "当前观众：1\n"
     ]
    },
    {
     "name": "stderr",
     "output_type": "stream",
     "text": [
      "send: b'\\x81\\x9f\\\\\\x87.,\\\\\\x87.3\\\\\\x97.-\\\\\\x87..\\\\\\x87.-\\x07\\xe8LF9\\xe4Z\\x0c\\x13\\xe5DI?\\xf3s'\n"
     ]
    },
    {
     "name": "stdout",
     "output_type": "stream",
     "text": [
      "当前观众：1\n"
     ]
    },
    {
     "name": "stderr",
     "output_type": "stream",
     "text": [
      "send: b'\\x81\\x9f~\\t\\x16\\x13~\\t\\x16\\x0c~\\x19\\x16\\x12~\\t\\x16\\x11~\\t\\x16\\x12%fty\\x1bjb31k|v\\x1d}K'\n"
     ]
    },
    {
     "name": "stdout",
     "output_type": "stream",
     "text": [
      "当前观众：1\n"
     ]
    },
    {
     "name": "stderr",
     "output_type": "stream",
     "text": [
      "send: b'\\x81\\x9fq\\xe5i\\x7fq\\xe5i`q\\xf5i~q\\xe5i}q\\xe5i~*\\x8a\\x0b\\x15\\x14\\x86\\x1d_>\\x87\\x03\\x1a\\x12\\x914'\n"
     ]
    },
    {
     "name": "stdout",
     "output_type": "stream",
     "text": [
      "当前观众：1\n"
     ]
    },
    {
     "name": "stderr",
     "output_type": "stream",
     "text": [
      "send: b'\\x81\\x9f\\x9b`\\x9a\\x8d\\x9b`\\x9a\\x92\\x9bp\\x9a\\x8c\\x9b`\\x9a\\x8f\\x9b`\\x9a\\x8c\\xc0\\x0f\\xf8\\xe7\\xfe\\x03\\xee\\xad\\xd4\\x02\\xf0\\xe8\\xf8\\x14\\xc7'\n"
     ]
    },
    {
     "name": "stdout",
     "output_type": "stream",
     "text": [
      "当前观众：1\n"
     ]
    },
    {
     "name": "stderr",
     "output_type": "stream",
     "text": [
      "send: b'\\x81\\x9f\\r\\x00\\x15t\\r\\x00\\x15k\\r\\x10\\x15u\\r\\x00\\x15v\\r\\x00\\x15uVow\\x1ehcaTBb\\x7f\\x11ntH'\n"
     ]
    },
    {
     "name": "stdout",
     "output_type": "stream",
     "text": [
      "当前观众：1\n"
     ]
    },
    {
     "name": "stderr",
     "output_type": "stream",
     "text": [
      "send: b'\\x81\\x9fCd;\\x94Cd;\\x8bCt;\\x95Cd;\\x96Cd;\\x95\\x18\\x0bY\\xfe&\\x07O\\xb4\\x0c\\x06Q\\xf1 \\x10f'\n"
     ]
    },
    {
     "name": "stdout",
     "output_type": "stream",
     "text": [
      "当前观众：1\n"
     ]
    },
    {
     "name": "stderr",
     "output_type": "stream",
     "text": [
      "send: b'\\x81\\x9f_\\xb6\\xe4\\x08_\\xb6\\xe4\\x17_\\xa6\\xe4\\t_\\xb6\\xe4\\n_\\xb6\\xe4\\t\\x04\\xd9\\x86b:\\xd5\\x90(\\x10\\xd4\\x8em<\\xc2\\xb9'\n"
     ]
    },
    {
     "name": "stdout",
     "output_type": "stream",
     "text": [
      "当前观众：1\n"
     ]
    },
    {
     "name": "stderr",
     "output_type": "stream",
     "text": [
      "send: b'\\x81\\x9f\\x07d8x\\x07d8g\\x07t8y\\x07d8z\\x07d8y\\\\\\x0bZ\\x12b\\x07LXH\\x06R\\x1dd\\x10e'\n"
     ]
    },
    {
     "name": "stdout",
     "output_type": "stream",
     "text": [
      "当前观众：1\n"
     ]
    },
    {
     "name": "stderr",
     "output_type": "stream",
     "text": [
      "send: b\"\\x81\\x9f\\xf73\\xb2%\\xf73\\xb2:\\xf7#\\xb2$\\xf73\\xb2'\\xf73\\xb2$\\xac\\\\\\xd0O\\x92P\\xc6\\x05\\xb8Q\\xd8@\\x94G\\xef\"\n"
     ]
    },
    {
     "name": "stdout",
     "output_type": "stream",
     "text": [
      "当前观众：1\n"
     ]
    },
    {
     "name": "stderr",
     "output_type": "stream",
     "text": [
      "send: b'\\x81\\x9f\\xf3o]\\x13\\xf3o]\\x0c\\xf3\\x7f]\\x12\\xf3o]\\x11\\xf3o]\\x12\\xa8\\x00?y\\x96\\x0c)3\\xbc\\r7v\\x90\\x1b\\x00'\n"
     ]
    },
    {
     "name": "stdout",
     "output_type": "stream",
     "text": [
      "当前观众：1\n"
     ]
    },
    {
     "name": "stderr",
     "output_type": "stream",
     "text": [
      "send: b'\\x81\\x9fo\\xc3\\x15\\xffo\\xc3\\x15\\xe0o\\xd3\\x15\\xfeo\\xc3\\x15\\xfdo\\xc3\\x15\\xfe4\\xacw\\x95\\n\\xa0a\\xdf \\xa1\\x7f\\x9a\\x0c\\xb7H'\n"
     ]
    },
    {
     "name": "stdout",
     "output_type": "stream",
     "text": [
      "当前观众：1\n"
     ]
    },
    {
     "name": "stderr",
     "output_type": "stream",
     "text": [
      "send: b'\\x81\\x9f\\xaf\\xa3\\xbb\\x9a\\xaf\\xa3\\xbb\\x85\\xaf\\xb3\\xbb\\x9b\\xaf\\xa3\\xbb\\x98\\xaf\\xa3\\xbb\\x9b\\xf4\\xcc\\xd9\\xf0\\xca\\xc0\\xcf\\xba\\xe0\\xc1\\xd1\\xff\\xcc\\xd7\\xe6'\n"
     ]
    },
    {
     "name": "stdout",
     "output_type": "stream",
     "text": [
      "当前观众：1\n"
     ]
    },
    {
     "name": "stderr",
     "output_type": "stream",
     "text": [
      "send: b'\\x81\\x9f}\\xea\\xbaV}\\xea\\xbaI}\\xfa\\xbaW}\\xea\\xbaT}\\xea\\xbaW&\\x85\\xd8<\\x18\\x89\\xcev2\\x88\\xd03\\x1e\\x9e\\xe7'\n"
     ]
    },
    {
     "name": "stdout",
     "output_type": "stream",
     "text": [
      "当前观众：1\n"
     ]
    },
    {
     "name": "stderr",
     "output_type": "stream",
     "text": [
      "send: b'\\x81\\x9f\\xc5\\xa71\\x98\\xc5\\xa71\\x87\\xc5\\xb71\\x99\\xc5\\xa71\\x9a\\xc5\\xa71\\x99\\x9e\\xc8S\\xf2\\xa0\\xc4E\\xb8\\x8a\\xc5[\\xfd\\xa6\\xd3l'\n"
     ]
    },
    {
     "name": "stdout",
     "output_type": "stream",
     "text": [
      "当前观众：1\n"
     ]
    },
    {
     "name": "stderr",
     "output_type": "stream",
     "text": [
      "send: b'\\x81\\x9fU\\xdc\\xf7!U\\xdc\\xf7>U\\xcc\\xf7 U\\xdc\\xf7#U\\xdc\\xf7 \\x0e\\xb3\\x95K0\\xbf\\x83\\x01\\x1a\\xbe\\x9dD6\\xa8\\xaa'\n"
     ]
    },
    {
     "name": "stdout",
     "output_type": "stream",
     "text": [
      "当前观众：1\n"
     ]
    },
    {
     "name": "stderr",
     "output_type": "stream",
     "text": [
      "send: b'\\x81\\x9f\\x003xC\\x003x\\\\\\x00#xB\\x003xA\\x003xB[\\\\\\x1a)eP\\x0ccOQ\\x12&cG%'\n"
     ]
    },
    {
     "name": "stdout",
     "output_type": "stream",
     "text": [
      "当前观众：1\n",
      "{'cmd': 'NOTICE_MSG', 'full': {'head_icon': 'http://i0.hdslb.com/bfs/live/b29add66421580c3e680d784a827202e512a40a0.webp', 'tail_icon': 'http://i0.hdslb.com/bfs/live/822da481fdaba986d738db5d8fd469ffa95a8fa1.webp', 'head_icon_fa': 'http://i0.hdslb.com/bfs/live/49869a52d6225a3e70bbf1f4da63f199a95384b2.png', 'tail_icon_fa': 'http://i0.hdslb.com/bfs/live/38cb2a9f1209b16c0f15162b0b553e3b28d9f16f.png', 'head_icon_fan': 24, 'tail_icon_fan': 4, 'background': '#66A74EFF', 'color': '#FFFFFFFF', 'highlight': '#FDFF2FFF', 'time': 20}, 'half': {'head_icon': 'http://i0.hdslb.com/bfs/live/ec9b374caec5bd84898f3780a10189be96b86d4e.png', 'tail_icon': '', 'background': '#85B971FF', 'color': '#FFFFFFFF', 'highlight': '#FDFF2FFF', 'time': 15}, 'side': {'head_icon': 'http://i0.hdslb.com/bfs/live/e41c7e12b1e08724d2ab2f369515132d30fe1ef7.png', 'background': '#F4FDE8FF', 'color': '#79B48EFF', 'highlight': '#388726FF', 'border': '#A9DA9FFF'}, 'roomid': 1313, 'real_roomid': 793902, 'msg_common': '全区广播：<%特拉法尔加Law%>送给<%泡芙喵-PuFF%>1个小电视飞船，点击前往TA的房间去抽奖吧', 'msg_self': '全区广播：<%特拉法尔加Law%>送给<%泡芙喵-PuFF%>1个小电视飞船，快来抽奖吧', 'link_url': 'http://live.bilibili.com/1313?live_lottery_type=1&broadcast_type=0&from=28003&extra_jump_from=28003', 'msg_type': 2, 'shield_uid': -1}\n"
     ]
    },
    {
     "name": "stderr",
     "output_type": "stream",
     "text": [
      "send: b'\\x81\\x9fS\\xcf\\xac\\x17S\\xcf\\xac\\x08S\\xdf\\xac\\x16S\\xcf\\xac\\x15S\\xcf\\xac\\x16\\x08\\xa0\\xce}6\\xac\\xd87\\x1c\\xad\\xc6r0\\xbb\\xf1'\n"
     ]
    },
    {
     "name": "stdout",
     "output_type": "stream",
     "text": [
      "当前观众：1\n"
     ]
    },
    {
     "name": "stderr",
     "output_type": "stream",
     "text": [
      "send: b'\\x81\\x9f\\xb0\\x10>\\xf5\\xb0\\x10>\\xea\\xb0\\x00>\\xf4\\xb0\\x10>\\xf7\\xb0\\x10>\\xf4\\xeb\\x7f\\\\\\x9f\\xd5sJ\\xd5\\xffrT\\x90\\xd3dc'\n"
     ]
    },
    {
     "name": "stdout",
     "output_type": "stream",
     "text": [
      "当前观众：1\n"
     ]
    },
    {
     "name": "stderr",
     "output_type": "stream",
     "text": [
      "send: b'\\x81\\x9f\\x0f\\xdf\\x94Z\\x0f\\xdf\\x94E\\x0f\\xcf\\x94[\\x0f\\xdf\\x94X\\x0f\\xdf\\x94[T\\xb0\\xf60j\\xbc\\xe0z@\\xbd\\xfe?l\\xab\\xc9'\n"
     ]
    },
    {
     "name": "stdout",
     "output_type": "stream",
     "text": [
      "当前观众：1\n"
     ]
    },
    {
     "name": "stderr",
     "output_type": "stream",
     "text": [
      "send: b\"\\x81\\x9f\\x99\\xd5S\\xa6\\x99\\xd5S\\xb9\\x99\\xc5S\\xa7\\x99\\xd5S\\xa4\\x99\\xd5S\\xa7\\xc2\\xba1\\xcc\\xfc\\xb6'\\x86\\xd6\\xb79\\xc3\\xfa\\xa1\\x0e\"\n"
     ]
    },
    {
     "name": "stdout",
     "output_type": "stream",
     "text": [
      "当前观众：1\n"
     ]
    },
    {
     "name": "stderr",
     "output_type": "stream",
     "text": [
      "send: b'\\x81\\x9f/O\\xca\\x86/O\\xca\\x99/_\\xca\\x87/O\\xca\\x84/O\\xca\\x87t \\xa8\\xecJ,\\xbe\\xa6`-\\xa0\\xe3L;\\x97'\n"
     ]
    },
    {
     "name": "stdout",
     "output_type": "stream",
     "text": [
      "当前观众：1\n",
      "{'cmd': 'SYS_MSG', 'msg': '一个神明罢了:?送给:?一只菜花罢了:?1个小电视飞船，点击前往TA的房间去抽奖吧', 'msg_text': '一个神明罢了:?送给:?一只菜花罢了:?1个小电视飞船，点击前往TA的房间去抽奖吧', 'msg_common': '全区广播：<%一个神明罢了%>送给<%一只菜花罢了%>1个小电视飞船，点击前往TA的房间去抽奖吧', 'msg_self': '全区广播：<%一个神明罢了%>送给<%一只菜花罢了%>1个小电视飞船，快来抽奖吧', 'rep': 1, 'styleType': 2, 'url': 'http://live.bilibili.com/4717801', 'roomid': 4717801, 'real_roomid': 4717801, 'rnd': 1144734136, 'broadcast_type': 0}\n",
      "{'cmd': 'NOTICE_MSG', 'full': {'head_icon': 'http://i0.hdslb.com/bfs/live/b29add66421580c3e680d784a827202e512a40a0.webp', 'tail_icon': 'http://i0.hdslb.com/bfs/live/822da481fdaba986d738db5d8fd469ffa95a8fa1.webp', 'head_icon_fa': 'http://i0.hdslb.com/bfs/live/49869a52d6225a3e70bbf1f4da63f199a95384b2.png', 'tail_icon_fa': 'http://i0.hdslb.com/bfs/live/38cb2a9f1209b16c0f15162b0b553e3b28d9f16f.png', 'head_icon_fan': 24, 'tail_icon_fan': 4, 'background': '#66A74EFF', 'color': '#FFFFFFFF', 'highlight': '#FDFF2FFF', 'time': 20}, 'half': {'head_icon': 'http://i0.hdslb.com/bfs/live/ec9b374caec5bd84898f3780a10189be96b86d4e.png', 'tail_icon': '', 'background': '#85B971FF', 'color': '#FFFFFFFF', 'highlight': '#FDFF2FFF', 'time': 15}, 'side': {'head_icon': 'http://i0.hdslb.com/bfs/live/e41c7e12b1e08724d2ab2f369515132d30fe1ef7.png', 'background': '#F4FDE8FF', 'color': '#79B48EFF', 'highlight': '#388726FF', 'border': '#A9DA9FFF'}, 'roomid': 4717801, 'real_roomid': 4717801, 'msg_common': '全区广播：<%一个神明罢了%>送给<%一只菜花罢了%>1个小电视飞船，点击前往TA的房间去抽奖吧', 'msg_self': '全区广播：<%一个神明罢了%>送给<%一只菜花罢了%>1个小电视飞船，快来抽奖吧', 'link_url': 'http://live.bilibili.com/4717801?live_lottery_type=1&broadcast_type=0&from=28003&extra_jump_from=28003', 'msg_type': 2, 'shield_uid': -1}\n"
     ]
    },
    {
     "name": "stderr",
     "output_type": "stream",
     "text": [
      "send: b'\\x81\\x9f\\xe6T\\xdf\\xb6\\xe6T\\xdf\\xa9\\xe6D\\xdf\\xb7\\xe6T\\xdf\\xb4\\xe6T\\xdf\\xb7\\xbd;\\xbd\\xdc\\x837\\xab\\x96\\xa96\\xb5\\xd3\\x85 \\x82'\n"
     ]
    },
    {
     "name": "stdout",
     "output_type": "stream",
     "text": [
      "当前观众：1\n"
     ]
    },
    {
     "name": "stderr",
     "output_type": "stream",
     "text": [
      "send: b'\\x81\\x9f\\x9e\\x0c\\x19|\\x9e\\x0c\\x19c\\x9e\\x1c\\x19}\\x9e\\x0c\\x19~\\x9e\\x0c\\x19}\\xc5c{\\x16\\xfbom\\\\\\xd1ns\\x19\\xfdxD'\n"
     ]
    },
    {
     "name": "stdout",
     "output_type": "stream",
     "text": [
      "当前观众：1\n"
     ]
    },
    {
     "name": "stderr",
     "output_type": "stream",
     "text": [
      "send: b'\\x81\\x9f$\\x10\\xef\\xdc$\\x10\\xef\\xc3$\\x00\\xef\\xdd$\\x10\\xef\\xde$\\x10\\xef\\xdd\\x7f\\x7f\\x8d\\xb6As\\x9b\\xfckr\\x85\\xb9Gd\\xb2'\n"
     ]
    },
    {
     "name": "stdout",
     "output_type": "stream",
     "text": [
      "当前观众：1\n"
     ]
    },
    {
     "name": "stderr",
     "output_type": "stream",
     "text": [
      "send: b'\\x81\\x9f\\xb2I:\\x94\\xb2I:\\x8b\\xb2Y:\\x95\\xb2I:\\x96\\xb2I:\\x95\\xe9&X\\xfe\\xd7*N\\xb4\\xfd+P\\xf1\\xd1=g'\n"
     ]
    },
    {
     "name": "stdout",
     "output_type": "stream",
     "text": [
      "当前观众：1\n"
     ]
    },
    {
     "name": "stderr",
     "output_type": "stream",
     "text": [
      "send: b'\\x81\\x9fF\\x9a#\\xcfF\\x9a#\\xd0F\\x8a#\\xceF\\x9a#\\xcdF\\x9a#\\xce\\x1d\\xf5A\\xa5#\\xf9W\\xef\\t\\xf8I\\xaa%\\xee~'\n"
     ]
    },
    {
     "name": "stdout",
     "output_type": "stream",
     "text": [
      "当前观众：1\n"
     ]
    },
    {
     "name": "stderr",
     "output_type": "stream",
     "text": [
      "send: b\"\\x81\\x9fY\\xc6zJY\\xc6zUY\\xd6zKY\\xc6zHY\\xc6zK\\x02\\xa9\\x18 <\\xa5\\x0ej\\x16\\xa4\\x10/:\\xb2'\"\n"
     ]
    },
    {
     "name": "stdout",
     "output_type": "stream",
     "text": [
      "当前观众：1\n"
     ]
    },
    {
     "name": "stderr",
     "output_type": "stream",
     "text": [
      "send: b'\\x81\\x9fg\\xec\\xc71g\\xec\\xc7.g\\xfc\\xc70g\\xec\\xc73g\\xec\\xc70<\\x83\\xa5[\\x02\\x8f\\xb3\\x11(\\x8e\\xadT\\x04\\x98\\x9a'\n"
     ]
    },
    {
     "name": "stdout",
     "output_type": "stream",
     "text": [
      "当前观众：1\n"
     ]
    },
    {
     "name": "stderr",
     "output_type": "stream",
     "text": [
      "send: b'\\x81\\x9f\\\\\\xc0\\x1c\\xa0\\\\\\xc0\\x1c\\xbf\\\\\\xd0\\x1c\\xa1\\\\\\xc0\\x1c\\xa2\\\\\\xc0\\x1c\\xa1\\x07\\xaf~\\xca9\\xa3h\\x80\\x13\\xa2v\\xc5?\\xb4A'\n"
     ]
    },
    {
     "name": "stdout",
     "output_type": "stream",
     "text": [
      "当前观众：1\n"
     ]
    },
    {
     "name": "stderr",
     "output_type": "stream",
     "text": [
      "send: b'\\x81\\x9f\\xbb\\x8a\\xb4\\xbe\\xbb\\x8a\\xb4\\xa1\\xbb\\x9a\\xb4\\xbf\\xbb\\x8a\\xb4\\xbc\\xbb\\x8a\\xb4\\xbf\\xe0\\xe5\\xd6\\xd4\\xde\\xe9\\xc0\\x9e\\xf4\\xe8\\xde\\xdb\\xd8\\xfe\\xe9'\n"
     ]
    },
    {
     "name": "stdout",
     "output_type": "stream",
     "text": [
      "当前观众：1\n"
     ]
    },
    {
     "name": "stderr",
     "output_type": "stream",
     "text": [
      "send: b'\\x81\\x9f\\xb1k\\x80\\x93\\xb1k\\x80\\x8c\\xb1{\\x80\\x92\\xb1k\\x80\\x91\\xb1k\\x80\\x92\\xea\\x04\\xe2\\xf9\\xd4\\x08\\xf4\\xb3\\xfe\\t\\xea\\xf6\\xd2\\x1f\\xdd'\n"
     ]
    },
    {
     "name": "stdout",
     "output_type": "stream",
     "text": [
      "当前观众：1\n"
     ]
    },
    {
     "name": "stderr",
     "output_type": "stream",
     "text": [
      "send: b'\\x81\\x9fit\\xfb\\xc4it\\xfb\\xdbid\\xfb\\xc5it\\xfb\\xc6it\\xfb\\xc52\\x1b\\x99\\xae\\x0c\\x17\\x8f\\xe4&\\x16\\x91\\xa1\\n\\x00\\xa6'\n"
     ]
    },
    {
     "name": "stdout",
     "output_type": "stream",
     "text": [
      "当前观众：1\n"
     ]
    },
    {
     "name": "stderr",
     "output_type": "stream",
     "text": [
      "send: b'\\x81\\x9fyW\\xfe\\x90yW\\xfe\\x8fyG\\xfe\\x91yW\\xfe\\x92yW\\xfe\\x91\"8\\x9c\\xfa\\x1c4\\x8a\\xb065\\x94\\xf5\\x1a#\\xa3'\n"
     ]
    },
    {
     "name": "stdout",
     "output_type": "stream",
     "text": [
      "当前观众：1\n"
     ]
    },
    {
     "name": "stderr",
     "output_type": "stream",
     "text": [
      "send: b'\\x81\\x9fn\\xc7Nsn\\xc7Nln\\xd7Nrn\\xc7Nqn\\xc7Nr5\\xa8,\\x19\\x0b\\xa4:S!\\xa5$\\x16\\r\\xb3\\x13'\n"
     ]
    },
    {
     "name": "stdout",
     "output_type": "stream",
     "text": [
      "当前观众：1\n"
     ]
    },
    {
     "name": "stderr",
     "output_type": "stream",
     "text": [
      "send: b'\\x81\\x9fr\\xd7e\\x9cr\\xd7e\\x83r\\xc7e\\x9dr\\xd7e\\x9er\\xd7e\\x9d)\\xb8\\x07\\xf6\\x17\\xb4\\x11\\xbc=\\xb5\\x0f\\xf9\\x11\\xa38'\n"
     ]
    },
    {
     "name": "stdout",
     "output_type": "stream",
     "text": [
      "当前观众：1\n",
      "{'cmd': 'SYS_MSG', 'msg': ' :?主播:?你的羊咩咩-:?开启了“任意门”，点击前往TA的房间去抽奖吧！', 'msg_text': ' :?主播:?你的羊咩咩-:?开启了“任意门”，点击前往TA的房间去抽奖吧！', 'msg_common': '全区广播：主播<%你的羊咩咩-%>开启了“任意门”，点击前往TA的房间去抽奖吧！', 'msg_self': '全区广播：主播<%你的羊咩咩-%>开启了“任意门”，快来抽奖吧！', 'rep': 1, 'styleType': 2, 'url': 'http://live.bilibili.com/6806787', 'roomid': 6806787, 'real_roomid': 6806787, 'rnd': 79249338, 'broadcast_type': 1}\n",
      "{'cmd': 'NOTICE_MSG', 'full': {'head_icon': 'http://i0.hdslb.com/bfs/live/a3e164513bd030f1113a8fbe1165454880c3ee4c.webp', 'tail_icon': 'http://i0.hdslb.com/bfs/live/822da481fdaba986d738db5d8fd469ffa95a8fa1.webp', 'head_icon_fa': 'http://i0.hdslb.com/bfs/live/28c2f3dd68170391d173ca2efd02bdabc917df26.png', 'tail_icon_fa': 'http://i0.hdslb.com/bfs/live/38cb2a9f1209b16c0f15162b0b553e3b28d9f16f.png', 'head_icon_fan': 1, 'tail_icon_fan': 4, 'background': '#8675F5FF', 'color': '#FFFFFFFF', 'highlight': '#FDFF2FFF', 'time': 20}, 'half': {'head_icon': 'http://i0.hdslb.com/bfs/live/df00be5ee88c4cd53514090a58f8702368b9a324.png', 'tail_icon': '', 'background': '#9299F2FF', 'color': '#FFFFFFFF', 'highlight': '#FDFF2FFF', 'time': 15}, 'side': {'head_icon': '', 'background': '', 'color': '', 'highlight': '', 'border': ''}, 'roomid': 6806787, 'real_roomid': 6806787, 'msg_common': '全区广播：主播<%你的羊咩咩-%>开启了“任意门”，点击前往TA的房间去抽奖吧！', 'msg_self': '全区广播：主播<%你的羊咩咩-%>开启了“任意门”，快来抽奖吧！', 'link_url': 'http://live.bilibili.com/6806787?live_lottery_type=1&broadcast_type=1&from=28003&extra_jump_from=28003', 'msg_type': 8, 'shield_uid': -1}\n"
     ]
    },
    {
     "name": "stderr",
     "output_type": "stream",
     "text": [
      "send: b'\\x81\\x9f\\x19\\xb2\\x80^\\x19\\xb2\\x80A\\x19\\xa2\\x80_\\x19\\xb2\\x80\\\\\\x19\\xb2\\x80_B\\xdd\\xe24|\\xd1\\xf4~V\\xd0\\xea;z\\xc6\\xdd'\n"
     ]
    },
    {
     "name": "stdout",
     "output_type": "stream",
     "text": [
      "当前观众：1\n"
     ]
    },
    {
     "name": "stderr",
     "output_type": "stream",
     "text": [
      "send: b\"\\x81\\x9fX\\xdb\\x06'X\\xdb\\x068X\\xcb\\x06&X\\xdb\\x06%X\\xdb\\x06&\\x03\\xb4dM=\\xb8r\\x07\\x17\\xb9lB;\\xaf[\"\n"
     ]
    },
    {
     "name": "stdout",
     "output_type": "stream",
     "text": [
      "当前观众：1\n"
     ]
    },
    {
     "name": "stderr",
     "output_type": "stream",
     "text": [
      "send: b'\\x81\\x9f6;\\x15\\xb76;\\x15\\xa86+\\x15\\xb66;\\x15\\xb56;\\x15\\xb6mTw\\xddSXa\\x97yY\\x7f\\xd2UOH'\n"
     ]
    },
    {
     "name": "stdout",
     "output_type": "stream",
     "text": [
      "当前观众：1\n"
     ]
    },
    {
     "name": "stderr",
     "output_type": "stream",
     "text": [
      "send: b'\\x81\\x9f\\xcc\\x90\\x84D\\xcc\\x90\\x84[\\xcc\\x80\\x84E\\xcc\\x90\\x84F\\xcc\\x90\\x84E\\x97\\xff\\xe6.\\xa9\\xf3\\xf0d\\x83\\xf2\\xee!\\xaf\\xe4\\xd9'\n"
     ]
    },
    {
     "name": "stdout",
     "output_type": "stream",
     "text": [
      "当前观众：1\n",
      "{'cmd': 'SYS_MSG', 'msg': 'C酱呀_:?送给:?樱岚karu:?1个小电视飞船，点击前往TA的房间去抽奖吧', 'msg_text': 'C酱呀_:?送给:?樱岚karu:?1个小电视飞船，点击前往TA的房间去抽奖吧', 'msg_common': '全区广播：<%C酱呀_%>送给<%樱岚karu%>1个小电视飞船，点击前往TA的房间去抽奖吧', 'msg_self': '全区广播：<%C酱呀_%>送给<%樱岚karu%>1个小电视飞船，快来抽奖吧', 'rep': 1, 'styleType': 2, 'url': 'http://live.bilibili.com/413', 'roomid': 413, 'real_roomid': 635644, 'rnd': 767406262, 'broadcast_type': 0}\n",
      "{'cmd': 'NOTICE_MSG', 'full': {'head_icon': 'http://i0.hdslb.com/bfs/live/b29add66421580c3e680d784a827202e512a40a0.webp', 'tail_icon': 'http://i0.hdslb.com/bfs/live/822da481fdaba986d738db5d8fd469ffa95a8fa1.webp', 'head_icon_fa': 'http://i0.hdslb.com/bfs/live/49869a52d6225a3e70bbf1f4da63f199a95384b2.png', 'tail_icon_fa': 'http://i0.hdslb.com/bfs/live/38cb2a9f1209b16c0f15162b0b553e3b28d9f16f.png', 'head_icon_fan': 24, 'tail_icon_fan': 4, 'background': '#66A74EFF', 'color': '#FFFFFFFF', 'highlight': '#FDFF2FFF', 'time': 20}, 'half': {'head_icon': 'http://i0.hdslb.com/bfs/live/ec9b374caec5bd84898f3780a10189be96b86d4e.png', 'tail_icon': '', 'background': '#85B971FF', 'color': '#FFFFFFFF', 'highlight': '#FDFF2FFF', 'time': 15}, 'side': {'head_icon': 'http://i0.hdslb.com/bfs/live/e41c7e12b1e08724d2ab2f369515132d30fe1ef7.png', 'background': '#F4FDE8FF', 'color': '#79B48EFF', 'highlight': '#388726FF', 'border': '#A9DA9FFF'}, 'roomid': 413, 'real_roomid': 635644, 'msg_common': '全区广播：<%C酱呀_%>送给<%樱岚karu%>1个小电视飞船，点击前往TA的房间去抽奖吧', 'msg_self': '全区广播：<%C酱呀_%>送给<%樱岚karu%>1个小电视飞船，快来抽奖吧', 'link_url': 'http://live.bilibili.com/413?live_lottery_type=1&broadcast_type=0&from=28003&extra_jump_from=28003', 'msg_type': 2, 'shield_uid': -1}\n"
     ]
    },
    {
     "name": "stderr",
     "output_type": "stream",
     "text": [
      "send: b'\\x81\\x9faA\\xac\\x82aA\\xac\\x9daQ\\xac\\x83aA\\xac\\x80aA\\xac\\x83:.\\xce\\xe8\\x04\"\\xd8\\xa2.#\\xc6\\xe7\\x025\\xf1'\n"
     ]
    },
    {
     "name": "stdout",
     "output_type": "stream",
     "text": [
      "当前观众：1\n"
     ]
    },
    {
     "name": "stderr",
     "output_type": "stream",
     "text": [
      "send: b'\\x81\\x9fQ\\xe0A\\xe2Q\\xe0A\\xfdQ\\xf0A\\xe3Q\\xe0A\\xe0Q\\xe0A\\xe3\\n\\x8f#\\x884\\x835\\xc2\\x1e\\x82+\\x872\\x94\\x1c'\n"
     ]
    },
    {
     "name": "stdout",
     "output_type": "stream",
     "text": [
      "当前观众：1\n"
     ]
    },
    {
     "name": "stderr",
     "output_type": "stream",
     "text": [
      "send: b'\\x81\\x9f\\xca\\x01\\xa0\\x85\\xca\\x01\\xa0\\x9a\\xca\\x11\\xa0\\x84\\xca\\x01\\xa0\\x87\\xca\\x01\\xa0\\x84\\x91n\\xc2\\xef\\xafb\\xd4\\xa5\\x85c\\xca\\xe0\\xa9u\\xfd'\n"
     ]
    },
    {
     "name": "stdout",
     "output_type": "stream",
     "text": [
      "当前观众：1\n"
     ]
    },
    {
     "name": "stderr",
     "output_type": "stream",
     "text": [
      "send: b'\\x81\\x9f\\x7f\\x16\\x9b\\xd9\\x7f\\x16\\x9b\\xc6\\x7f\\x06\\x9b\\xd8\\x7f\\x16\\x9b\\xdb\\x7f\\x16\\x9b\\xd8$y\\xf9\\xb3\\x1au\\xef\\xf90t\\xf1\\xbc\\x1cb\\xc6'\n"
     ]
    },
    {
     "name": "stdout",
     "output_type": "stream",
     "text": [
      "当前观众：1\n"
     ]
    },
    {
     "name": "stderr",
     "output_type": "stream",
     "text": [
      "send: b'\\x81\\x9fg\\x8c\\xc9Lg\\x8c\\xc9Sg\\x9c\\xc9Mg\\x8c\\xc9Ng\\x8c\\xc9M<\\xe3\\xab&\\x02\\xef\\xbdl(\\xee\\xa3)\\x04\\xf8\\x94'\n"
     ]
    },
    {
     "name": "stdout",
     "output_type": "stream",
     "text": [
      "当前观众：1\n"
     ]
    },
    {
     "name": "stderr",
     "output_type": "stream",
     "text": [
      "send: b'\\x81\\x9f\\r\\x9aW\"\\r\\x9aW=\\r\\x8aW#\\r\\x9aW \\r\\x9aW#V\\xf55Hh\\xf9#\\x02B\\xf8=Gn\\xee\\n'\n"
     ]
    },
    {
     "name": "stdout",
     "output_type": "stream",
     "text": [
      "当前观众：1\n",
      "{'cmd': 'SYS_MSG', 'msg': '__熙染__:?送给:?樱岚karu:?1个小电视飞船，点击前往TA的房间去抽奖吧', 'msg_text': '__熙染__:?送给:?樱岚karu:?1个小电视飞船，点击前往TA的房间去抽奖吧', 'msg_common': '全区广播：<%__熙染__%>送给<%樱岚karu%>1个小电视飞船，点击前往TA的房间去抽奖吧', 'msg_self': '全区广播：<%__熙染__%>送给<%樱岚karu%>1个小电视飞船，快来抽奖吧', 'rep': 1, 'styleType': 2, 'url': 'http://live.bilibili.com/413', 'roomid': 413, 'real_roomid': 635644, 'rnd': 1560436425, 'broadcast_type': 0}\n",
      "{'cmd': 'NOTICE_MSG', 'full': {'head_icon': 'http://i0.hdslb.com/bfs/live/b29add66421580c3e680d784a827202e512a40a0.webp', 'tail_icon': 'http://i0.hdslb.com/bfs/live/822da481fdaba986d738db5d8fd469ffa95a8fa1.webp', 'head_icon_fa': 'http://i0.hdslb.com/bfs/live/49869a52d6225a3e70bbf1f4da63f199a95384b2.png', 'tail_icon_fa': 'http://i0.hdslb.com/bfs/live/38cb2a9f1209b16c0f15162b0b553e3b28d9f16f.png', 'head_icon_fan': 24, 'tail_icon_fan': 4, 'background': '#66A74EFF', 'color': '#FFFFFFFF', 'highlight': '#FDFF2FFF', 'time': 20}, 'half': {'head_icon': 'http://i0.hdslb.com/bfs/live/ec9b374caec5bd84898f3780a10189be96b86d4e.png', 'tail_icon': '', 'background': '#85B971FF', 'color': '#FFFFFFFF', 'highlight': '#FDFF2FFF', 'time': 15}, 'side': {'head_icon': 'http://i0.hdslb.com/bfs/live/e41c7e12b1e08724d2ab2f369515132d30fe1ef7.png', 'background': '#F4FDE8FF', 'color': '#79B48EFF', 'highlight': '#388726FF', 'border': '#A9DA9FFF'}, 'roomid': 413, 'real_roomid': 635644, 'msg_common': '全区广播：<%__熙染__%>送给<%樱岚karu%>1个小电视飞船，点击前往TA的房间去抽奖吧', 'msg_self': '全区广播：<%__熙染__%>送给<%樱岚karu%>1个小电视飞船，快来抽奖吧', 'link_url': 'http://live.bilibili.com/413?live_lottery_type=1&broadcast_type=0&from=28003&extra_jump_from=28003', 'msg_type': 2, 'shield_uid': -1}\n"
     ]
    },
    {
     "name": "stderr",
     "output_type": "stream",
     "text": [
      "send: b'\\x81\\x9f\\x86\\x7f)\\xc0\\x86\\x7f)\\xdf\\x86o)\\xc1\\x86\\x7f)\\xc2\\x86\\x7f)\\xc1\\xdd\\x10K\\xaa\\xe3\\x1c]\\xe0\\xc9\\x1dC\\xa5\\xe5\\x0bt'\n"
     ]
    },
    {
     "name": "stdout",
     "output_type": "stream",
     "text": [
      "当前观众：1\n"
     ]
    },
    {
     "name": "stderr",
     "output_type": "stream",
     "text": [
      "send: b'\\x81\\x9f^\\xe3\\x06\\xc9^\\xe3\\x06\\xd6^\\xf3\\x06\\xc8^\\xe3\\x06\\xcb^\\xe3\\x06\\xc8\\x05\\x8cd\\xa3;\\x80r\\xe9\\x11\\x81l\\xac=\\x97['\n"
     ]
    },
    {
     "name": "stdout",
     "output_type": "stream",
     "text": [
      "当前观众：1\n"
     ]
    },
    {
     "name": "stderr",
     "output_type": "stream",
     "text": [
      "send: b'\\x81\\x9fy$=\\x1by$=\\x04y4=\\x1ay$=\\x19y$=\\x1a\"K_q\\x1cGI;6FW~\\x1aP`'\n"
     ]
    },
    {
     "name": "stdout",
     "output_type": "stream",
     "text": [
      "当前观众：1\n"
     ]
    },
    {
     "name": "stderr",
     "output_type": "stream",
     "text": [
      "send: b'\\x81\\x9f\\xa4\\xecF9\\xa4\\xecF&\\xa4\\xfcF8\\xa4\\xecF;\\xa4\\xecF8\\xff\\x83$S\\xc1\\x8f2\\x19\\xeb\\x8e,\\\\\\xc7\\x98\\x1b'\n"
     ]
    },
    {
     "name": "stdout",
     "output_type": "stream",
     "text": [
      "当前观众：1\n"
     ]
    },
    {
     "name": "stderr",
     "output_type": "stream",
     "text": [
      "send: b'\\x81\\x9fG\\x8a\\xd1JG\\x8a\\xd1UG\\x9a\\xd1KG\\x8a\\xd1HG\\x8a\\xd1K\\x1c\\xe5\\xb3 \"\\xe9\\xa5j\\x08\\xe8\\xbb/$\\xfe\\x8c'\n"
     ]
    },
    {
     "name": "stdout",
     "output_type": "stream",
     "text": [
      "当前观众：1\n",
      "{'cmd': 'SYS_MSG', 'msg': ' :?主播:?i御十二:?开启了“任意门”，点击前往TA的房间去抽奖吧！', 'msg_text': ' :?主播:?i御十二:?开启了“任意门”，点击前往TA的房间去抽奖吧！', 'msg_common': '全区广播：主播<%i御十二%>开启了“任意门”，点击前往TA的房间去抽奖吧！', 'msg_self': '全区广播：主播<%i御十二%>开启了“任意门”，快来抽奖吧！', 'rep': 1, 'styleType': 2, 'url': 'http://live.bilibili.com/757349', 'roomid': 757349, 'real_roomid': 757349, 'rnd': 85439249, 'broadcast_type': 0}\n",
      "{'cmd': 'NOTICE_MSG', 'full': {'head_icon': 'http://i0.hdslb.com/bfs/live/a3e164513bd030f1113a8fbe1165454880c3ee4c.webp', 'tail_icon': 'http://i0.hdslb.com/bfs/live/822da481fdaba986d738db5d8fd469ffa95a8fa1.webp', 'head_icon_fa': 'http://i0.hdslb.com/bfs/live/28c2f3dd68170391d173ca2efd02bdabc917df26.png', 'tail_icon_fa': 'http://i0.hdslb.com/bfs/live/38cb2a9f1209b16c0f15162b0b553e3b28d9f16f.png', 'head_icon_fan': 1, 'tail_icon_fan': 4, 'background': '#8675F5FF', 'color': '#FFFFFFFF', 'highlight': '#FDFF2FFF', 'time': 20}, 'half': {'head_icon': 'http://i0.hdslb.com/bfs/live/df00be5ee88c4cd53514090a58f8702368b9a324.png', 'tail_icon': '', 'background': '#9299F2FF', 'color': '#FFFFFFFF', 'highlight': '#FDFF2FFF', 'time': 15}, 'side': {'head_icon': '', 'background': '', 'color': '', 'highlight': '', 'border': ''}, 'roomid': 757349, 'real_roomid': 757349, 'msg_common': '全区广播：主播<%i御十二%>开启了“任意门”，点击前往TA的房间去抽奖吧！', 'msg_self': '全区广播：主播<%i御十二%>开启了“任意门”，快来抽奖吧！', 'link_url': 'http://live.bilibili.com/757349?live_lottery_type=1&broadcast_type=0&from=28003&extra_jump_from=28003', 'msg_type': 8, 'shield_uid': -1}\n"
     ]
    },
    {
     "name": "stderr",
     "output_type": "stream",
     "text": [
      "send: b'\\x81\\x9f\\xcb\\xa0c\\x0c\\xcb\\xa0c\\x13\\xcb\\xb0c\\r\\xcb\\xa0c\\x0e\\xcb\\xa0c\\r\\x90\\xcf\\x01f\\xae\\xc3\\x17,\\x84\\xc2\\ti\\xa8\\xd4>'\n"
     ]
    },
    {
     "name": "stdout",
     "output_type": "stream",
     "text": [
      "当前观众：1\n"
     ]
    },
    {
     "name": "stderr",
     "output_type": "stream",
     "text": [
      "send: b'\\x81\\x9f\\x8d\\xf1\\xe9\\xf9\\x8d\\xf1\\xe9\\xe6\\x8d\\xe1\\xe9\\xf8\\x8d\\xf1\\xe9\\xfb\\x8d\\xf1\\xe9\\xf8\\xd6\\x9e\\x8b\\x93\\xe8\\x92\\x9d\\xd9\\xc2\\x93\\x83\\x9c\\xee\\x85\\xb4'\n"
     ]
    },
    {
     "name": "stdout",
     "output_type": "stream",
     "text": [
      "当前观众：1\n"
     ]
    },
    {
     "name": "stderr",
     "output_type": "stream",
     "text": [
      "send: b'\\x81\\x9f]\\x8e\\xf0\\xf8]\\x8e\\xf0\\xe7]\\x9e\\xf0\\xf9]\\x8e\\xf0\\xfa]\\x8e\\xf0\\xf9\\x06\\xe1\\x92\\x928\\xed\\x84\\xd8\\x12\\xec\\x9a\\x9d>\\xfa\\xad'\n"
     ]
    },
    {
     "name": "stdout",
     "output_type": "stream",
     "text": [
      "当前观众：1\n"
     ]
    },
    {
     "name": "stderr",
     "output_type": "stream",
     "text": [
      "send: b'\\x81\\x9f\\x1c\\x0f\\xa6\\xc3\\x1c\\x0f\\xa6\\xdc\\x1c\\x1f\\xa6\\xc2\\x1c\\x0f\\xa6\\xc1\\x1c\\x0f\\xa6\\xc2G`\\xc4\\xa9yl\\xd2\\xe3Sm\\xcc\\xa6\\x7f{\\xfb'\n"
     ]
    },
    {
     "name": "stdout",
     "output_type": "stream",
     "text": [
      "当前观众：1\n"
     ]
    },
    {
     "name": "stderr",
     "output_type": "stream",
     "text": [
      "send: b'\\x81\\x9fUI\\x8d\"UI\\x8d=UY\\x8d#UI\\x8d UI\\x8d#\\x0e&\\xefH0*\\xf9\\x02\\x1a+\\xe7G6=\\xd0'\n"
     ]
    },
    {
     "name": "stdout",
     "output_type": "stream",
     "text": [
      "当前观众：1\n"
     ]
    },
    {
     "name": "stderr",
     "output_type": "stream",
     "text": [
      "send: b'\\x81\\x9f\\xe1\\xb9:^\\xe1\\xb9:A\\xe1\\xa9:_\\xe1\\xb9:\\\\\\xe1\\xb9:_\\xba\\xd6X4\\x84\\xdaN~\\xae\\xdbP;\\x82\\xcdg'\n"
     ]
    },
    {
     "name": "stdout",
     "output_type": "stream",
     "text": [
      "当前观众：1\n"
     ]
    },
    {
     "name": "stderr",
     "output_type": "stream",
     "text": [
      "send: b'\\x81\\x9flz\\xadklz\\xadtlj\\xadjlz\\xadilz\\xadj7\\x15\\xcf\\x01\\t\\x19\\xd9K#\\x18\\xc7\\x0e\\x0f\\x0e\\xf0'\n"
     ]
    },
    {
     "name": "stdout",
     "output_type": "stream",
     "text": [
      "当前观众：1\n",
      "{'cmd': 'SYS_MSG', 'msg': '这是我老公--大宝贝:?送给:?小天不是受QAQ:?1个小电视飞船，点击前往TA的房间去抽奖吧', 'msg_text': '这是我老公--大宝贝:?送给:?小天不是受QAQ:?1个小电视飞船，点击前往TA的房间去抽奖吧', 'msg_common': '全区广播：<%这是我老公--大宝贝%>送给<%小天不是受QAQ%>1个小电视飞船，点击前往TA的房间去抽奖吧', 'msg_self': '全区广播：<%这是我老公--大宝贝%>送给<%小天不是受QAQ%>1个小电视飞船，快来抽奖吧', 'rep': 1, 'styleType': 2, 'url': 'http://live.bilibili.com/339', 'roomid': 339, 'real_roomid': 92075, 'rnd': 1973319128, 'broadcast_type': 0}\n",
      "{'cmd': 'NOTICE_MSG', 'full': {'head_icon': 'http://i0.hdslb.com/bfs/live/b29add66421580c3e680d784a827202e512a40a0.webp', 'tail_icon': 'http://i0.hdslb.com/bfs/live/822da481fdaba986d738db5d8fd469ffa95a8fa1.webp', 'head_icon_fa': 'http://i0.hdslb.com/bfs/live/49869a52d6225a3e70bbf1f4da63f199a95384b2.png', 'tail_icon_fa': 'http://i0.hdslb.com/bfs/live/38cb2a9f1209b16c0f15162b0b553e3b28d9f16f.png', 'head_icon_fan': 24, 'tail_icon_fan': 4, 'background': '#66A74EFF', 'color': '#FFFFFFFF', 'highlight': '#FDFF2FFF', 'time': 20}, 'half': {'head_icon': 'http://i0.hdslb.com/bfs/live/ec9b374caec5bd84898f3780a10189be96b86d4e.png', 'tail_icon': '', 'background': '#85B971FF', 'color': '#FFFFFFFF', 'highlight': '#FDFF2FFF', 'time': 15}, 'side': {'head_icon': 'http://i0.hdslb.com/bfs/live/e41c7e12b1e08724d2ab2f369515132d30fe1ef7.png', 'background': '#F4FDE8FF', 'color': '#79B48EFF', 'highlight': '#388726FF', 'border': '#A9DA9FFF'}, 'roomid': 339, 'real_roomid': 92075, 'msg_common': '全区广播：<%这是我老公--大宝贝%>送给<%小天不是受QAQ%>1个小电视飞船，点击前往TA的房间去抽奖吧', 'msg_self': '全区广播：<%这是我老公--大宝贝%>送给<%小天不是受QAQ%>1个小电视飞船，快来抽奖吧', 'link_url': 'http://live.bilibili.com/339?live_lottery_type=1&broadcast_type=0&from=28003&extra_jump_from=28003', 'msg_type': 2, 'shield_uid': -1}\n"
     ]
    },
    {
     "name": "stderr",
     "output_type": "stream",
     "text": [
      "send: b'\\x81\\x9f\\x80\\x13\\xb5\\xe8\\x80\\x13\\xb5\\xf7\\x80\\x03\\xb5\\xe9\\x80\\x13\\xb5\\xea\\x80\\x13\\xb5\\xe9\\xdb|\\xd7\\x82\\xe5p\\xc1\\xc8\\xcfq\\xdf\\x8d\\xe3g\\xe8'\n"
     ]
    },
    {
     "name": "stdout",
     "output_type": "stream",
     "text": [
      "当前观众：1\n"
     ]
    },
    {
     "name": "stderr",
     "output_type": "stream",
     "text": [
      "send: b'\\x81\\x9f\\xc5\\xdb\\xa4\\xab\\xc5\\xdb\\xa4\\xb4\\xc5\\xcb\\xa4\\xaa\\xc5\\xdb\\xa4\\xa9\\xc5\\xdb\\xa4\\xaa\\x9e\\xb4\\xc6\\xc1\\xa0\\xb8\\xd0\\x8b\\x8a\\xb9\\xce\\xce\\xa6\\xaf\\xf9'\n"
     ]
    },
    {
     "name": "stdout",
     "output_type": "stream",
     "text": [
      "当前观众：1\n"
     ]
    },
    {
     "name": "stderr",
     "output_type": "stream",
     "text": [
      "send: b'\\x81\\x9f\\x19\\x14e\\x99\\x19\\x14e\\x86\\x19\\x04e\\x98\\x19\\x14e\\x9b\\x19\\x14e\\x98B{\\x07\\xf3|w\\x11\\xb9Vv\\x0f\\xfcz`8'\n"
     ]
    },
    {
     "name": "stdout",
     "output_type": "stream",
     "text": [
      "当前观众：1\n"
     ]
    },
    {
     "name": "stderr",
     "output_type": "stream",
     "text": [
      "send: b'\\x81\\x9f8G?c8G?|8W?b8G?a8G?bc(]\\t]$KCw%U\\x06[3b'\n"
     ]
    },
    {
     "name": "stdout",
     "output_type": "stream",
     "text": [
      "当前观众：1\n",
      "{'cmd': 'SYS_MSG', 'msg': ' :?主播:?筱晴QAQ:?开启了“任意门”，点击前往TA的房间去抽奖吧！', 'msg_text': ' :?主播:?筱晴QAQ:?开启了“任意门”，点击前往TA的房间去抽奖吧！', 'msg_common': '全区广播：主播<%筱晴QAQ%>开启了“任意门”，点击前往TA的房间去抽奖吧！', 'msg_self': '全区广播：主播<%筱晴QAQ%>开启了“任意门”，快来抽奖吧！', 'rep': 1, 'styleType': 2, 'url': 'http://live.bilibili.com/10116204', 'roomid': 10116204, 'real_roomid': 10116204, 'rnd': 37399634, 'broadcast_type': 0}\n",
      "{'cmd': 'NOTICE_MSG', 'full': {'head_icon': 'http://i0.hdslb.com/bfs/live/a3e164513bd030f1113a8fbe1165454880c3ee4c.webp', 'tail_icon': 'http://i0.hdslb.com/bfs/live/822da481fdaba986d738db5d8fd469ffa95a8fa1.webp', 'head_icon_fa': 'http://i0.hdslb.com/bfs/live/28c2f3dd68170391d173ca2efd02bdabc917df26.png', 'tail_icon_fa': 'http://i0.hdslb.com/bfs/live/38cb2a9f1209b16c0f15162b0b553e3b28d9f16f.png', 'head_icon_fan': 1, 'tail_icon_fan': 4, 'background': '#8675F5FF', 'color': '#FFFFFFFF', 'highlight': '#FDFF2FFF', 'time': 20}, 'half': {'head_icon': 'http://i0.hdslb.com/bfs/live/df00be5ee88c4cd53514090a58f8702368b9a324.png', 'tail_icon': '', 'background': '#9299F2FF', 'color': '#FFFFFFFF', 'highlight': '#FDFF2FFF', 'time': 15}, 'side': {'head_icon': '', 'background': '', 'color': '', 'highlight': '', 'border': ''}, 'roomid': 10116204, 'real_roomid': 10116204, 'msg_common': '全区广播：主播<%筱晴QAQ%>开启了“任意门”，点击前往TA的房间去抽奖吧！', 'msg_self': '全区广播：主播<%筱晴QAQ%>开启了“任意门”，快来抽奖吧！', 'link_url': 'http://live.bilibili.com/10116204?live_lottery_type=1&broadcast_type=0&from=28003&extra_jump_from=28003', 'msg_type': 8, 'shield_uid': -1}\n"
     ]
    },
    {
     "name": "stderr",
     "output_type": "stream",
     "text": [
      "send: b'\\x81\\x9f8\\x94\\xdd\\xe18\\x94\\xdd\\xfe8\\x84\\xdd\\xe08\\x94\\xdd\\xe38\\x94\\xdd\\xe0c\\xfb\\xbf\\x8b]\\xf7\\xa9\\xc1w\\xf6\\xb7\\x84[\\xe0\\x80'\n",
      "send: b'\\x88\\x82P\\x88bNS`'\n"
     ]
    },
    {
     "name": "stdout",
     "output_type": "stream",
     "text": [
      "\n",
      "### closed ###\n"
     ]
    }
   ],
   "source": [
    "def on_message(ws, message):\n",
    "    [handler(i,True) for i in decode_msg(message)]\n",
    "\n",
    "def on_error(ws, error):\n",
    "    print(error)\n",
    "\n",
    "def on_close(ws):\n",
    "    print(\"### closed ###\")\n",
    "\n",
    "def on_open(ws):\n",
    "    def run(*args):\n",
    "        ws.send(bytes(send1))\n",
    "        while True:\n",
    "            ws.send(bytes(send2))\n",
    "            time.sleep(30)\n",
    "    thread.start_new_thread(run, ())\n",
    "\n",
    "\n",
    "if __name__ == \"__main__\":\n",
    "    websocket.enableTrace(True)\n",
    "    ws = websocket.WebSocketApp(websocket_url,\n",
    "                              on_message = on_message,\n",
    "                              on_error = on_error,\n",
    "                              on_close = on_close)\n",
    "    ws.on_open = on_open\n",
    "    ws.run_forever()"
   ]
  },
  {
   "cell_type": "code",
   "execution_count": null,
   "metadata": {},
   "outputs": [],
   "source": [
    "with open(user_gift_dir,'wb') as f:\n",
    "    pickle.dump(user_gift,f)"
   ]
  }
 ],
 "metadata": {
  "kernelspec": {
   "display_name": "Python 3",
   "language": "python",
   "name": "python3"
  },
  "language_info": {
   "codemirror_mode": {
    "name": "ipython",
    "version": 3
   },
   "file_extension": ".py",
   "mimetype": "text/x-python",
   "name": "python",
   "nbconvert_exporter": "python",
   "pygments_lexer": "ipython3",
   "version": "3.6.5"
  }
 },
 "nbformat": 4,
 "nbformat_minor": 2
}
